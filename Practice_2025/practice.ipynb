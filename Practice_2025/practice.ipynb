{
 "cells": [
  {
   "metadata": {
    "ExecuteTime": {
     "end_time": "2025-02-09T08:04:51.545264Z",
     "start_time": "2025-02-09T08:04:51.541769Z"
    }
   },
   "cell_type": "code",
   "source": [
    "a = 321\n",
    "b = 12\n",
    "print(a + b)  # 333\n",
    "print(a - b)  # 309\n",
    "print(a * b)  # 3852\n",
    "print(a / b)  # 26.75"
   ],
   "id": "33f1c804331b66dd",
   "outputs": [
    {
     "name": "stdout",
     "output_type": "stream",
     "text": [
      "333\n",
      "309\n",
      "3852\n",
      "26.75\n"
     ]
    }
   ],
   "execution_count": 232
  },
  {
   "metadata": {
    "ExecuteTime": {
     "end_time": "2025-02-08T01:40:32.231217Z",
     "start_time": "2025-02-08T01:40:32.228735Z"
    }
   },
   "cell_type": "code",
   "source": [
    "a = 100\n",
    "b = 12.345\n",
    "c = 1 + 5j\n",
    "d = 'hello, world'\n",
    "e = True\n",
    "print(type(a))  # <class 'int'>\n",
    "print(type(b))  # <class 'float'>\n",
    "print(type(c))  # <class 'complex'>\n",
    "print(type(d))  # <class 'str'>\n",
    "print(type(e))  # <class 'bool'>"
   ],
   "id": "538657943dbd7087",
   "outputs": [
    {
     "name": "stdout",
     "output_type": "stream",
     "text": [
      "<class 'int'>\n",
      "<class 'float'>\n",
      "<class 'complex'>\n",
      "<class 'str'>\n",
      "<class 'bool'>\n"
     ]
    }
   ],
   "execution_count": 19
  },
  {
   "metadata": {},
   "cell_type": "code",
   "outputs": [],
   "execution_count": null,
   "source": [
    "a = 100\n",
    "b = 12.345\n",
    "c = 1 + 5j\n",
    "d = 'hello, world'\n",
    "e = True\n",
    "print(type(a))  # <class 'int'>\n",
    "print(type(b))  # <class 'float'>\n",
    "print(type(c))  # <class 'complex'>\n",
    "print(type(d))  # <class 'str'>\n",
    "print(type(e))  # <class 'bool'>"
   ],
   "id": "83e707dfc8de74ee"
  },
  {
   "metadata": {
    "ExecuteTime": {
     "end_time": "2025-02-09T04:58:10.484232Z",
     "start_time": "2025-02-09T04:58:06.557675Z"
    }
   },
   "cell_type": "code",
   "source": [
    "def fac(num):  #阶乘\n",
    "    result = 1\n",
    "    for i in range(1, num + 1):\n",
    "        result *= i\n",
    "    return result\n",
    "\n",
    "\n",
    "m = int(input('m='))\n",
    "n = int(input('n='))\n",
    "print(fac(m))\n",
    "print(fac(n))\n"
   ],
   "id": "51fb9ac57d21ad82",
   "outputs": [
    {
     "name": "stdout",
     "output_type": "stream",
     "text": [
      "120\n",
      "6\n"
     ]
    }
   ],
   "execution_count": 2
  },
  {
   "metadata": {
    "ExecuteTime": {
     "end_time": "2025-02-09T05:13:50.585195Z",
     "start_time": "2025-02-09T05:13:50.581184Z"
    }
   },
   "cell_type": "code",
   "source": [
    "from random import randint\n",
    "\n",
    "\n",
    "def roll(n=2):\n",
    "    result = 0\n",
    "    total = 0\n",
    "    for _ in range(n):\n",
    "        result = randint(1, 6)\n",
    "        print('第%d次结果是%d' % (_ + 1, result))\n",
    "        total = result + total\n",
    "    print('结果之和是%d' % total)\n",
    "    return total\n",
    "\n",
    "\n",
    "roll()\n",
    "roll(3)\n",
    "\n",
    "\n",
    "# roll(int(input('请输入次数:')))\n",
    "\n",
    "def add(a=0, b=0, c=0):\n",
    "    return a + b + c\n",
    "\n",
    "\n",
    "add(1, 3)"
   ],
   "id": "bbc763aea1836964",
   "outputs": [
    {
     "name": "stdout",
     "output_type": "stream",
     "text": [
      "第1次结果是4\n",
      "第2次结果是4\n",
      "结果之和是8\n",
      "第1次结果是6\n",
      "第2次结果是2\n",
      "第3次结果是3\n",
      "结果之和是11\n"
     ]
    },
    {
     "data": {
      "text/plain": [
       "4"
      ]
     },
     "execution_count": 33,
     "metadata": {},
     "output_type": "execute_result"
    }
   ],
   "execution_count": 33
  },
  {
   "metadata": {},
   "cell_type": "markdown",
   "source": "### 可变参数",
   "id": "cf823af5851aeb84"
  },
  {
   "metadata": {
    "ExecuteTime": {
     "end_time": "2025-02-09T05:19:41.040368Z",
     "start_time": "2025-02-09T05:19:41.038020Z"
    }
   },
   "cell_type": "code",
   "source": [
    "def add(*ab):\n",
    "    total = 0\n",
    "    for _ in ab:\n",
    "        total += _\n",
    "    print(total)\n",
    "\n",
    "\n",
    "add(1, 2, 3, 4, 10)"
   ],
   "id": "6b0fee7b7ef096bd",
   "outputs": [
    {
     "name": "stdout",
     "output_type": "stream",
     "text": [
      "20\n"
     ]
    }
   ],
   "execution_count": 43
  },
  {
   "metadata": {
    "ExecuteTime": {
     "end_time": "2025-02-09T05:26:22.633017Z",
     "start_time": "2025-02-09T05:26:22.630240Z"
    }
   },
   "cell_type": "code",
   "source": [
    "def foo():\n",
    "    print('hello, world!')\n",
    "\n",
    "\n",
    "def foo():\n",
    "    print('goodbye, world!')\n",
    "\n",
    "\n",
    "# 下面的代码会输出什么呢？ 后一个会覆盖前一个\n",
    "foo()"
   ],
   "id": "14c443031a624a68",
   "outputs": [
    {
     "name": "stdout",
     "output_type": "stream",
     "text": [
      "goodbye, world!\n"
     ]
    }
   ],
   "execution_count": 47
  },
  {
   "metadata": {
    "ExecuteTime": {
     "end_time": "2025-02-09T07:59:45.947387Z",
     "start_time": "2025-02-09T07:59:45.943805Z"
    }
   },
   "cell_type": "code",
   "source": [
    "import mould1 as m1\n",
    "import mould2 as m2\n",
    "\n",
    "m1.foo()\n",
    "m2.foo()"
   ],
   "id": "c3e19b094fa23097",
   "outputs": [
    {
     "name": "stdout",
     "output_type": "stream",
     "text": [
      "hello world\n",
      "good night\n"
     ]
    }
   ],
   "execution_count": 215
  },
  {
   "metadata": {
    "ExecuteTime": {
     "end_time": "2025-02-09T07:59:39.032834Z",
     "start_time": "2025-02-09T07:59:39.029812Z"
    }
   },
   "cell_type": "code",
   "source": [
    "import mould1\n",
    "\n",
    "mould1.foo()"
   ],
   "id": "fcbc21f0370d401f",
   "outputs": [
    {
     "name": "stdout",
     "output_type": "stream",
     "text": [
      "hello world\n"
     ]
    }
   ],
   "execution_count": 212
  },
  {
   "metadata": {},
   "cell_type": "markdown",
   "source": [
    "### __name__='__main__'用法\n",
    "###### __name__是Python中一个隐含的变量它代表了模块的名字\n",
    "###### 只有被Python解释器直接执行的模块的名字才是__main__\n",
    "###### 导入module3时 不会执行模块中if条件成立时的代码 因为模块的名字是module3而不是__main__"
   ],
   "id": "9c5b00373d030dd7"
  },
  {
   "metadata": {
    "ExecuteTime": {
     "end_time": "2025-02-09T08:06:33.033391Z",
     "start_time": "2025-02-09T08:06:33.029819Z"
    }
   },
   "cell_type": "code",
   "source": [
    "import mould3 as m3\n",
    "m3.foo()"
   ],
   "id": "b00cc4d1b5ff1b23",
   "outputs": [
    {
     "name": "stdout",
     "output_type": "stream",
     "text": [
      "hello world\n"
     ]
    }
   ],
   "execution_count": 5
  },
  {
   "metadata": {},
   "cell_type": "markdown",
   "source": "### 全局变量 局部变量",
   "id": "a1b686811f8d6133"
  },
  {
   "metadata": {
    "ExecuteTime": {
     "end_time": "2025-02-09T07:33:40.723014Z",
     "start_time": "2025-02-09T07:33:40.719625Z"
    }
   },
   "cell_type": "code",
   "source": [
    "def foo():\n",
    "    a = 200\n",
    "    print(a)  # 200\n",
    "\n",
    "\n",
    "if __name__ == '__main__':\n",
    "    a = 100\n",
    "    foo()  #这里打印了局部函数的a， 局部函数里的局部变量a和全局变量a不一样，虽然都是a\n",
    "    print(a)  # 100 这里的a是全局变量"
   ],
   "id": "82db2259f5a6a934",
   "outputs": [
    {
     "name": "stdout",
     "output_type": "stream",
     "text": [
      "200\n",
      "100\n"
     ]
    }
   ],
   "execution_count": 135
  },
  {
   "metadata": {
    "ExecuteTime": {
     "end_time": "2025-02-09T07:37:32.523186Z",
     "start_time": "2025-02-09T07:37:32.520190Z"
    }
   },
   "cell_type": "code",
   "source": [
    "def foo():\n",
    "    global a\n",
    "    a = 200\n",
    "    print(a)  # 200\n",
    "\n",
    "\n",
    "if __name__ == '__main__':\n",
    "    a = 100\n",
    "    foo()  #这里foo中的定义了全局的a，覆盖了之前的a=100\n",
    "    print(a)  # 100"
   ],
   "id": "3ccb433e2f3b3c9",
   "outputs": [
    {
     "name": "stdout",
     "output_type": "stream",
     "text": [
      "200\n",
      "200\n"
     ]
    }
   ],
   "execution_count": 138
  },
  {
   "metadata": {},
   "cell_type": "markdown",
   "source": "### 字符串之前加r 反斜杠就不表示转义",
   "id": "9290f49c5aa7b6d3"
  },
  {
   "metadata": {
    "ExecuteTime": {
     "end_time": "2025-02-09T14:11:31.684480Z",
     "start_time": "2025-02-09T14:11:31.682623Z"
    }
   },
   "cell_type": "code",
   "source": [
    "s1 = r'\\'hello, world!\\''\n",
    "s2 = r'\\n\\\\hello, world!\\\\\\n'\n",
    "print(s1, s2, end='')"
   ],
   "id": "76dff88e93f57452",
   "outputs": [
    {
     "name": "stdout",
     "output_type": "stream",
     "text": [
      "\\'hello, world!\\' \\n\\\\hello, world!\\\\\\n"
     ]
    }
   ],
   "execution_count": 3
  },
  {
   "metadata": {},
   "cell_type": "markdown",
   "source": "### 字符串里的反斜杠表示转义",
   "id": "34069bf4a3435f6d"
  },
  {
   "metadata": {
    "ExecuteTime": {
     "end_time": "2025-02-09T14:11:29.647914Z",
     "start_time": "2025-02-09T14:11:29.645593Z"
    }
   },
   "cell_type": "code",
   "source": [
    "s1 = '\\'hello, world!\\''\n",
    "s2 = '\\n\\\\hello, world!\\\\\\n'\n",
    "print(s1, s2, end='')"
   ],
   "id": "1c796e66a6d38cb5",
   "outputs": [
    {
     "name": "stdout",
     "output_type": "stream",
     "text": [
      "'hello, world!' \n",
      "\\hello, world!\\\n"
     ]
    }
   ],
   "execution_count": 2
  },
  {
   "metadata": {},
   "cell_type": "markdown",
   "source": "###### Python为字符串类型提供了非常丰富的运算符，我们可以使用+运算符来实现字符串的拼接，可以使用*运算符来重复一个字符串的内容，可以使用in和not in来判断一个字符串是否包含另外一个字符串（成员运算），我们也可以用[]和[:]运算符从字符串取出某个字符或某些字符（切片运算）",
   "id": "cd29e9d64db03b6c"
  },
  {
   "metadata": {
    "ExecuteTime": {
     "end_time": "2025-02-09T14:20:40.673837Z",
     "start_time": "2025-02-09T14:20:40.670984Z"
    }
   },
   "cell_type": "code",
   "source": [
    "s1 = 'hello ' * 3\n",
    "print(s1) # hello hello hello\n",
    "s2 = 'world'\n",
    "s1 += s2\n",
    "print(s1) # hello hello hello world\n",
    "print('ll' in s1) # True\n",
    "print('good' in s1) # False\n",
    "str2 = 'abc123456'\n",
    "# 从字符串中取出指定位置的字符(下标运算)\n",
    "print(str2[2]) # c\n",
    "# 字符串切片(从指定的开始索引到指定的结束索引)\n",
    "print(str2[2:5]) # c12\n",
    "print(str2[2:]) # c123456\n",
    "print(str2[2::2]) # c246\n",
    "print(str2[::2]) # ac246\n",
    "print(str2[::-1]) # 654321cba\n",
    "print(str2[-3:-1]) # 45\n",
    "print(str2[-1]) # 45\n"
   ],
   "id": "8d3909a59e7e48fd",
   "outputs": [
    {
     "name": "stdout",
     "output_type": "stream",
     "text": [
      "hello hello hello \n",
      "hello hello hello world\n",
      "True\n",
      "False\n",
      "c\n",
      "c12\n",
      "c123456\n",
      "c246\n",
      "ac246\n",
      "654321cba\n",
      "45\n",
      "6\n"
     ]
    }
   ],
   "execution_count": 46
  },
  {
   "metadata": {
    "ExecuteTime": {
     "end_time": "2025-02-09T14:21:29.974048Z",
     "start_time": "2025-02-09T14:21:29.970628Z"
    }
   },
   "cell_type": "code",
   "source": [
    "str1 = 'hello, world!'\n",
    "# 通过内置函数len计算字符串的长度\n",
    "print(len(str1)) # 13\n",
    "# 获得字符串首字母大写的拷贝\n",
    "print(str1.capitalize()) # Hello, world!\n",
    "# 获得字符串每个单词首字母大写的拷贝\n",
    "print(str1.title()) # Hello, World!\n",
    "# 获得字符串变大写后的拷贝\n",
    "print(str1.upper()) # HELLO, WORLD!\n",
    "# 从字符串中查找子串所在位置\n",
    "print(str1.find('or')) # 8\n",
    "print(str1.find('shit')) # -1\n",
    "# 与find类似但找不到子串时会引发异常\n",
    "# print(str1.index('or'))\n",
    "# print(str1.index('shit'))\n",
    "# 检查字符串是否以指定的字符串开头\n",
    "print(str1.startswith('He')) # False\n",
    "print(str1.startswith('hel')) # True\n",
    "# 检查字符串是否以指定的字符串结尾\n",
    "print(str1.endswith('!')) # True\n",
    "# 将字符串以指定的宽度居中并在两侧填充指定的字符\n",
    "print(str1.center(50, '*'))\n",
    "# 将字符串以指定的宽度靠右放置左侧填充指定的字符\n",
    "print(str1.rjust(50, ' '))\n",
    "str2 = 'abc123456'\n",
    "# 检查字符串是否由数字构成\n",
    "print(str2.isdigit())  # False\n",
    "# 检查字符串是否以字母构成\n",
    "print(str2.isalpha())  # False\n",
    "# 检查字符串是否以数字和字母构成\n",
    "print(str2.isalnum())  # True\n",
    "str3 = '  jackfrued@126.com '\n",
    "print(str3)\n",
    "# 获得字符串修剪左右两侧空格之后的拷贝\n",
    "print(str3.strip())"
   ],
   "id": "54fd9ee3fc1f59da",
   "outputs": [
    {
     "name": "stdout",
     "output_type": "stream",
     "text": [
      "13\n",
      "Hello, world!\n",
      "Hello, World!\n",
      "HELLO, WORLD!\n",
      "8\n",
      "-1\n",
      "False\n",
      "True\n",
      "True\n",
      "******************hello, world!*******************\n",
      "                                     hello, world!\n",
      "False\n",
      "False\n",
      "True\n",
      "  jackfrued@126.com \n",
      "jackfrued@126.com\n"
     ]
    }
   ],
   "execution_count": 47
  },
  {
   "metadata": {
    "ExecuteTime": {
     "end_time": "2025-02-10T03:39:00.957929Z",
     "start_time": "2025-02-10T03:39:00.954910Z"
    }
   },
   "cell_type": "code",
   "source": [
    "a, b = 5, 10\n",
    "print('%d * %d = %d' % (a, b, a * b))\n",
    "print('{0} * {1} = {2}'.format(a, b, a * b))\n",
    "print(f'{a} * {b} = {a * b}')"
   ],
   "id": "b97deaf9809731c",
   "outputs": [
    {
     "name": "stdout",
     "output_type": "stream",
     "text": [
      "5 * 10 = 50\n",
      "5 * 10 = 50\n",
      "5 * 10 = 50\n"
     ]
    }
   ],
   "execution_count": 5
  },
  {
   "metadata": {},
   "cell_type": "markdown",
   "source": "### 列表、元组、集合和字典。",
   "id": "3d2fd8cf54f96e7b"
  },
  {
   "metadata": {
    "ExecuteTime": {
     "end_time": "2025-02-10T05:13:03.758634Z",
     "start_time": "2025-02-10T05:13:03.755924Z"
    }
   },
   "cell_type": "code",
   "source": [
    "#列表list\n",
    "list1 = [1, 3, 5, 7, 100]\n",
    "print(list1) # [1, 3, 5, 7, 100]\n",
    "# 乘号表示列表元素的重复\n",
    "list2 = ['hello'] * 3\n",
    "print(list2) # ['hello', 'hello', 'hello']\n",
    "# 计算列表长度(元素个数)\n",
    "print(len(list1)) # 5\n",
    "# 下标(索引)运算\n",
    "print(list1[0]) # 1\n",
    "print(list1[4]) # 100\n",
    "# print(list1[5])  # IndexError: list index out of range\n",
    "print(list1[-1]) # 100\n",
    "print(list1[-3]) # 5\n",
    "list1[2] = 300\n",
    "print(list1) # [1, 3, 300, 7, 100]\n",
    "# 通过循环用下标遍历列表元素\n",
    "for index in range(len(list1)):\n",
    "    print(list1[index])\n",
    "# 通过for循环遍历列表元素\n",
    "for elem in list1:\n",
    "    print(elem)\n",
    "# 通过enumerate函数处理列表之后再遍历可以同时获得元素索引和值\n",
    "for index, elem in enumerate(list1):\n",
    "    print(index, elem)"
   ],
   "id": "329a532e6e991b7",
   "outputs": [
    {
     "name": "stdout",
     "output_type": "stream",
     "text": [
      "[1, 3, 5, 7, 100]\n",
      "['hello', 'hello', 'hello']\n",
      "5\n",
      "1\n",
      "100\n",
      "100\n",
      "5\n",
      "[1, 3, 300, 7, 100]\n",
      "1\n",
      "3\n",
      "300\n",
      "7\n",
      "100\n",
      "1\n",
      "3\n",
      "300\n",
      "7\n",
      "100\n",
      "0 1\n",
      "1 3\n",
      "2 300\n",
      "3 7\n",
      "4 100\n"
     ]
    }
   ],
   "execution_count": 17
  },
  {
   "metadata": {},
   "cell_type": "markdown",
   "source": "### 下面的代码演示了如何向列表中添加元素以及如何从列表中移除元素。",
   "id": "8a770506d469343b"
  },
  {
   "metadata": {
    "ExecuteTime": {
     "end_time": "2025-02-10T05:29:19.353336Z",
     "start_time": "2025-02-10T05:29:19.349839Z"
    }
   },
   "cell_type": "code",
   "source": [
    "list1 = [1, 3, 5, 7, 100]\n",
    "# 添加元素\n",
    "list1.append(200)\n",
    "print(list1)\n",
    "list1.insert(1, 400)\n",
    "print(list1)\n",
    "# 合并两个列表\n",
    "# list1.extend([1000, 2000])\n",
    "# print(list1)\n",
    "list1 += [1000, 2000]\n",
    "print(list1) # [1, 400, 3, 5, 7, 100, 200, 1000, 2000]\n",
    "print(len(list1)) # 9\n",
    "\n",
    "if 3 in list1:\n",
    "\tlist1.remove(3)\n",
    "if 1234 in list1:\n",
    "    list1.remove(1234)\n",
    "print(list1) # [1, 400, 5, 7, 100, 200, 1000, 2000]\n",
    "\n",
    "# 从指定的位置删除元素\n",
    "list1.pop(0) #删除第一个位置\n",
    "list1.pop(len(list1) - 1) #删除最后一个位置，最后一个位置的索引号码是长度减一\n",
    "print(list1) # [400, 5, 7, 100, 200, 1000]\n",
    "\n",
    "# 清空列表元素\n",
    "list1.clear()\n",
    "print(list1) # []"
   ],
   "id": "f94fabf20f36b454",
   "outputs": [
    {
     "name": "stdout",
     "output_type": "stream",
     "text": [
      "[1, 3, 5, 7, 100, 200]\n",
      "[1, 400, 3, 5, 7, 100, 200]\n",
      "[1, 400, 3, 5, 7, 100, 200, 1000, 2000]\n",
      "9\n",
      "[1, 400, 5, 7, 100, 200, 1000, 2000]\n",
      "[400, 5, 7, 100, 200, 1000]\n",
      "[]\n"
     ]
    }
   ],
   "execution_count": 26
  },
  {
   "metadata": {},
   "cell_type": "markdown",
   "source": "### 下面的代码实现了对列表的排序操作。",
   "id": "2ba0aab9d50dc758"
  },
  {
   "metadata": {
    "ExecuteTime": {
     "end_time": "2025-02-10T05:34:42.856344Z",
     "start_time": "2025-02-10T05:34:42.853661Z"
    }
   },
   "cell_type": "code",
   "source": [
    "list1 = ['orange', 'apple', 'zoo', 'internationalization', 'blueberry']\n",
    "list2 = sorted(list1)\n",
    "# sorted函数返回列表排序后的拷贝不会修改传入的列表\n",
    "# 函数的设计就应该像sorted函数一样尽可能不产生副作用\n",
    "list3 = sorted(list1, reverse=True)\n",
    "# 通过key关键字参数指定根据字符串长度进行排序而不是默认的字母表顺序\n",
    "list4 = sorted(list1, key=len)\n",
    "print(list1)\n",
    "print(list2)\n",
    "print(list3)\n",
    "print(list4)\n",
    "# 给列表对象发出排序消息直接在列表对象上进行排序\n",
    "list1.sort(reverse=True)\n",
    "print(list1)"
   ],
   "id": "1b7f4d8f33cb4909",
   "outputs": [
    {
     "name": "stdout",
     "output_type": "stream",
     "text": [
      "['orange', 'apple', 'zoo', 'internationalization', 'blueberry']\n",
      "['apple', 'blueberry', 'internationalization', 'orange', 'zoo']\n",
      "['zoo', 'orange', 'internationalization', 'blueberry', 'apple']\n",
      "['zoo', 'apple', 'orange', 'blueberry', 'internationalization']\n",
      "['zoo', 'orange', 'internationalization', 'blueberry', 'apple']\n"
     ]
    }
   ],
   "execution_count": 31
  },
  {
   "metadata": {},
   "cell_type": "markdown",
   "source": "",
   "id": "930d8aa81d3be6e7"
  },
  {
   "metadata": {},
   "cell_type": "code",
   "outputs": [],
   "execution_count": null,
   "source": "",
   "id": "282620180acabf42"
  }
 ],
 "metadata": {
  "kernelspec": {
   "name": "python3",
   "language": "python",
   "display_name": "Python 3 (ipykernel)"
  }
 },
 "nbformat": 5,
 "nbformat_minor": 9
}
