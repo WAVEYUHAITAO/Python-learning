{
 "cells": [
  {
   "cell_type": "code",
   "execution_count": 4,
   "id": "a7a6f5bf05d35079",
   "metadata": {},
   "outputs": [
    {
     "name": "stdout",
     "output_type": "stream",
     "text": [
      "333\n",
      "309\n",
      "3852\n",
      "26.75\n"
     ]
    }
   ],
   "source": [
    "a = 321\n",
    "b = 12\n",
    "print(a + b)  # 333\n",
    "print(a - b)  # 309\n",
    "print(a * b)  # 3852\n",
    "print(a / b)  # 26.75"
   ]
  },
  {
   "cell_type": "code",
   "execution_count": null,
   "id": "6c03898ee2f31e59",
   "metadata": {},
   "outputs": [],
   "source": [
    "a = 100\n",
    "b = 12.345\n",
    "c = 1 + 5j\n",
    "d = 'hello, world'\n",
    "e = True\n",
    "print(type(a))  # <class 'int'>\n",
    "print(type(b))  # <class 'float'>\n",
    "print(type(c))  # <class 'complex'>\n",
    "print(type(d))  # <class 'str'>\n",
    "print(type(e))  # <class 'bool'>"
   ]
  },
  {
   "cell_type": "code",
   "execution_count": null,
   "id": "f5f27dac73c1caa6",
   "metadata": {},
   "outputs": [],
   "source": [
    "a = 100\n",
    "b = 12.345\n",
    "c = 1 + 5j\n",
    "d = 'hello, world'\n",
    "e = True\n",
    "print(type(a))  # <class 'int'>\n",
    "print(type(b))  # <class 'float'>\n",
    "print(type(c))  # <class 'complex'>\n",
    "print(type(d))  # <class 'str'>\n",
    "print(type(e))  # <class 'bool'>"
   ]
  },
  {
   "cell_type": "code",
   "execution_count": null,
   "id": "199b0c286c007786",
   "metadata": {},
   "outputs": [],
   "source": [
    "def fac(num):  #阶乘\n",
    "    result = 1\n",
    "    for i in range(1, num + 1):\n",
    "        result *= i\n",
    "    return result\n",
    "\n",
    "\n",
    "m = int(input('m='))\n",
    "n = int(input('n='))\n",
    "print(fac(m))\n",
    "print(fac(n))\n"
   ]
  },
  {
   "cell_type": "code",
   "execution_count": null,
   "id": "9d637b39c6077c64",
   "metadata": {},
   "outputs": [],
   "source": [
    "from random import randint\n",
    "\n",
    "\n",
    "def roll(n=2):\n",
    "    result = 0\n",
    "    total = 0\n",
    "    for _ in range(n):\n",
    "        result = randint(1, 6)\n",
    "        print('第%d次结果是%d' % (_ + 1, result))\n",
    "        total = result + total\n",
    "    print('结果之和是%d' % total)\n",
    "    return total\n",
    "\n",
    "\n",
    "roll()\n",
    "roll(3)\n",
    "\n",
    "\n",
    "# roll(int(input('请输入次数:')))\n",
    "\n",
    "def add(a=0, b=0, c=0):\n",
    "    return a + b + c\n",
    "\n",
    "\n",
    "add(1, 3)"
   ]
  },
  {
   "cell_type": "markdown",
   "id": "616e12529890f5f0",
   "metadata": {},
   "source": [
    "### 可变参数"
   ]
  },
  {
   "cell_type": "code",
   "execution_count": null,
   "id": "b47b47a4bf400231",
   "metadata": {},
   "outputs": [],
   "source": [
    "def add(*ab):\n",
    "    total = 0\n",
    "    for _ in ab:\n",
    "        total += _\n",
    "    print(total)\n",
    "\n",
    "\n",
    "add(1, 2, 3, 4, 10)"
   ]
  },
  {
   "cell_type": "code",
   "execution_count": null,
   "id": "cc893ca2b93a14b8",
   "metadata": {},
   "outputs": [],
   "source": [
    "def foo():\n",
    "    print('hello, world!')\n",
    "\n",
    "\n",
    "def foo():\n",
    "    print('goodbye, world!')\n",
    "\n",
    "\n",
    "# 下面的代码会输出什么呢？ 后一个会覆盖前一个\n",
    "foo()"
   ]
  },
  {
   "cell_type": "code",
   "execution_count": null,
   "id": "47694eac1e70a912",
   "metadata": {},
   "outputs": [],
   "source": [
    "import mould1 as m1\n",
    "import mould2 as m2\n",
    "\n",
    "m1.foo()\n",
    "m2.foo()"
   ]
  },
  {
   "cell_type": "code",
   "execution_count": null,
   "id": "2a156ee763f267be",
   "metadata": {},
   "outputs": [],
   "source": [
    "import mould1\n",
    "\n",
    "mould1.foo()"
   ]
  },
  {
   "cell_type": "markdown",
   "id": "b65551cff66ce33",
   "metadata": {},
   "source": [
    "### __name__='__main__'用法\n",
    "###### __name__是Python中一个隐含的变量它代表了模块的名字\n",
    "###### 只有被Python解释器直接执行的模块的名字才是__main__\n",
    "###### 导入module3时 不会执行模块中if条件成立时的代码 因为模块的名字是module3而不是__main__"
   ]
  },
  {
   "cell_type": "code",
   "execution_count": null,
   "id": "7287e550b088e7ce",
   "metadata": {},
   "outputs": [],
   "source": [
    "import mould3 as m3\n",
    "\n",
    "m3.foo()"
   ]
  },
  {
   "cell_type": "markdown",
   "id": "4baba80527594423",
   "metadata": {},
   "source": [
    "### 全局变量 局部变量"
   ]
  },
  {
   "cell_type": "code",
   "execution_count": null,
   "id": "461e27a20eff5b90",
   "metadata": {},
   "outputs": [],
   "source": [
    "def foo():\n",
    "    a = 200\n",
    "    print(a)  # 200\n",
    "\n",
    "\n",
    "if __name__ == '__main__':\n",
    "    a = 100\n",
    "    foo()  #这里打印了局部函数的a， 局部函数里的局部变量a和全局变量a不一样，虽然都是a\n",
    "    print(a)  # 100 这里的a是全局变量"
   ]
  },
  {
   "cell_type": "code",
   "execution_count": null,
   "id": "62ac433ab2983e87",
   "metadata": {},
   "outputs": [],
   "source": [
    "def foo():\n",
    "    global a\n",
    "    a = 200\n",
    "    print(a)  # 200\n",
    "\n",
    "\n",
    "if __name__ == '__main__':\n",
    "    a = 100\n",
    "    foo()  #这里foo中的定义了全局的a，覆盖了之前的a=100\n",
    "    print(a)  # 100"
   ]
  },
  {
   "cell_type": "markdown",
   "id": "1ca2e7f57d4b6859",
   "metadata": {},
   "source": [
    "### 字符串之前加r 反斜杠就不表示转义"
   ]
  },
  {
   "cell_type": "code",
   "execution_count": 3,
   "id": "c8c26b07efd5ee8c",
   "metadata": {
    "ExecuteTime": {
     "end_time": "2025-03-01T05:42:48.078807Z",
     "start_time": "2025-03-01T05:42:48.063764Z"
    }
   },
   "outputs": [
    {
     "name": "stdout",
     "output_type": "stream",
     "text": [
      "\\'hello, world!\\' \\n\\\\hello, world!\\\\\\n"
     ]
    }
   ],
   "source": [
    "s1 = r'\\'hello, world!\\''\n",
    "s2 = r'\\n\\\\hello, world!\\\\\\n'\n",
    "print(s1, s2, end='')"
   ]
  },
  {
   "cell_type": "markdown",
   "id": "7af7576a4b02fab4",
   "metadata": {},
   "source": [
    "### 字符串里的反斜杠表示转义"
   ]
  },
  {
   "cell_type": "code",
   "execution_count": 4,
   "id": "decb6e8a920b65b1",
   "metadata": {
    "ExecuteTime": {
     "end_time": "2025-03-01T05:42:53.226651Z",
     "start_time": "2025-03-01T05:42:53.220445Z"
    }
   },
   "outputs": [
    {
     "name": "stdout",
     "output_type": "stream",
     "text": [
      "'hello, world!' \n",
      "\\hello, world!\\\n"
     ]
    }
   ],
   "source": [
    "s1 = '\\'hello, world!\\''\n",
    "s2 = '\\n\\\\hello, world!\\\\\\n'\n",
    "print(s1, s2, end='')"
   ]
  },
  {
   "cell_type": "markdown",
   "id": "95a343fb4b3f1551",
   "metadata": {},
   "source": [
    "###### Python为字符串类型提供了非常丰富的运算符，我们可以使用+运算符来实现字符串的拼接，可以使用*运算符来重复一个字符串的内容，可以使用in和not in来判断一个字符串是否包含另外一个字符串（成员运算），我们也可以用[]和[:]运算符从字符串取出某个字符或某些字符（切片运算）"
   ]
  },
  {
   "cell_type": "code",
   "execution_count": null,
   "id": "ea3afafca39a5b55",
   "metadata": {},
   "outputs": [],
   "source": [
    "s1 = 'hello ' * 3\n",
    "print(s1)  # hello hello hello\n",
    "s2 = 'world'\n",
    "s1 += s2\n",
    "print(s1)  # hello hello hello world\n",
    "print('ll' in s1)  # True\n",
    "print('good' in s1)  # False\n",
    "str2 = 'abc123456'\n",
    "# 从字符串中取出指定位置的字符(下标运算)\n",
    "print(str2[2])  # c\n",
    "# 字符串切片(从指定的开始索引到指定的结束索引)\n",
    "print(str2[2:5])  # c12\n",
    "print(str2[2:])  # c123456\n",
    "print(str2[2::2])  # c246\n",
    "print(str2[::2])  # ac246\n",
    "print(str2[::-1])  # 654321cba\n",
    "print(str2[-3:-1])  # 45\n",
    "print(str2[-1])  # 45\n"
   ]
  },
  {
   "cell_type": "code",
   "execution_count": null,
   "id": "6ed093005f707d44",
   "metadata": {},
   "outputs": [],
   "source": [
    "str1 = 'hello, world!'\n",
    "# 通过内置函数len计算字符串的长度\n",
    "print(len(str1))  # 13\n",
    "# 获得字符串首字母大写的拷贝\n",
    "print(str1.capitalize())  # Hello, world!\n",
    "# 获得字符串每个单词首字母大写的拷贝\n",
    "print(str1.title())  # Hello, World!\n",
    "# 获得字符串变大写后的拷贝\n",
    "print(str1.upper())  # HELLO, WORLD!\n",
    "# 从字符串中查找子串所在位置\n",
    "print(str1.find('or'))  # 8\n",
    "print(str1.find('shit'))  # -1\n",
    "# 与find类似但找不到子串时会引发异常\n",
    "# print(str1.index('or'))\n",
    "# print(str1.index('shit'))\n",
    "# 检查字符串是否以指定的字符串开头\n",
    "print(str1.startswith('He'))  # False\n",
    "print(str1.startswith('hel'))  # True\n",
    "# 检查字符串是否以指定的字符串结尾\n",
    "print(str1.endswith('!'))  # True\n",
    "# 将字符串以指定的宽度居中并在两侧填充指定的字符\n",
    "print(str1.center(50, '*'))\n",
    "# 将字符串以指定的宽度靠右放置左侧填充指定的字符\n",
    "print(str1.rjust(50, ' '))\n",
    "str2 = 'abc123456'\n",
    "# 检查字符串是否由数字构成\n",
    "print(str2.isdigit())  # False\n",
    "# 检查字符串是否以字母构成\n",
    "print(str2.isalpha())  # False\n",
    "# 检查字符串是否以数字和字母构成\n",
    "print(str2.isalnum())  # True\n",
    "str3 = '  jackfrued@126.com '\n",
    "print(str3)\n",
    "# 获得字符串修剪左右两侧空格之后的拷贝\n",
    "print(str3.strip())"
   ]
  },
  {
   "cell_type": "code",
   "execution_count": null,
   "id": "57e9ccc84f99d6a2",
   "metadata": {},
   "outputs": [],
   "source": [
    "a, b = 5, 10\n",
    "print('%d * %d = %d' % (a, b, a * b))\n",
    "print('{0} * {1} = {2}'.format(a, b, a * b))\n",
    "print(f'{a} * {b} = {a * b}')"
   ]
  },
  {
   "cell_type": "markdown",
   "id": "d847d9da4e8b3dc7",
   "metadata": {},
   "source": [
    "### 列表、元组、集合和字典。"
   ]
  },
  {
   "cell_type": "code",
   "execution_count": null,
   "id": "ad4bb2dc40997b30",
   "metadata": {},
   "outputs": [],
   "source": [
    "#列表list\n",
    "list1 = [1, 3, 5, 7, 100]\n",
    "print(list1)  # [1, 3, 5, 7, 100]\n",
    "# 乘号表示列表元素的重复\n",
    "list2 = ['hello'] * 3\n",
    "print(list2)  # ['hello', 'hello', 'hello']\n",
    "# 计算列表长度(元素个数)\n",
    "print(len(list1))  # 5\n",
    "# 下标(索引)运算\n",
    "print(list1[0])  # 1\n",
    "print(list1[4])  # 100\n",
    "# print(list1[5])  # IndexError: list index out of range\n",
    "print(list1[-1])  # 100\n",
    "print(list1[-3])  # 5\n",
    "list1[2] = 300\n",
    "print(list1)  # [1, 3, 300, 7, 100]\n",
    "# 通过循环用下标遍历列表元素\n",
    "for index in range(len(list1)):\n",
    "    print(list1[index])\n",
    "# 通过for循环遍历列表元素\n",
    "for elem in list1:\n",
    "    print(elem)\n",
    "# 通过enumerate函数处理列表之后再遍历可以同时获得元素索引和值\n",
    "for index, elem in enumerate(list1):\n",
    "    print(index, elem)"
   ]
  },
  {
   "cell_type": "markdown",
   "id": "62f2b904eecf1397",
   "metadata": {},
   "source": [
    "### 下面的代码演示了如何向列表中添加元素以及如何从列表中移除元素。"
   ]
  },
  {
   "cell_type": "code",
   "execution_count": null,
   "id": "c99c311a522c22d6",
   "metadata": {},
   "outputs": [],
   "source": [
    "list1 = [1, 3, 5, 7, 100]\n",
    "# 添加元素\n",
    "list1.append(200)\n",
    "print(list1)\n",
    "list1.insert(1, 400)\n",
    "print(list1)\n",
    "# 合并两个列表\n",
    "# list1.extend([1000, 2000])\n",
    "# print(list1)\n",
    "list1 += [1000, 2000]\n",
    "print(list1)  # [1, 400, 3, 5, 7, 100, 200, 1000, 2000]\n",
    "print(len(list1))  # 9\n",
    "\n",
    "if 3 in list1:\n",
    "    list1.remove(3)\n",
    "if 1234 in list1:\n",
    "    list1.remove(1234)\n",
    "print(list1)  # [1, 400, 5, 7, 100, 200, 1000, 2000]\n",
    "\n",
    "# 从指定的位置删除元素\n",
    "list1.pop(0)  #删除第一个位置\n",
    "list1.pop(len(list1) - 1)  #删除最后一个位置，最后一个位置的索引号码是长度减一\n",
    "print(list1)  # [400, 5, 7, 100, 200, 1000]\n",
    "\n",
    "# 清空列表元素\n",
    "list1.clear()\n",
    "print(list1)  # []"
   ]
  },
  {
   "cell_type": "markdown",
   "id": "72a6ee83f8f84908",
   "metadata": {},
   "source": [
    "### 下面的代码实现了对列表的排序操作。"
   ]
  },
  {
   "cell_type": "code",
   "execution_count": null,
   "id": "fb2758a1f802867d",
   "metadata": {},
   "outputs": [],
   "source": [
    "list1 = ['orange', 'apple', 'zoo', 'internationalization', 'blueberry']\n",
    "list2 = sorted(list1)\n",
    "# sorted函数返回列表排序后的拷贝不会修改传入的列表\n",
    "# 函数的设计就应该像sorted函数一样尽可能不产生副作用\n",
    "list3 = sorted(list1, reverse=True)\n",
    "# 通过key关键字参数指定根据字符串长度进行排序而不是默认的字母表顺序\n",
    "list4 = sorted(list1, key=len)\n",
    "print(list1)\n",
    "print(list2)\n",
    "print(list3)\n",
    "print(list4)\n",
    "# 给列表对象发出排序消息直接在列表对象上进行排序\n",
    "list1.sort(reverse=True)\n",
    "print(list1)"
   ]
  },
  {
   "cell_type": "markdown",
   "id": "c903700d3555462a",
   "metadata": {},
   "source": [
    "### 和字符串一样，列表也可以做切片操作，通过切片操作我们可以实现对列表的复制或者将列表中的一部分取出来创建出新的列表，代码如下所示。"
   ]
  },
  {
   "cell_type": "code",
   "execution_count": null,
   "id": "1b7fa29481daa9a7",
   "metadata": {},
   "outputs": [],
   "source": [
    "fruits = ['grape', 'apple', 'strawberry', 'waxberry']\n",
    "fruits += ['pitaya', 'pear', 'mango']\n",
    "# 列表切片\n",
    "fruits2 = fruits[1:4]\n",
    "print(fruits2)  # apple strawberry waxberry\n",
    "# 可以通过完整切片操作来复制列表\n",
    "fruits3 = fruits[:]\n",
    "print(fruits3)  # ['grape', 'apple', 'strawberry', 'waxberry', 'pitaya', 'pear', 'mango']\n",
    "fruits4 = fruits[-3:-1]\n",
    "print(fruits4)  # ['pitaya', 'pear']\n",
    "# 可以通过反向切片操作来获得倒转后的列表的拷贝\n",
    "fruits5 = fruits[::-1]\n",
    "print(fruits5)  # ['mango', 'pear', 'pitaya', 'waxberry', 'strawberry', 'apple', 'grape']"
   ]
  },
  {
   "cell_type": "markdown",
   "id": "ad14afdc491f23a7",
   "metadata": {},
   "source": [
    "### 生成式和生成器\n",
    "###### 我们还可以使用列表的生成式语法来创建列表，代码如下所示。"
   ]
  },
  {
   "cell_type": "code",
   "execution_count": null,
   "id": "8f3284807aabd688",
   "metadata": {},
   "outputs": [],
   "source": [
    "import sys\n",
    "\n",
    "f = [x for x in range(1, 10)]\n",
    "print(f)\n",
    "f = [x + y for x in 'ABCDE' for y in '1234567']\n",
    "print(f)\n",
    "\n",
    "# 用列表的生成表达式语法创建列表容器\n",
    "# 用这种语法创建列表之后元素已经准备就绪所以需要耗费较多的内存空间\n",
    "f = [x ** 2 for x in range(1, 1000)]\n",
    "print(sys.getsizeof(f))  # 查看对象占用内存的字节数\n",
    "print(f)"
   ]
  },
  {
   "cell_type": "code",
   "execution_count": null,
   "id": "9da7b243344c2d64",
   "metadata": {},
   "outputs": [],
   "source": [
    "# 请注意下面的代码创建的不是一个列表而是一个生成器对象\n",
    "# 通过生成器可以获取到数据但它不占用额外的空间存储数据\n",
    "# 每次需要数据的时候就通过内部的运算得到数据(需要花费额外的时间)\n",
    "f = (x ** 2 for x in range(1, 1000))\n",
    "print(sys.getsizeof(f))  # 相比生成式生成器不占用存储数据的空间\n",
    "print(f)\n",
    "for val in f:\n",
    "    print(val)"
   ]
  },
  {
   "cell_type": "markdown",
   "id": "a0d092d87838d153",
   "metadata": {},
   "source": [
    "###### 除了上面提到的生成器语法，Python中还有另外一种定义生成器的方式，就是通过yield关键字将一个普通函数改造成生成器函数。"
   ]
  },
  {
   "cell_type": "code",
   "execution_count": null,
   "id": "12ddb565dd4eb018",
   "metadata": {},
   "outputs": [],
   "source": [
    "def fib(n):\n",
    "    a, b = 0, 1\n",
    "    for i in range(n):\n",
    "        a, b = b, a + b\n",
    "        yield a\n",
    "\n",
    "\n",
    "def main():\n",
    "    for val in fib(20):\n",
    "        print(val)\n",
    "\n",
    "\n",
    "if __name__ == '__main__':\n",
    "    main()"
   ]
  },
  {
   "cell_type": "markdown",
   "id": "2619e3ebb6c71e08",
   "metadata": {},
   "source": [
    "### 使用元组\n",
    "###### Python中的元组与列表类似也是一种容器数据类型，可以用一个变量（对象）来存储多个数据，不同之处在于元组的元素不能修改，在前面的代码中我们已经不止一次使用过元组了。顾名思义，我们把多个元素组合到一起就形成了一个元组，所以它和列表一样可以保存多条数据。下面的代码演示了如何定义和使用元组。"
   ]
  },
  {
   "cell_type": "code",
   "execution_count": null,
   "id": "f6010d2baa7e20f8",
   "metadata": {},
   "outputs": [],
   "source": [
    "# 定义元组\n",
    "t = ('骆昊', 38, True, '四川成都')\n",
    "print(t)\n",
    "# 获取元组中的元素\n",
    "print(t[0])\n",
    "print(t[3])\n",
    "# 遍历元组中的值\n",
    "for member in t:\n",
    "    print(member)\n",
    "\n",
    "#重新给元组赋值\n",
    "# t[0] = '王大锤'  # TypeError\n",
    "# 变量t重新引用了新的元组原来的元组将被垃圾回收\n",
    "t = ('王大锤', 20, True, '云南昆明')\n",
    "print(t)\n",
    "\n",
    "# 将元组转换成列表\n",
    "person = list(t)\n",
    "print(person)\n",
    "# 列表是可以修改它的元素的\n",
    "person[0] = '李小龙'\n",
    "person[1] = 25\n",
    "print(person)\n",
    "\n",
    "# 将列表转换成元组\n",
    "fruits_list = ['apple', 'banana', 'orange']\n",
    "fruits_tuple = tuple(fruits_list)\n",
    "print(fruits_tuple)\n",
    "\n",
    "fruits_list = ['apple', 'banana', 'orange']\n",
    "fruits_tuple = ('apple', 'banana', 'orange')\n",
    "print(sys.getsizeof(fruits_list))\n",
    "print(sys.getsizeof(fruits_tuple))\n",
    "%timeit['apple', 'banana', 'orange']\n",
    "%timeit('apple', 'banana', 'orange')"
   ]
  },
  {
   "cell_type": "markdown",
   "id": "55837e7390e7476c",
   "metadata": {},
   "source": [
    "###### 这里有一个非常值得探讨的问题，我们已经有了列表这种数据结构，为什么还需要元组这样的类型呢？\n",
    "###### 1.元组中的元素是无法修改的，事实上我们在项目中尤其是多线程环境（后面会讲到）中可能更喜欢使用的是那些不变对象（一方面因为对象状态不能修改，所以可以避免由此引起的不必要的程序错误，简单的说就是一个不变的对象要比可变的对象更加容易维护；另一方面因为没有任何一个线程能够修改不变对象的内部状态，一个不变对象自动就是线程安全的，这样就可以省掉处理同步化的开销。一个不变对象可以方便的被共享访问）。所以结论就是：如果不需要对元素进行添加、删除、修改的时候，可以考虑使用元组，当然如果一个方法要返回多个值，使用元组也是不错的选择。\n",
    "###### 2.元组在创建时间和占用的空间上面都优于列表。我们可以使用sys模块的getsizeof函数来检查存储同样的元素的元组和列表各自占用了多少内存空间，这个很容易做到。我们也可以在ipython中使用魔法指令%timeit来分析创建同样内容的元组和列表所花费的时间，下图是我的macOS系统上测试的结果。"
   ]
  },
  {
   "cell_type": "markdown",
   "id": "5894d6cc01c7f13c",
   "metadata": {},
   "source": [
    "### 使用集合\n",
    "###### Python中的集合跟数学上的集合是一致的，不允许有重复元素，而且可以进行交集、并集、差集等运算。"
   ]
  },
  {
   "cell_type": "code",
   "execution_count": null,
   "id": "bb7b390a2f0cb46a",
   "metadata": {},
   "outputs": [],
   "source": [
    "# 创建集合的字面量语法\n",
    "set1 = {1, 2, 3, 3, 3, 2}\n",
    "print(set1)\n",
    "print('Length =', len(set1))\n",
    "\n",
    "# 创建集合的构造器语法(面向对象部分会进行详细讲解)\n",
    "set2 = set(range(1, 10))\n",
    "set3 = set((1, 2, 3, 3, 2, 1))\n",
    "print(set2, set3)\n",
    "# 创建集合的推导式语法(推导式也可以用于推导集合)\n",
    "set4 = {num for num in range(1, 100) if num % 3 == 0 or num % 5 == 0}\n",
    "print(set4)\n",
    "\n",
    "set1.add(4)\n",
    "set1.add(5)\n",
    "set2.update([11, 12])\n",
    "print(set1, set2)\n",
    "set2.discard(5)\n",
    "print(set1, set2)\n",
    "if 4 in set2:\n",
    "    set2.remove(4)\n",
    "print(set1, set2)\n",
    "print(set3.pop())\n",
    "print(set3)\n",
    "print(set3.pop())\n",
    "print(set3)"
   ]
  },
  {
   "cell_type": "code",
   "execution_count": null,
   "id": "a50b7e27daa49db4",
   "metadata": {},
   "outputs": [],
   "source": [
    "# 集合的交集、并集、差集、对称差运算\n",
    "print(set1 & set2)\n",
    "# print(set1.intersection(set2))\n",
    "print(set1 | set2)\n",
    "# print(set1.union(set2))\n",
    "print(set1 - set2)\n",
    "# print(set1.difference(set2))\n",
    "print(set1 ^ set2)\n",
    "# print(set1.symmetric_difference(set2))\n",
    "# 判断子集和超集\n",
    "print(set2 <= set1)\n",
    "# print(set2.issubset(set1))\n",
    "print(set3 <= set1)\n",
    "# print(set3.issubset(set1))\n",
    "print(set1 >= set2)\n",
    "# print(set1.issuperset(set2))\n",
    "print(set1 >= set3)\n",
    "# print(set1.issuperset(set3))"
   ]
  },
  {
   "cell_type": "markdown",
   "id": "b0e33f16c25080c9",
   "metadata": {},
   "source": [
    "### 使用字典\n",
    "###### 字典是另一种可变容器模型，Python中的字典跟我们生活中使用的字典是一样一样的，它可以存储任意类型对象，与列表、集合不同的是，字典的每个元素都是由一个键和一个值组成的“键值对”，键和值通过冒号分开。下面的代码演示了如何定义和使用字典。"
   ]
  },
  {
   "cell_type": "code",
   "execution_count": null,
   "id": "75ce047d0a0fbb48",
   "metadata": {},
   "outputs": [],
   "source": [
    "# 创建字典的字面量语法\n",
    "scores = {'骆昊': 95, '白元芳': 78, '狄仁杰': 82}\n",
    "print(scores)\n",
    "# 创建字典的构造器语法\n",
    "items1 = dict(one=1, two=2, three=3, four=4)\n",
    "# 通过zip函数将两个序列压成字典\n",
    "items2 = dict(zip(['a', 'b', 'c'], '123'))\n",
    "# 创建字典的推导式语法\n",
    "items3 = {num: num ** 2 for num in range(1, 10)}\n",
    "print(items1, items2, items3)\n",
    "print(scores['骆昊'])\n",
    "print(scores['狄仁杰'])\n",
    "# 对字典中所有键值对进行遍历\n",
    "for key in scores:\n",
    "    print(f'{key}: {scores[key]}')\n",
    "# 更新字典中的元素\n",
    "scores['白元芳'] = 65\n",
    "scores['诸葛王朗'] = 71\n",
    "scores.update(冷面=67, 方启鹤=85)\n",
    "print(scores)\n",
    "if '武则天' in scores:\n",
    "    print(scores['武则天'])\n",
    "print(scores.get('武则天'))\n",
    "# get方法也是通过键获取对应的值但是可以设置默认值\n",
    "print(scores.get('武则天', 60))\n",
    "\n",
    "# 删除字典中的元素\n",
    "print(scores.popitem())\n",
    "print(scores.popitem())\n",
    "print(scores)\n",
    "print(scores.pop('骆昊', 100))\n",
    "print(scores)\n",
    "# 清空字典\n",
    "scores.clear()\n",
    "print(scores)"
   ]
  },
  {
   "cell_type": "markdown",
   "id": "8984c1dd719ec9c8",
   "metadata": {},
   "source": [
    "### ZIP的用法"
   ]
  },
  {
   "cell_type": "code",
   "execution_count": 40,
   "id": "c676cb06a67f6fd5",
   "metadata": {
    "ExecuteTime": {
     "end_time": "2025-02-18T09:40:57.641996Z",
     "start_time": "2025-02-18T09:40:57.639664Z"
    }
   },
   "outputs": [
    {
     "name": "stdout",
     "output_type": "stream",
     "text": [
      "[(1, 2, 3, 1), ('a', 'b', 'c', 2)]\n"
     ]
    }
   ],
   "source": [
    "pairs = [(1, 'a'), (2, 'b'), (3, 'c')]\n",
    "list1 = [1, 2, 3]\n",
    "list2 = list(zip(*pairs, list1))  #這裏先解包pairs用前置*號，然後和list1結合,但是以最短的長度爲準，list1裏的3就被捨棄掉了\n",
    "print(list2)\n",
    "# list1, list2 = zip(*pairs)\n",
    "# print(list1)  # 輸出：(1, 2, 3)\n",
    "# print(list2)  # 輸出：('a', 'b', 'c')"
   ]
  },
  {
   "cell_type": "code",
   "execution_count": 41,
   "id": "6afef13a4db51529",
   "metadata": {
    "ExecuteTime": {
     "end_time": "2025-02-18T09:41:21.303684Z",
     "start_time": "2025-02-18T09:41:21.300182Z"
    }
   },
   "outputs": [
    {
     "name": "stdout",
     "output_type": "stream",
     "text": [
      "[(1, 'a'), (2, 'b'), (3, 'c')]\n",
      "[(1, 'a', 4), (2, 'b', 5), (3, 'c', 6)]\n",
      "[(1, 7), (2, 8)]\n",
      "(1, 2, 3)\n",
      "('a', 'b', 'c')\n"
     ]
    }
   ],
   "source": [
    "# 將兩個列表打包在一起\n",
    "list1 = [1, 2, 3]\n",
    "list2 = ['a', 'b', 'c']\n",
    "result = zip(list1, list2)\n",
    "print(list(result))  # 輸出：[(1, 'a'), (2, 'b'), (3, 'c')]\n",
    "\n",
    "# 將多個列表打包在一起\n",
    "list3 = [4, 5, 6]\n",
    "result = zip(list1, list2, list3)\n",
    "print(list(result))  # 輸出：[(1, 'a', 4), (2, 'b', 5), (3, 'c', 6)]\n",
    "\n",
    "# 當列表長度不一致時\n",
    "list4 = [7, 8]\n",
    "result = zip(list1, list4)\n",
    "print(list(result))  # 輸出：[(1, 7), (2, 8)]\n",
    "\n",
    "# 使用 zip() 函數解包\n",
    "pairs = [(1, 'a'), (2, 'b'), (3, 'c')]\n",
    "list1, list2 = zip(*pairs)\n",
    "print(list1)  # 輸出：(1, 2, 3)\n",
    "print(list2)  # 輸出：('a', 'b', 'c')"
   ]
  },
  {
   "cell_type": "markdown",
   "id": "2a810ab8fdc0a310",
   "metadata": {},
   "source": [
    "###### 在屏幕上顯示跑馬燈"
   ]
  },
  {
   "cell_type": "code",
   "execution_count": null,
   "id": "8bcab75c352ea5df",
   "metadata": {},
   "outputs": [],
   "source": [
    "import os\n",
    "import time\n",
    "\n",
    "\n",
    "def main():\n",
    "    content = '今天是星期二…………'\n",
    "    while True:\n",
    "        # 清理屏幕上的输出\n",
    "        os.system('cls')  # os.system('clear')\n",
    "        print(content)\n",
    "        # 休眠200毫秒\n",
    "        time.sleep(0.1)\n",
    "        content = content[1:] + content[0]\n",
    "\n",
    "\n",
    "if __name__ == '__main__':\n",
    "    main()"
   ]
  },
  {
   "cell_type": "markdown",
   "id": "33904cb72f24d5a0",
   "metadata": {},
   "source": [
    "###### 设计一个函数生产指定长度的验证码，验证码由大小写字母和数字组成"
   ]
  },
  {
   "cell_type": "code",
   "execution_count": null,
   "id": "8e029597d596decf",
   "metadata": {},
   "outputs": [],
   "source": [
    "import random\n",
    "\n",
    "\n",
    "def generate_code(code_len=4):\n",
    "    \"\"\"\n",
    "    生成指定长度的验证码\n",
    "\n",
    "    :param code_len: 验证码的长度(默认4个字符)\n",
    "\n",
    "    :return: 由大小写英文字母和数字构成的随机验证码\n",
    "    \"\"\"\n",
    "    all_chars = '0123456789abcdefghijklmnopqrstuvwxyzABCDEFGHIJKLMNOPQRSTUVWXYZ'\n",
    "    last_pos = len(all_chars) - 1\n",
    "    code = ''\n",
    "    for i in range(code_len):\n",
    "        index = random.randint(0, last_pos)\n",
    "        code += all_chars[index]\n",
    "        # code += random.choice(all_chars) #random的choice方法比较直接\n",
    "    return code\n",
    "\n",
    "\n",
    "if __name__ == '__main__':\n",
    "    print(generate_code())"
   ]
  },
  {
   "cell_type": "markdown",
   "id": "a5b3aff64da1ac7e",
   "metadata": {},
   "source": [
    "### 类和对象"
   ]
  },
  {
   "cell_type": "code",
   "execution_count": null,
   "id": "7c1fdbeed813c17",
   "metadata": {},
   "outputs": [],
   "source": [
    "class Student(object):\n",
    "\n",
    "    # __init__是一个特殊方法用于在创建对象时进行初始化操作\n",
    "    # 通过这个方法我们可以为学生对象绑定name和age两个属性\n",
    "    def __init__(self, name, age):\n",
    "        self.name = name\n",
    "        self.age = age\n",
    "\n",
    "    def study(self, course_name):\n",
    "        print('%s正在学习%s.' % (self.name, course_name))\n",
    "\n",
    "    # PEP 8要求标识符的名字用全小写多个单词用下划线连接\n",
    "    # 但是部分程序员和公司更倾向于使用驼峰命名法(驼峰标识)\n",
    "    def watch_movie(self):\n",
    "        if self.age < 18:\n",
    "            print('%s只能观看《熊出没》.' % self.name)\n",
    "        else:\n",
    "            print('%s正在观看岛国爱情大电影.' % self.name)"
   ]
  },
  {
   "cell_type": "code",
   "execution_count": null,
   "id": "f7c370c4f5e00604",
   "metadata": {},
   "outputs": [],
   "source": [
    "def main():\n",
    "    # 创建学生对象并指定姓名和年龄\n",
    "    stu1 = Student('骆昊', 38)\n",
    "    # 给对象发study消息\n",
    "    stu1.study('Python程序设计')\n",
    "    # 给对象发watch_av消息\n",
    "    stu1.watch_movie()\n",
    "    stu2 = Student('王大锤', 15)\n",
    "    stu2.study('思想品德')\n",
    "    stu2.watch_movie()\n",
    "\n",
    "\n",
    "if __name__ == '__main__':\n",
    "    main()"
   ]
  },
  {
   "cell_type": "markdown",
   "id": "72c1ce502d04006",
   "metadata": {},
   "source": [
    "###### 在Python中，属性和方法的访问权限只有两种，也就是公开的和私有的，如果希望属性是私有的，在给属性命名时可以用两个下划线作为开头，下面的代码可以验证这一点。"
   ]
  },
  {
   "cell_type": "code",
   "execution_count": null,
   "id": "efb040329a4b5743",
   "metadata": {},
   "outputs": [],
   "source": [
    "class Test:\n",
    "\n",
    "    def __init__(self, foo):\n",
    "        self.__foo = foo\n",
    "\n",
    "    def __bar(self):\n",
    "        print(self.__foo)\n",
    "        print('_bar')\n",
    "\n",
    "\n",
    "def main():\n",
    "    test = Test('hello')\n",
    "    # AttributeError: 'Test' object has no attribute '__bar'\n",
    "    test.__bar()\n",
    "    # AttributeError: 'Test' object has no attribute '__foo'\n",
    "    print(test.__foo)\n",
    "\n",
    "\n",
    "if __name__ == \"__main__\":\n",
    "    main()"
   ]
  },
  {
   "cell_type": "markdown",
   "id": "3e835a63a867db90",
   "metadata": {},
   "source": [
    "###### 但是，Python并没有从语法上严格保证私有属性或方法的私密性，它只是给私有的属性和方法换了一个名字来妨碍对它们的访问，事实上如果你知道更换名字的规则仍然可以访问到它们，下面的代码就可以验证这一点。之所以这样设定，可以用这样一句名言加以解释，就是\"We are all consenting adults here\"。因为绝大多数程序员都认为开放比封闭要好，而且程序员要自己为自己的行为负责。"
   ]
  },
  {
   "cell_type": "code",
   "execution_count": null,
   "id": "be059ecee777776c",
   "metadata": {},
   "outputs": [],
   "source": [
    "class Test:\n",
    "\n",
    "    def __init__(self, foo):\n",
    "        self.__foo = foo\n",
    "\n",
    "    def __bar(self):\n",
    "        print(self.__foo)\n",
    "        print('__bar')\n",
    "\n",
    "\n",
    "def main():\n",
    "    test = Test('hello')\n",
    "    test._Test__bar()\n",
    "    print(test._Test__foo)\n",
    "\n",
    "\n",
    "if __name__ == \"__main__\":\n",
    "    main()"
   ]
  },
  {
   "cell_type": "markdown",
   "id": "42b27fa759e0acd3",
   "metadata": {},
   "source": [
    "### 定义一个类描述数字的时钟"
   ]
  },
  {
   "cell_type": "code",
   "execution_count": null,
   "id": "1007b7e805ae37ba",
   "metadata": {},
   "outputs": [],
   "source": [
    "from time import sleep\n",
    "\n",
    "\n",
    "class Clock(object):\n",
    "    \"\"\"数字时钟\"\"\"\n",
    "\n",
    "    def __init__(self, hour=0, minute=0, second=0):\n",
    "        \"\"\"初始化方法\n",
    "\n",
    "        :param hour: 时\n",
    "        :param minute: 分\n",
    "        :param second: 秒\n",
    "        \"\"\"\n",
    "        self._hour = hour\n",
    "        self._minute = minute\n",
    "        self._second = second\n",
    "\n",
    "    def run(self):\n",
    "        \"\"\"走字\"\"\"\n",
    "        self._second += 1\n",
    "        if self._second == 60:\n",
    "            self._second = 0\n",
    "            self._minute += 1\n",
    "            if self._minute == 60:\n",
    "                self._minute = 0\n",
    "                self._hour += 1\n",
    "                if self._hour == 24:\n",
    "                    self._hour = 0\n",
    "\n",
    "    def show(self):\n",
    "        \"\"\"显示时间\"\"\"\n",
    "        return '%02d:%02d:%02d' % \\\n",
    "            (self._hour, self._minute, self._second)\n",
    "\n",
    "\n",
    "def main():\n",
    "    clock = Clock(23, 59, 58)\n",
    "    while True:\n",
    "        print(clock.show())\n",
    "        sleep(1)\n",
    "        clock.run()\n",
    "\n",
    "\n",
    "if __name__ == '__main__':\n",
    "    main()"
   ]
  },
  {
   "cell_type": "markdown",
   "id": "9d2ff7f3c0619edb",
   "metadata": {},
   "source": [
    "### 打印杨辉三角"
   ]
  },
  {
   "cell_type": "code",
   "execution_count": null,
   "id": "613ee47c6d988a5a",
   "metadata": {},
   "outputs": [],
   "source": [
    "def main():\n",
    "    num = int(input('Number of rows: '))\n",
    "    yh = [[]] * num\n",
    "    print(yh)\n",
    "    for row in range(len(yh)):\n",
    "        yh[row] = [None] * (row + 1)\n",
    "        for col in range(len(yh[row])):\n",
    "            if col == 0 or col == row:\n",
    "                yh[row][col] = 1\n",
    "            else:\n",
    "                yh[row][col] = yh[row - 1][col] + yh[row - 1][col - 1]\n",
    "            print(yh[row][col], end='\\t')\n",
    "        print()\n",
    "\n",
    "\n",
    "if __name__ == '__main__':\n",
    "    main()"
   ]
  },
  {
   "cell_type": "markdown",
   "id": "43c66ea32f786404",
   "metadata": {},
   "source": [
    "### 面向对象进阶\n",
    "###### @property装饰器"
   ]
  },
  {
   "cell_type": "code",
   "execution_count": null,
   "id": "5ce369dde2dd5396",
   "metadata": {},
   "outputs": [],
   "source": [
    "class Person(object):\n",
    "    def __init__(self, name, age):\n",
    "        self._name = name\n",
    "        self._age = age\n",
    "\n",
    "    #访问器 -getter方法\n",
    "    @property\n",
    "    def name(self):\n",
    "        return self._name\n",
    "\n",
    "    #访问器 -getter方法\n",
    "    @property\n",
    "    def age(self):\n",
    "        return self._age\n",
    "\n",
    "    #修改器 -setter方法\n",
    "    @age.setter\n",
    "    def age(self, age):\n",
    "        self._age = age\n",
    "\n",
    "    #修改器 -setter方法\n",
    "    @name.setter\n",
    "    def name(self, name):\n",
    "        self._name = name\n",
    "\n",
    "    def play(self):\n",
    "        if self.age <= 16:\n",
    "            print(f'{self.name}正在玩飞行棋.')\n",
    "        else:\n",
    "            print(f'{self.name}正在玩斗地主.')\n",
    "\n",
    "\n",
    "def main():\n",
    "    person = Person('王大锤', 12)\n",
    "    person.play()\n",
    "    person.age = 18\n",
    "    person.play()\n",
    "    person.name = '白花菜'\n",
    "    person.play()\n",
    "\n",
    "\n",
    "if __name__ == '__main__':\n",
    "    main()\n"
   ]
  },
  {
   "cell_type": "markdown",
   "id": "cf60cda2de770806",
   "metadata": {},
   "source": [
    "### __slots__魔法\n",
    "###### 我们讲到这里，不知道大家是否已经意识到，Python是一门动态语言。通常，动态语言允许我们在程序运行时给对象绑定新的属性或方法，当然也可以对已经绑定的属性和方法进行解绑定。但是如果我们需要限定自定义类型的对象只能绑定某些属性，可以通过在类中定义__slots__变量来进行限定。需要注意的是__slots__的限定只对当前类的对象生效，对子类并不起任何作用。"
   ]
  },
  {
   "cell_type": "code",
   "execution_count": null,
   "id": "2bf261b39f055cf",
   "metadata": {},
   "outputs": [],
   "source": [
    "class Person(object):\n",
    "    __slots__ = ('_name', '_age', '_gender')\n",
    "\n",
    "    def __init__(self, name, age):\n",
    "        self._name = name\n",
    "        self._age = age\n",
    "\n",
    "    @property\n",
    "    def name(self):\n",
    "        return self._name\n",
    "\n",
    "    @property\n",
    "    def age(self):\n",
    "        return self._age\n",
    "\n",
    "    @property\n",
    "    def gender(self):\n",
    "        return self._gender\n",
    "\n",
    "    @name.setter\n",
    "    def name(self, name):\n",
    "        self._name = name\n",
    "\n",
    "    @age.setter\n",
    "    def age(self, age):\n",
    "        self._age = age\n",
    "\n",
    "    def play(self):\n",
    "        if self._age < 16:\n",
    "            print(f'{self._name}正在玩飞行棋')\n",
    "        else:\n",
    "            print(f'{self._name}正在玩斗地主')\n",
    "\n",
    "\n",
    "def main():\n",
    "    person = Person('王大锤', 12)\n",
    "    person.play()\n",
    "    person._gender = '男'\n",
    "    print(person._gender)\n",
    "\n",
    "\n",
    "if __name__ == '__main__':\n",
    "    main()"
   ]
  },
  {
   "cell_type": "markdown",
   "id": "ec6b4f012404de47",
   "metadata": {},
   "source": [
    "### 静态方法和类方法\n",
    "###### 之前，我们在类中定义的方法都是对象方法，也就是说这些方法都是发送给对象的消息。实际上，我们写在类中的方法并不需要都是对象方法，例如我们定义一个“三角形”类，通过传入三条边长来构造三角形，并提供计算周长和面积的方法，但是传入的三条边长未必能构造出三角形对象，因此我们可以先写一个方法来验证三条边长是否可以构成三角形，这个方法很显然就不是对象方法，因为在调用这个方法时三角形对象尚未创建出来（因为都不知道三条边能不能构成三角形），所以这个方法是属于三角形类而并不属于三角形对象的。我们可以使用静态方法来解决这类问题，代码如下所示。\n",
    "\n",
    "###### @staticmethod 的主要作用：\n",
    "\n",
    "将函数封装在类中： 当一个函数与类相关，但不需要访问或修改类的属性时，可以将其定义为静态方法，以增强代码的组织性和可读性。\n",
    "提高代码效率： 由于静态方法不涉及实例或类的操作，因此在调用时不需要创建实例，从而提高代码的执行效率。\n",
    "###### @staticmethod 的用法：\n",
    "\n",
    "要将一个方法定义为静态方法，只需在方法定义上方添加 @staticmethod 装饰器即可。静态方法通常使用类名直接调用，也可以通过实例调用，但效果相同。\n"
   ]
  },
  {
   "cell_type": "code",
   "execution_count": null,
   "id": "cc8bccbd7981caf",
   "metadata": {},
   "outputs": [],
   "source": [
    "from math import sqrt\n",
    "\n",
    "\n",
    "class Triangle(object):\n",
    "    def __init__(self, a, b, c):\n",
    "        self._a = a\n",
    "        self._b = b\n",
    "        self._c = c\n",
    "\n",
    "    @staticmethod  #staticmethod 是给类的方法\n",
    "    def is_valid(a, b, c):  #静态方法没有 self 或 cls 参数，因为它们不与实例或类绑定。\n",
    "        return a + b > c and b + c > a and c + a > b\n",
    "\n",
    "    def perimeter(self):\n",
    "        return self._a + self._b + self._c\n",
    "\n",
    "    def area(self):\n",
    "        half = self.perimeter() / 2\n",
    "        return sqrt(half * (half - self._a) *\n",
    "                    (half - self._b) * (half - self._c))\n",
    "\n",
    "\n",
    "def main():\n",
    "    a, b, c = 3, 4, 5\n",
    "    if Triangle.is_valid(a, b, c):\n",
    "        t = Triangle(a, b, c)\n",
    "        print(t.is_valid(a, b, c))  #要将一个方法定义为静态方法，只需在方法定义上方添加 @staticmethod 装饰器即可。静态方法通常使用类名直接调用，也可以通过实例调用，但效果相同。\n",
    "        print(t.perimeter())\n",
    "        print(t.area())\n",
    "    else:\n",
    "        print('无法构成三角形')\n",
    "\n",
    "\n",
    "if __name__ == '__main__':\n",
    "    main()\n"
   ]
  },
  {
   "cell_type": "markdown",
   "id": "3d4a08e05a6b649e",
   "metadata": {},
   "source": [
    "### cls 的概念\n",
    "######  在 Python 中，cls 是类方法（classmethod）的惯用参数名。类方法是绑定到类而不是实例的方法。它们使用装饰器 @classmethod 定义，并且它们的第一个参数通常被命名为 cls。这个参数 cls 会自动传递类本身，而不是类的实例。\n",
    "###### cls 的作用 1. 访问和修改类属性： 类方法可以通过 cls 参数访问和修改类的属性。 2.创建类的实例： 类方法可以使用 cls 参数创建类的实例。这在需要根据不同条件创建不同实例时非常有用。 3.作为工厂函数： 类方法可以作为工厂函数，根据不同的参数创建类的不同实例。"
   ]
  },
  {
   "cell_type": "code",
   "execution_count": 2,
   "id": "8e4ddb597cfe0380",
   "metadata": {
    "ExecuteTime": {
     "end_time": "2025-02-20T05:05:19.515992Z",
     "start_time": "2025-02-20T05:05:19.513312Z"
    }
   },
   "outputs": [
    {
     "name": "stdout",
     "output_type": "stream",
     "text": [
      "10\n",
      "40\n"
     ]
    }
   ],
   "source": [
    "class MyClass:\n",
    "    class_variable = 0\n",
    "\n",
    "    def __init__(self, a, b, c):\n",
    "        self._a = a\n",
    "        self._b = b\n",
    "        self._c = c\n",
    "\n",
    "    @classmethod\n",
    "    def update_class_variable(cls, value):\n",
    "        cls.class_variable = value\n",
    "\n",
    "    @classmethod\n",
    "    def create_instance(cls, value, value1, value2):\n",
    "        return cls(value, value1, value2)\n",
    "\n",
    "\n",
    "# 使用类方法访问和修改类属性\n",
    "MyClass.update_class_variable(10)\n",
    "print(MyClass.class_variable)  # 输出：10\n",
    "\n",
    "# 使用类方法创建类的实例\n",
    "instance = MyClass.create_instance(20, 30, 40)\n",
    "print(instance._c)  # 输出：20"
   ]
  },
  {
   "cell_type": "markdown",
   "id": "4f1cef89766d47fc",
   "metadata": {},
   "source": [
    "### 继承和多态"
   ]
  },
  {
   "cell_type": "code",
   "execution_count": 5,
   "id": "68bdf389f8018222",
   "metadata": {
    "ExecuteTime": {
     "end_time": "2025-02-19T01:45:35.265738Z",
     "start_time": "2025-02-19T01:45:35.260689Z"
    }
   },
   "outputs": [
    {
     "name": "stdout",
     "output_type": "stream",
     "text": [
      "王大锤\n",
      "15\n",
      "初三的王大锤正在学习数学.\n",
      "王大锤只能观看《熊出没》.\n",
      "砖家\n",
      "骆昊砖家正在讲Python程序设计.\n",
      "骆昊正在观看爱情动作片.\n"
     ]
    }
   ],
   "source": [
    "class Person(object):\n",
    "    \"\"\"人\"\"\"\n",
    "\n",
    "    def __init__(self, name, age):\n",
    "        self._name = name\n",
    "        self._age = age\n",
    "\n",
    "    @property\n",
    "    def name(self):\n",
    "        return self._name\n",
    "\n",
    "    @property\n",
    "    def age(self):\n",
    "        return self._age\n",
    "\n",
    "    @age.setter\n",
    "    def age(self, age):\n",
    "        self._age = age\n",
    "\n",
    "    def play(self):\n",
    "        print('%s正在愉快的玩耍.' % self._name)\n",
    "\n",
    "    def watch_av(self):\n",
    "        if self._age >= 18:\n",
    "            print('%s正在观看爱情动作片.' % self._name)\n",
    "        else:\n",
    "            print('%s只能观看《熊出没》.' % self._name)\n",
    "\n",
    "\n",
    "class Student(Person):\n",
    "    \"\"\"学生\"\"\"\n",
    "\n",
    "    def __init__(self, name, age, grade):\n",
    "        super().__init__(name,age)\n",
    "        self._grade = grade\n",
    "\n",
    "    @property\n",
    "    def grade(self):\n",
    "        return self._grade\n",
    "\n",
    "    @grade.setter\n",
    "    def grade(self, grade):\n",
    "        self._grade = grade\n",
    "\n",
    "    def study(self, course):\n",
    "        print('%s的%s正在学习%s.' % (self._grade, self._name, course))\n",
    "\n",
    "\n",
    "class Teacher(Person):\n",
    "    \"\"\"老师\"\"\"\n",
    "\n",
    "    def __init__(self, name, age, title):\n",
    "        super().__init__(name, age)\n",
    "        self._title = title\n",
    "\n",
    "    @property\n",
    "    def title(self):\n",
    "        return self._title\n",
    "\n",
    "    @title.setter\n",
    "    def title(self, title):\n",
    "        self._title = title\n",
    "\n",
    "    def teach(self, course):\n",
    "        print('%s%s正在讲%s.' % (self._name, self._title, course))\n",
    "\n",
    "\n",
    "def main():\n",
    "    stu = Student('王大锤', 15, '初三')\n",
    "    print(stu.name)\n",
    "    print(stu.age)\n",
    "    stu.study('数学')\n",
    "    stu.watch_av()\n",
    "    t = Teacher('骆昊', 38, '砖家')\n",
    "    print(t.title)\n",
    "    t.teach('Python程序设计')\n",
    "    t.watch_av()\n",
    "\n",
    "\n",
    "if __name__ == '__main__':\n",
    "    main()"
   ]
  },
  {
   "cell_type": "markdown",
   "id": "eb47bcd89a7a52d7",
   "metadata": {},
   "source": [
    "###### 多态的核心思想\n",
    "###### 同一接口，不同实现：不同类的对象可以调用同一个方法名，但具体行为由对象自身的类决定。\n",
    "\n",
    "###### 动态绑定：Python 在运行时根据对象的实际类型调用对应的方法。"
   ]
  },
  {
   "cell_type": "code",
   "execution_count": null,
   "id": "5b4c976bda5be812",
   "metadata": {},
   "outputs": [],
   "source": [
    "# Python 实现多态的两种方式\n",
    "# 1. 基于继承的多态(Inheritance)\n",
    "# 通过子类重写父类方法实现多态（类似 Java/C++ 的多态）。\n",
    "class Animal:\n",
    "    def speak(self):\n",
    "        raise NotImplementedError(\"子类必须实现此方法\")\n",
    "\n",
    "\n",
    "class Dog(Animal):\n",
    "    def speak(self):\n",
    "        return \"汪汪！\"\n",
    "\n",
    "\n",
    "class Cat(Animal):\n",
    "    def speak(self):\n",
    "        return \"喵喵！\"\n",
    "\n",
    "\n",
    "# 多态调用\n",
    "def animal_speak(animal):\n",
    "    print(animal.speak())\n",
    "\n",
    "\n",
    "dog = Dog()\n",
    "cat = Cat()\n",
    "\n",
    "animal_speak(dog)  # 输出：汪汪！\n",
    "animal_speak(cat)  # 输出：喵喵！"
   ]
  },
  {
   "cell_type": "code",
   "execution_count": null,
   "id": "d3e1001e3fe0790a",
   "metadata": {},
   "outputs": [],
   "source": [
    "# 2. 基于鸭子类型(Duck Typing)的多态（Python 特色）\n",
    "# 不依赖继承，只要对象有对应的方法或属性，即可被视为同一“类型”。\n",
    "class Duck:\n",
    "    def quack(self):\n",
    "        print(\"嘎嘎嘎\")\n",
    "\n",
    "\n",
    "class Person:\n",
    "    def quack(self):\n",
    "        print(\"学鸭子叫\")\n",
    "\n",
    "\n",
    "def make_noise(obj):\n",
    "    obj.quack()\n",
    "\n",
    "\n",
    "# 使用鸭子类型\n",
    "duck = Duck()\n",
    "person = Person()\n",
    "make_noise(duck)  # 输出: 嘎嘎嘎\n",
    "make_noise(person)  # 输出: 学鸭子叫"
   ]
  },
  {
   "cell_type": "markdown",
   "id": "1291de5ceab45702",
   "metadata": {},
   "source": [
    "###### @abstractmethod 是 Python 中 abc (Abstract Base Classes) 模块中的一个装饰器，用于声明抽象方法。  抽象方法是在基类中声明，但没有具体实现的方法。  它强制子类必须实现该方法，否则子类也必须声明为抽象类。\n",
    "\n",
    "### 为什么使用 @abstractmethod\n",
    "###### 强制子类实现特定方法： @abstractmethod 确保所有继承自抽象基类的子类都必须实现基类中定义的抽象方法。这有助于保持接口的一致性，并避免因忘记实现必要方法而导致的运行时错误。\n",
    "###### 定义接口： 抽象基类可以作为一种接口规范，定义了一组子类必须实现的方法。 这有助于设计清晰的类层次结构，并提高代码的可读性和可维护性。\n",
    "###### 防止实例化抽象类： 抽象类不能被实例化。 尝试实例化抽象类会引发 TypeError。 这可以防止创建不完整的对象。\n",
    "\n",
    "### 如何使用 @abstractmethod\n",
    "###### 1.导入 abc 模块：  首先需要导入 abc 模块，它包含了定义抽象基类的工具。\n",
    "###### 2.创建抽象基类：  创建一个类并继承 ABC 类，表明它是一个抽象基类。\n",
    "###### 3.子类实现抽象方法：  任何继承自抽象基类的子类都必须实现基类中声明的抽象方法。\n",
    "###### 4.实例化子类：  现在可以实例化实现了抽象方法的子类。"
   ]
  },
  {
   "cell_type": "code",
   "execution_count": null,
   "id": "632c45aafdd0132d",
   "metadata": {},
   "outputs": [],
   "source": [
    "from abc import ABC, abstractmethod\n",
    "\n",
    "\n",
    "class Shape(ABC):\n",
    "    @abstractmethod\n",
    "    def area(self):\n",
    "        pass\n",
    "\n",
    "\n",
    "class Rectangle(Shape):\n",
    "    def __init__(self, width, height):\n",
    "        self.width = width\n",
    "        self.height = height\n",
    "\n",
    "    def area(self):\n",
    "        return self.width * self.height\n",
    "\n",
    "\n",
    "class Circle(Shape):\n",
    "    def __init__(self, radius):\n",
    "        self.radius = radius\n",
    "\n",
    "    def area(self):\n",
    "        import math\n",
    "        return math.pi * self.radius ** 2\n",
    "\n",
    "\n",
    "# 正确使用\n",
    "rect = Rectangle(5, 10)\n",
    "print(rect.area())  # 输出: 50\n",
    "\n",
    "circle = Circle(5)\n",
    "print(circle.area())  # 输出: 78.53981633974483\n",
    "\n",
    "# 错误使用 (忘记实现 area 方法)\n",
    "# class Triangle(Shape):  # 如果不实现 area 方法，会报错\n",
    "#     pass\n",
    "#\n",
    "# triangle = Triangle() # 会引发TypeError: Can't instantiate abstract class Triangle with abstract methods area"
   ]
  },
  {
   "cell_type": "markdown",
   "id": "38740ff3c780b872",
   "metadata": {},
   "source": [
    "### 示例：Python 内置的多态\n",
    "###### 这些对象没有共同父类，但都实现了 __len__() 方法，因此可以统一调用 len()。"
   ]
  },
  {
   "cell_type": "code",
   "execution_count": null,
   "id": "19ce57e5571a094b",
   "metadata": {},
   "outputs": [],
   "source": [
    "# 不同对象调用 len()\n",
    "print(len(\"Hello\"))  # 字符串 → 5\n",
    "print(len([1, 2, 3]))  # 列表 → 3\n",
    "print(len({\"a\": 1}))  # 字典 → 1"
   ]
  },
  {
   "cell_type": "markdown",
   "id": "725e8de1e1dbb93c",
   "metadata": {},
   "source": [
    "### 案例2：扑克游戏。"
   ]
  },
  {
   "cell_type": "code",
   "execution_count": null,
   "id": "988b6c769cd0af62",
   "metadata": {},
   "outputs": [],
   "source": [
    "import random\n",
    "\n",
    "\n",
    "class Card(object):\n",
    "    \"\"\"一张牌\"\"\"\n",
    "\n",
    "    def __init__(self, suite, face):\n",
    "        self._suite = suite\n",
    "        self._face = face\n",
    "\n",
    "    @property\n",
    "    def face(self):\n",
    "        return self._face\n",
    "\n",
    "    @property\n",
    "    def suite(self):\n",
    "        return self._suite\n",
    "\n",
    "    def __str__(self):\n",
    "        if self._face == 1:\n",
    "            face_str = 'A'\n",
    "        elif self._face == 11:\n",
    "            face_str = 'J'\n",
    "        elif self._face == 12:\n",
    "            face_str = 'Q'\n",
    "        elif self._face == 13:\n",
    "            face_str = 'K'\n",
    "        else:\n",
    "            face_str = str(self._face)\n",
    "        return '%s%s' % (self._suite, face_str)\n",
    "\n",
    "    def __repr__(self):\n",
    "        return self.__str__()\n",
    "\n",
    "\n",
    "class Poker(object):\n",
    "    \"\"\"一副牌\"\"\"\n",
    "\n",
    "    def __init__(self):\n",
    "        self._cards = [Card(suite, face)\n",
    "                       for suite in '♠♥♣♦'\n",
    "                       for face in range(1, 14)]\n",
    "        self._current = 0\n",
    "\n",
    "    @property\n",
    "    def cards(self):\n",
    "        return self._cards\n",
    "\n",
    "    def shuffle(self):\n",
    "        \"\"\"洗牌(随机乱序)\"\"\"\n",
    "        self._current = 0\n",
    "        random.shuffle(self._cards)\n",
    "\n",
    "    @property\n",
    "    def next(self):\n",
    "        \"\"\"发牌\"\"\"\n",
    "        card = self._cards[self._current]\n",
    "        self._current += 1\n",
    "        return card\n",
    "\n",
    "    @property\n",
    "    def has_next(self):\n",
    "        \"\"\"还有没有牌\"\"\"\n",
    "        return self._current < len(self._cards)\n",
    "\n",
    "\n",
    "class Player(object):\n",
    "    \"\"\"玩家\"\"\"\n",
    "\n",
    "    def __init__(self, name):\n",
    "        self._name = name\n",
    "        self._cards_on_hand = []\n",
    "\n",
    "    @property\n",
    "    def name(self):\n",
    "        return self._name\n",
    "\n",
    "    @property\n",
    "    def cards_on_hand(self):\n",
    "        return self._cards_on_hand\n",
    "\n",
    "    def get(self, card):\n",
    "        \"\"\"摸牌\"\"\"\n",
    "        self._cards_on_hand.append(card)\n",
    "\n",
    "    def arrange(self, card_key):\n",
    "        \"\"\"玩家整理手上的牌\"\"\"\n",
    "        self._cards_on_hand.sort(key=card_key)\n",
    "\n",
    "\n",
    "# 排序规则-先根据花色再根据点数排序\n",
    "def get_key(card):\n",
    "    return (card.suite, card.face)\n",
    "\n",
    "\n",
    "def main():\n",
    "    p = Poker()\n",
    "    p.shuffle()\n",
    "    players = [Player('东邪'), Player('西毒'), Player('南帝'), Player('北丐')]\n",
    "    for _ in range(13):\n",
    "        for player in players:\n",
    "            player.get(p.next)\n",
    "    for player in players:\n",
    "        print(player.name + ':', end=' ')\n",
    "        player.arrange(get_key)\n",
    "        print(player.cards_on_hand)\n",
    "\n",
    "\n",
    "if __name__ == '__main__':\n",
    "    main()"
   ]
  },
  {
   "cell_type": "markdown",
   "id": "178669aa2e11c84f",
   "metadata": {},
   "source": [
    "### 文件和异常"
   ]
  },
  {
   "cell_type": "code",
   "execution_count": null,
   "id": "3accec89b9753c6",
   "metadata": {},
   "outputs": [],
   "source": [
    "def main():\n",
    "    try:\n",
    "        f = open('致橡树.txt', 'r', encoding='utf-8')\n",
    "        print(f.read())\n",
    "    except FileExistsError:\n",
    "        print('没有指定文件！')\n",
    "    except FileNotFoundError:\n",
    "        print('无法打开指定文件')\n",
    "    except UnicodeDecodeError:\n",
    "        print('读取文件时解码错误')\n",
    "    finally:\n",
    "        if f:\n",
    "            f.close()\n",
    "\n",
    "\n",
    "if __name__ == '__main__':\n",
    "    main()"
   ]
  },
  {
   "cell_type": "code",
   "execution_count": null,
   "id": "76121c9fc2ee90b9",
   "metadata": {},
   "outputs": [],
   "source": [
    "def main():\n",
    "    try:\n",
    "        #通过with关键字指定文件对象的上下文环境并在离开上下文环境时自动释放文件资源，代码如下所示。\n",
    "        with open('致橡树.txt', 'r', encoding='utf-8') as f:\n",
    "            print(f.read())\n",
    "    except FileNotFoundError:\n",
    "        print('无法打开指定的文件!')\n",
    "    except LookupError:\n",
    "        print('指定了未知的编码!')\n",
    "    except UnicodeDecodeError:\n",
    "        print('读取文件时解码错误!')\n",
    "\n",
    "\n",
    "if __name__ == '__main__':\n",
    "    main()"
   ]
  },
  {
   "cell_type": "code",
   "execution_count": null,
   "id": "c73ddc030256710e",
   "metadata": {},
   "outputs": [],
   "source": [
    "import time\n",
    "\n",
    "\n",
    "def main():\n",
    "    # 一次性读取整个文件内容\n",
    "    with open('致橡树.txt', 'r', encoding='utf-8') as f:\n",
    "        print(f.read())\n",
    "\n",
    "    # 通过for-in循环逐行读取\n",
    "    with open('致橡树.txt', mode='r', encoding='utf-8') as f:\n",
    "        for line in f:\n",
    "            print(line, end='')\n",
    "            time.sleep(0.5)\n",
    "    print()\n",
    "\n",
    "    # 读取文件按行读取到列表中\n",
    "    with open('致橡树.txt', encoding='utf-8') as f:\n",
    "        lines = f.readlines()\n",
    "    print(lines)\n",
    "\n",
    "\n",
    "if __name__ == '__main__':\n",
    "    main()"
   ]
  },
  {
   "cell_type": "markdown",
   "id": "4305f3c1e58b7653",
   "metadata": {},
   "source": [
    "###### 追加内容到文件末尾\n",
    "\n",
    "如果想在文件末尾追加内容，而不是覆盖原有内容，可以使用 \"a\" 模式打开文件。"
   ]
  },
  {
   "cell_type": "code",
   "execution_count": null,
   "id": "8efc23f4d20d933b",
   "metadata": {},
   "outputs": [],
   "source": [
    "def main():\n",
    "    with open('致橡树.txt', 'a', encoding='utf-8') as f:\n",
    "        f.write('good night\\n')\n",
    "\n",
    "\n",
    "if __name__ == '__main__':\n",
    "    main()"
   ]
  },
  {
   "cell_type": "markdown",
   "id": "9aaebe2112a0b76e",
   "metadata": {},
   "source": [
    "###### 可以使用 writelines() 方法一次写入多行内容。"
   ]
  },
  {
   "cell_type": "code",
   "execution_count": null,
   "id": "a32aa24a590b154f",
   "metadata": {},
   "outputs": [],
   "source": [
    "lines = [\"Line 1\\n\", \"Line 2\\n\", \"Line 3\\n\"]\n",
    "with open(\"致橡树.txt\", \"w\") as file:\n",
    "    file.writelines(lines)"
   ]
  },
  {
   "cell_type": "code",
   "execution_count": null,
   "id": "a7053263d9c5e471",
   "metadata": {},
   "outputs": [],
   "source": [
    "with open(\"my_file.txt\", \"w\", encoding=\"utf-8\") as file:\n",
    "    file.write(\"你好，世界！\\n\")\n",
    "    file.write(\"This is a new line.\\n\")\n",
    "    \"D:\\study\\coding\\Github Repos\\Python-learning\\Practice_2025\\my_file.txt\""
   ]
  },
  {
   "cell_type": "markdown",
   "id": "fe862f3fd1c710af",
   "metadata": {},
   "source": [
    "### 读写二进制文件"
   ]
  },
  {
   "cell_type": "code",
   "execution_count": null,
   "id": "7db9207f588226e8",
   "metadata": {},
   "outputs": [],
   "source": [
    "def main():\n",
    "    try:\n",
    "        with open(\"nft.jpg\", \"rb\") as file1:\n",
    "            data = file1.read()\n",
    "            print(data)\n",
    "        with open(\"12345.jpg\", 'wb') as file2:  #二进制写入的文件名可以是数字和小写字母，不可以包含大写字母\n",
    "            file2.write(data)\n",
    "    except FileNotFoundError as e:\n",
    "        print('指定的文件无法打开.')\n",
    "    except IOError as e:\n",
    "        print('读写文件时出现错误.')\n",
    "    print('程序执行结束.')\n",
    "\n",
    "\n",
    "if __name__ == '__main__':\n",
    "    main()"
   ]
  },
  {
   "cell_type": "markdown",
   "id": "ffac9dd3fb5f008e",
   "metadata": {},
   "source": [
    "### 读写JSON文件"
   ]
  },
  {
   "cell_type": "code",
   "execution_count": 4,
   "id": "eb64d37b709b4b3e",
   "metadata": {
    "ExecuteTime": {
     "end_time": "2025-02-18T10:47:25.898754Z",
     "start_time": "2025-02-18T10:47:25.894895Z"
    }
   },
   "outputs": [
    {
     "name": "stdout",
     "output_type": "stream",
     "text": [
      "保存数据完成!\n"
     ]
    }
   ],
   "source": [
    "import json\n",
    "\n",
    "\n",
    "def main():\n",
    "    mydict = {\n",
    "        'name': '骆昊',\n",
    "        'age': 38,\n",
    "        'qq': 957658,\n",
    "        'friends': ['王大锤', '白元芳'],\n",
    "        'cars': [\n",
    "            {'brand': 'BYD', 'max_speed': 180},\n",
    "            {'brand': 'Audi', 'max_speed': 280},\n",
    "            {'brand': 'Benz', 'max_speed': 320}\n",
    "        ]\n",
    "    }\n",
    "    try:\n",
    "        with open('data1.json', 'w', encoding='utf-8') as fs:\n",
    "            json.dump(mydict, fs)\n",
    "    except IOError as e:\n",
    "        print(e)\n",
    "    print('保存数据完成!')\n",
    "\n",
    "\n",
    "if __name__ == '__main__':\n",
    "    main()"
   ]
  },
  {
   "cell_type": "code",
   "execution_count": 12,
   "id": "998d2179d64d632d",
   "metadata": {
    "ExecuteTime": {
     "end_time": "2025-02-18T10:49:24.310681Z",
     "start_time": "2025-02-18T10:49:24.307196Z"
    }
   },
   "outputs": [
    {
     "name": "stdout",
     "output_type": "stream",
     "text": [
      "name: 骆昊\n",
      "age: 38\n",
      "qq: 957658\n",
      "friends: ['王大锤', '白元芳']\n",
      "cars: [{'brand': 'BYD', 'max_speed': 180}, {'brand': 'Audi', 'max_speed': 280}, {'brand': 'Benz', 'max_speed': 320}]\n",
      "读取数据完成\n"
     ]
    }
   ],
   "source": [
    "import json\n",
    "\n",
    "\n",
    "def main():\n",
    "    try:\n",
    "        with open('data.json', 'r', encoding='utf-8') as f:\n",
    "            data = json.load(f)\n",
    "            for key in data:\n",
    "                print(f'{key}: {data[key]}')\n",
    "    except IOError as e:\n",
    "        print(e)\n",
    "    print('读取数据完成')\n",
    "\n",
    "\n",
    "if __name__ == '__main__':\n",
    "    main()\n"
   ]
  },
  {
   "cell_type": "code",
   "execution_count": null,
   "id": "11aa99b95c822476",
   "metadata": {},
   "outputs": [],
   "source": [
    "import requests\n",
    "import json\n",
    "\n",
    "\n",
    "def main():\n",
    "    resp = requests.get('http://api.tianapi.com/guonei/?key=APIKey&num=10')\n",
    "    data_model = json.loads(resp.text)\n",
    "    for news in data_model['newslist']:\n",
    "        print(news['title'])\n",
    "\n",
    "\n",
    "if __name__ == '__main__':\n",
    "    main()"
   ]
  },
  {
   "cell_type": "code",
   "execution_count": null,
   "id": "a4148ff58c67d77b",
   "metadata": {},
   "outputs": [],
   "source": [
    "\"\"\"\n",
    "验证输入用户名和QQ号是否有效并给出对应的提示信息\n",
    "\n",
    "要求：用户名必须由字母、数字或下划线构成且长度在6~20个字符之间，QQ号是5~12的数字且首位不能为0\n",
    "\"\"\"\n",
    "import re\n",
    "\n",
    "\n",
    "def main():\n",
    "    username = input('请输入用户名: ')\n",
    "    qq = input('请输入QQ号: ')\n",
    "    # match函数的第一个参数是正则表达式字符串或正则表达式对象\n",
    "    # 第二个参数是要跟正则表达式做匹配的字符串对象\n",
    "    m1 = re.match(r'^[0-9a-zA-Z_]{6,20}$', username)\n",
    "    if not m1:\n",
    "        print('请输入有效的用户名.')\n",
    "    m2 = re.match(r'^[1-9]\\d{4,11}$', qq)\n",
    "    if not m2:\n",
    "        print('请输入有效的QQ号.')\n",
    "    if m1 and m2:\n",
    "        print('你输入的信息是有效的!')\n",
    "\n",
    "\n",
    "if __name__ == '__main__':\n",
    "    main()"
   ]
  },
  {
   "cell_type": "code",
   "execution_count": null,
   "id": "b9bcb74dc2d60410",
   "metadata": {},
   "outputs": [],
   "source": [
    "import re\n",
    "\n",
    "\n",
    "def main():\n",
    "    # 创建正则表达式对象 使用了前瞻和回顾来保证手机号前后不应该出现数字\n",
    "    pattern = re.compile(r'(?<=\\D)1[34578]\\d{9}(?=\\D)')\n",
    "    sentence = '''\n",
    "    重要的事情说8130123456789遍，我的手机号是13512346789这个靓号，\n",
    "    不是15600998765，也是110或119，王大锤的手机号才是15600998765。\n",
    "    '''\n",
    "    # 查找所有匹配并保存到一个列表中\n",
    "    mylist = re.findall(pattern, sentence)\n",
    "    print(mylist)\n",
    "    print('--------华丽的分隔线--------')\n",
    "    # 通过迭代器取出匹配对象并获得匹配的内容\n",
    "    for temp in pattern.finditer(sentence):\n",
    "        print(temp.group())\n",
    "    print('--------华丽的分隔线--------')\n",
    "    # 通过search函数指定搜索位置找出所有匹配\n",
    "    m = pattern.search(sentence)\n",
    "    while m:\n",
    "        print(m.group())\n",
    "        m = pattern.search(sentence, m.end())\n",
    "\n",
    "\n",
    "if __name__ == '__main__':\n",
    "    main()"
   ]
  },
  {
   "cell_type": "markdown",
   "id": "35d1e75e90c7a054",
   "metadata": {},
   "source": [
    "### Python中的多进程"
   ]
  },
  {
   "cell_type": "code",
   "execution_count": 1,
   "id": "557ea51d53da076a",
   "metadata": {
    "ExecuteTime": {
     "end_time": "2025-02-19T00:50:31.103611Z",
     "start_time": "2025-02-19T00:50:21.097874Z"
    }
   },
   "outputs": [
    {
     "name": "stdout",
     "output_type": "stream",
     "text": [
      "开始下载Python从入门到入院.pdf\n",
      "Python从入门到入院.pdf下载完成！耗费了5秒\n",
      "开始下载Peking Hot.avi\n",
      "Peking Hot.avi下载完成！耗费了5秒\n",
      "总共用时10.00s\n"
     ]
    }
   ],
   "source": [
    "from random import randint\n",
    "from time import time, sleep\n",
    "\n",
    "\n",
    "def download_task(filename):\n",
    "    print('开始下载%s' % filename)\n",
    "    time_to_download = randint(5, 10)\n",
    "    sleep(time_to_download)\n",
    "    print('%s下载完成！耗费了%d秒' % (filename, time_to_download))\n",
    "\n",
    "\n",
    "def main():\n",
    "    start = time()\n",
    "    download_task('Python从入门到入院.pdf')\n",
    "    download_task('Peking Hot.avi')\n",
    "    end = time()\n",
    "    # print('总共耗费了%.2f秒' % (end - start))\n",
    "    print(f'总共用时{end - start:.2f}s')\n",
    "\n",
    "\n",
    "if __name__ == '__main__':\n",
    "    main()"
   ]
  },
  {
   "cell_type": "markdown",
   "id": "7469690f55db3419",
   "metadata": {},
   "source": [
    "###### 从上面的例子可以看出，如果程序中的代码只能按顺序一点点的往下执行，那么即使执行两个毫不相关的下载任务，也需要先等待一个文件下载完成后才能开始下一个下载任务，很显然这并不合理也没有效率。接下来我们使用多进程的方式将两个下载任务放到不同的进程中，代码如下所示。"
   ]
  },
  {
   "cell_type": "code",
   "execution_count": 1,
   "id": "181aa5ddfbc44ca1",
   "metadata": {
    "ExecuteTime": {
     "end_time": "2025-02-18T10:12:52.142983Z",
     "start_time": "2025-02-18T10:12:52.053376Z"
    }
   },
   "outputs": [
    {
     "name": "stdout",
     "output_type": "stream",
     "text": [
      "总共耗费了0.08秒.\n"
     ]
    }
   ],
   "source": [
    "from multiprocessing import Process\n",
    "from os import getpid\n",
    "from random import randint\n",
    "from time import time, sleep\n",
    "\n",
    "\n",
    "def download_task(filename):\n",
    "    print('启动下载进程，进程号[%d].' % getpid())\n",
    "    print('开始下载%s...' % filename)\n",
    "    time_to_download = randint(5, 10)\n",
    "    sleep(time_to_download)\n",
    "    print('%s下载完成! 耗费了%d秒' % (filename, time_to_download))\n",
    "\n",
    "\n",
    "def main():\n",
    "    start = time()\n",
    "    p1 = Process(target=download_task, args=('Python从入门到住院.pdf', ))\n",
    "    p1.start()\n",
    "    p2 = Process(target=download_task, args=('Peking Hot.avi', ))\n",
    "    p2.start()\n",
    "    p1.join()\n",
    "    p2.join()\n",
    "    end = time()\n",
    "    print('总共耗费了%.2f秒.' % (end - start))\n",
    "\n",
    "\n",
    "if __name__ == '__main__':\n",
    "    main()"
   ]
  },
  {
   "cell_type": "code",
   "execution_count": 3,
   "id": "d8dcc9aa9f121d11",
   "metadata": {
    "ExecuteTime": {
     "end_time": "2025-02-18T10:39:40.536891Z",
     "start_time": "2025-02-18T10:39:40.522218Z"
    }
   },
   "outputs": [],
   "source": [
    "from multiprocessing import Process\n",
    "from time import sleep\n",
    "\n",
    "counter = 0\n",
    "\n",
    "\n",
    "def sub_task(string):\n",
    "    global counter\n",
    "    while counter < 10:\n",
    "        print(string, end='', flush=True)\n",
    "        counter += 1\n",
    "        sleep(0.01)\n",
    "\n",
    "\n",
    "def main():\n",
    "    Process(target=sub_task, args=('Ping', )).start()\n",
    "    Process(target=sub_task, args=('Pong', )).start()\n",
    "\n",
    "\n",
    "if __name__ == '__main__':\n",
    "    main()"
   ]
  },
  {
   "cell_type": "markdown",
   "id": "6707dadcf30d4cc4",
   "metadata": {},
   "source": [
    "### 单线程+异步I/O\n",
    "###### 现代操作系统对I/O操作的改进中最为重要的就是支持异步I/O。如果充分利用操作系统提供的异步I/O支持，就可以用单进程单线程模型来执行多任务，这种全新的模型称为事件驱动模型。Nginx就是支持异步I/O的Web服务器，它在单核CPU上采用单进程模型就可以高效地支持多任务。\n",
    "###### 在Python语言中，单线程+异步I/O的编程模型称为协程，有了协程的支持，就可以基于事件驱动编写高效的多任务程序。协程最大的优势就是极高的执行效率，因为子程序切换不是线程切换，而是由程序自身控制，因此，没有线程切换的开销。协程的第二个优势就是不需要多线程的锁机制，因为只有一个线程，也不存在同时写变量冲突，在协程中控制共享资源不用加锁，只需要判断状态就好了，所以执行效率比多线程高很多。如果想要充分利用CPU的多核特性，最简单的方法是多进程+协程，既充分利用多核，又充分发挥协程的高效率，可获得极高的性能。关于这方面的内容，在后续的课程中会进行讲解。"
   ]
  },
  {
   "cell_type": "code",
   "execution_count": 6,
   "id": "69fa383b612635b6",
   "metadata": {
    "ExecuteTime": {
     "end_time": "2025-02-19T09:13:42.505180Z",
     "start_time": "2025-02-19T09:13:06.254104Z"
    }
   },
   "outputs": [],
   "source": [
    "import time\n",
    "import tkinter\n",
    "import tkinter.messagebox\n",
    "\n",
    "\n",
    "def download():\n",
    "    # 模拟下载任务需要花费10秒钟时间\n",
    "    time.sleep(10)\n",
    "    tkinter.messagebox.showinfo('提示', '下载完成!')\n",
    "\n",
    "\n",
    "def show_about():\n",
    "    tkinter.messagebox.showinfo('关于', '作者: 骆昊(v1.0)')\n",
    "\n",
    "\n",
    "def main():\n",
    "    top = tkinter.Tk()\n",
    "    top.title('单线程')\n",
    "    top.geometry('200x150')\n",
    "    top.wm_attributes('-topmost', True)\n",
    "\n",
    "    panel = tkinter.Frame(top)\n",
    "    button1 = tkinter.Button(panel, text='下载', command=download)\n",
    "    button1.pack(side='left')\n",
    "    button2 = tkinter.Button(panel, text='关于', command=show_about)\n",
    "    button2.pack(side='right')\n",
    "    panel.pack(side='bottom')\n",
    "\n",
    "    tkinter.mainloop()\n",
    "\n",
    "\n",
    "if __name__ == '__main__':\n",
    "    main()"
   ]
  },
  {
   "cell_type": "code",
   "execution_count": 9,
   "id": "d9f8d15b986df064",
   "metadata": {
    "ExecuteTime": {
     "end_time": "2025-02-19T09:26:50.782538Z",
     "start_time": "2025-02-19T09:26:27.489154Z"
    }
   },
   "outputs": [],
   "source": [
    "import time\n",
    "import tkinter\n",
    "import tkinter.messagebox\n",
    "from threading import Thread\n",
    "\n",
    "\n",
    "def main():\n",
    "\n",
    "    class DownloadTaskHandler(Thread):\n",
    "\n",
    "        def run(self):\n",
    "            time.sleep(10)\n",
    "            tkinter.messagebox.showinfo('提示', '下载完成!')\n",
    "            # 启用下载按钮\n",
    "            button1.config(state=tkinter.NORMAL)\n",
    "\n",
    "    def download():\n",
    "        # 禁用下载按钮\n",
    "        button1.config(state=tkinter.DISABLED)\n",
    "        # 通过daemon参数将线程设置为守护线程(主程序退出就不再保留执行)\n",
    "        # 在线程中处理耗时间的下载任务\n",
    "        DownloadTaskHandler(daemon=True).start()\n",
    "\n",
    "    def show_about():\n",
    "        tkinter.messagebox.showinfo('关于', '作者: 骆昊(v1.0)')\n",
    "\n",
    "    top = tkinter.Tk()\n",
    "    top.title('单线程')\n",
    "    top.geometry('200x150')\n",
    "    top.wm_attributes('-topmost', 1)\n",
    "\n",
    "    panel = tkinter.Frame(top)\n",
    "    button1 = tkinter.Button(panel, text='下载', command=download)\n",
    "    button1.pack(side='left')\n",
    "    button2 = tkinter.Button(panel, text='关于', command=show_about)\n",
    "    button2.pack(side='right')\n",
    "    panel.pack(side='bottom')\n",
    "\n",
    "    tkinter.mainloop()\n",
    "\n",
    "\n",
    "if __name__ == '__main__':\n",
    "    main()"
   ]
  },
  {
   "cell_type": "code",
   "execution_count": 10,
   "id": "2b85f8284803f67c",
   "metadata": {
    "ExecuteTime": {
     "end_time": "2025-02-19T09:28:08.041154Z",
     "start_time": "2025-02-19T09:28:03.992088Z"
    }
   },
   "outputs": [
    {
     "name": "stdout",
     "output_type": "stream",
     "text": [
      "5000000050000000\n",
      "Execution time: 1.459s\n"
     ]
    }
   ],
   "source": [
    "from time import time\n",
    "\n",
    "\n",
    "def main():\n",
    "    total = 0\n",
    "    number_list = [x for x in range(1, 100000001)]\n",
    "    start = time()\n",
    "    for number in number_list:\n",
    "        total += number\n",
    "    print(total)\n",
    "    end = time()\n",
    "    print('Execution time: %.3fs' % (end - start))\n",
    "\n",
    "\n",
    "if __name__ == '__main__':\n",
    "    main()"
   ]
  },
  {
   "cell_type": "markdown",
   "id": "7836db4e1350b6a9",
   "metadata": {},
   "source": [
    "### Queue模块的用法\n",
    "###### Python的queue模块提供了多种队列的实现，主要包括：\n",
    "• Queue: 普通队列，先进先出。\n",
    "• LifoQueue: 后进先出队列，类似于栈。\n",
    "• PriorityQueue: 优先级队列，元素按照优先级排序。"
   ]
  },
  {
   "cell_type": "code",
   "execution_count": 2,
   "id": "8527a232f4ae96ce",
   "metadata": {
    "ExecuteTime": {
     "end_time": "2025-03-01T05:41:28.898500Z",
     "start_time": "2025-03-01T05:41:28.880560Z"
    }
   },
   "outputs": [
    {
     "name": "stdout",
     "output_type": "stream",
     "text": [
      "Producer: put item-0\n",
      "Consumer: got item-0\n",
      "All tasks finished.\n"
     ]
    }
   ],
   "source": [
    "import queue\n",
    "import threading\n",
    "import time\n",
    "\n",
    "def producer(q):\n",
    "    for i in range(10):\n",
    "        item = f\"item-{i}\"\n",
    "        q.put(item)\n",
    "        print(f\"Producer: put {item}\")\n",
    "        time.sleep(1)\n",
    "\n",
    "def consumer(q):\n",
    "    while True:\n",
    "        item = q.get()\n",
    "        print(f\"Consumer: got {item}\")\n",
    "        q.task_done()\n",
    "\n",
    "q = queue.Queue()\n",
    "\n",
    "producer_thread = threading.Thread(target=producer, args=(q,))\n",
    "consumer_thread = threading.Thread(target=consumer, args=(q,))\n",
    "\n",
    "producer_thread.start()\n",
    "consumer_thread.start()\n",
    "\n",
    "q.join()  # 等待队列中的所有任务完成\n",
    "print(\"All tasks finished.\")"
   ]
  },
  {
   "cell_type": "code",
   "execution_count": null,
   "id": "36146f3c6e0cbfad",
   "metadata": {},
   "outputs": [],
   "source": [
    "from multiprocessing import Pool\n",
    "from time import time\n",
    "\n",
    "def task_handler(args):\n",
    "    start, end = args\n",
    "    return (start + end) * (end - start + 1) // 2\n",
    "\n",
    "def main():\n",
    "    start_time = time()\n",
    "    total_numbers = 100_000_000\n",
    "    num_processes = 8\n",
    "    chunk_size = total_numbers // num_processes\n",
    "\n",
    "    ranges = []\n",
    "    for i in range(num_processes):\n",
    "        start = i * chunk_size + 1\n",
    "        end = (i + 1) * chunk_size\n",
    "        ranges.append((start, end))\n",
    "\n",
    "    with Pool(num_processes) as pool:\n",
    "        results = pool.map(task_handler, ranges)\n",
    "        total = sum(results)\n",
    "        print(total)\n",
    "\n",
    "    end_time = time()\n",
    "    print(f'Execution time: {end_time - start_time:.2f}s')\n",
    "\n",
    "if __name__ == '__main__':\n",
    "    main()"
   ]
  },
  {
   "cell_type": "code",
   "execution_count": 1,
   "id": "359a9d6b57ca5057",
   "metadata": {
    "ExecuteTime": {
     "end_time": "2025-02-20T03:36:27.175775Z",
     "start_time": "2025-02-20T03:36:27.172009Z"
    }
   },
   "outputs": [
    {
     "name": "stdout",
     "output_type": "stream",
     "text": [
      "Start: -f, End: C:\\Users\\10032\\AppData\\Roaming\\jupyter\\runtime\\kernel-6e673c30-168e-4d3a-bf4a-9fc4dcf5e723.json\n"
     ]
    }
   ],
   "source": [
    "import sys\n",
    "\n",
    "args = sys.argv[1:]  # 获取命令行参数（去掉脚本名称）\n",
    "start, end = args  # 解包赋值\n",
    "print(f\"Start: {start}, End: {end}\")\n"
   ]
  },
  {
   "cell_type": "code",
   "execution_count": 3,
   "id": "c4cc0f6444338634",
   "metadata": {
    "ExecuteTime": {
     "end_time": "2025-02-20T06:58:36.691342Z",
     "start_time": "2025-02-20T06:58:36.688918Z"
    }
   },
   "outputs": [
    {
     "name": "stdout",
     "output_type": "stream",
     "text": [
      "你好，世界！\n"
     ]
    }
   ],
   "source": [
    "byte_stream = b\"\\xe4\\xbd\\xa0\\xe5\\xa5\\xbd\\xef\\xbc\\x8c\\xe4\\xb8\\x96\\xe7\\x95\\x8c\\xef\\xbc\\x81\"\n",
    "text = byte_stream.decode(\"utf-8\")  # 使用UTF-8解码\n",
    "print(text)"
   ]
  },
  {
   "cell_type": "markdown",
   "id": "973e71ffd571c450",
   "metadata": {},
   "source": [
    "### Pillow 操作图像"
   ]
  },
  {
   "cell_type": "code",
   "execution_count": 4,
   "id": "c43caac25d13201f",
   "metadata": {
    "ExecuteTime": {
     "end_time": "2025-02-20T09:51:17.639192Z",
     "start_time": "2025-02-20T09:51:17.595732Z"
    }
   },
   "outputs": [
    {
     "name": "stdout",
     "output_type": "stream",
     "text": [
      "JPEG (1080, 1080) RGB\n"
     ]
    }
   ],
   "source": [
    "from PIL import Image, ImageFilter\n",
    "\n",
    "image = Image.open('nft.jpg')\n",
    "print(image.format, image.size, image.mode)\n",
    "image.show()"
   ]
  },
  {
   "cell_type": "code",
   "execution_count": 17,
   "id": "3ddf87a29918fc70",
   "metadata": {
    "ExecuteTime": {
     "end_time": "2025-02-20T10:01:43.936702Z",
     "start_time": "2025-02-20T10:01:43.921528Z"
    }
   },
   "outputs": [],
   "source": [
    "#1.裁剪图像\n",
    "from PIL import Image\n",
    "image = Image.open('nft.jpg')\n",
    "rect = 300,500,700,800\n",
    "image.crop(rect).show()"
   ]
  },
  {
   "cell_type": "code",
   "execution_count": 11,
   "id": "9fb9ff6b66a4d3f8",
   "metadata": {
    "ExecuteTime": {
     "end_time": "2025-02-20T09:57:29.404130Z",
     "start_time": "2025-02-20T09:57:29.382257Z"
    }
   },
   "outputs": [
    {
     "name": "stdout",
     "output_type": "stream",
     "text": [
      "JPEG (400, 400) RGB\n"
     ]
    }
   ],
   "source": [
    "#2.生成缩略图\n",
    "from PIL import Image\n",
    "image = Image.open('nft.jpg')\n",
    "size = 400,514\n",
    "image.thumbnail(size)\n",
    "image.show()\n",
    "print(image.format, image.size, image.mode)"
   ]
  },
  {
   "cell_type": "code",
   "execution_count": 25,
   "id": "a5e4f14c6a89938e",
   "metadata": {
    "ExecuteTime": {
     "end_time": "2025-02-20T10:14:11.936782Z",
     "start_time": "2025-02-20T10:14:11.917117Z"
    }
   },
   "outputs": [],
   "source": [
    "#3 缩放和黏贴图像\n",
    "from PIL import Image\n",
    "image1 = Image.open('nft.jpg')\n",
    "image2 = Image.open('photo_20250217.jpg')\n",
    "rect = 300,500,700,800\n",
    "image1_head = image1.crop(rect)\n",
    "width, height = image1_head.size\n",
    "image2.paste((image1_head.resize((int(width/1.7),int(height/1.3)))),(90,100))\n",
    "image2.show()"
   ]
  },
  {
   "cell_type": "code",
   "execution_count": 27,
   "id": "3021f4f54b8d5c54",
   "metadata": {
    "ExecuteTime": {
     "end_time": "2025-02-20T10:17:27.769469Z",
     "start_time": "2025-02-20T10:17:27.692799Z"
    }
   },
   "outputs": [],
   "source": [
    "#4 旋转和翻转\n",
    "from PIL import Image\n",
    "image1 = Image.open('nft.jpg')\n",
    "# image1.rotate(90).show()\n",
    "image1.show()\n",
    "image1.transpose(Image.FLIP_LEFT_RIGHT).show()"
   ]
  },
  {
   "cell_type": "code",
   "execution_count": 30,
   "id": "6741fdd12347984d",
   "metadata": {
    "ExecuteTime": {
     "end_time": "2025-02-20T10:22:04.350841Z",
     "start_time": "2025-02-20T10:22:04.301170Z"
    }
   },
   "outputs": [],
   "source": [
    "#5 操作像素\n",
    "from PIL import Image\n",
    "image1 = Image.open('nft.jpg')\n",
    "for x in range(50,200):\n",
    "    for y in range(50,200):\n",
    "        image1.putpixel((x,y),(128,128,128))\n",
    "\n",
    "image1.show()"
   ]
  },
  {
   "cell_type": "code",
   "execution_count": 1,
   "id": "c4114b0bf581570e",
   "metadata": {
    "ExecuteTime": {
     "end_time": "2025-03-01T05:40:13.297513Z",
     "start_time": "2025-03-01T05:40:06.485712Z"
    }
   },
   "outputs": [
    {
     "ename": "KeyboardInterrupt",
     "evalue": "",
     "output_type": "error",
     "traceback": [
      "\u001b[1;31m---------------------------------------------------------------------------\u001b[0m",
      "\u001b[1;31mKeyboardInterrupt\u001b[0m                         Traceback (most recent call last)",
      "Cell \u001b[1;32mIn[1], line 4\u001b[0m\n\u001b[0;32m      2\u001b[0m \u001b[38;5;28;01mfrom\u001b[39;00m \u001b[38;5;21;01mPIL\u001b[39;00m \u001b[38;5;28;01mimport\u001b[39;00m Image, ImageFilter\n\u001b[0;32m      3\u001b[0m image1 \u001b[38;5;241m=\u001b[39m Image\u001b[38;5;241m.\u001b[39mopen(\u001b[38;5;124m'\u001b[39m\u001b[38;5;124mphoto_20250217.jpg\u001b[39m\u001b[38;5;124m'\u001b[39m)\n\u001b[1;32m----> 4\u001b[0m \u001b[43mimage1\u001b[49m\u001b[38;5;241;43m.\u001b[39;49m\u001b[43mfilter\u001b[49m\u001b[43m(\u001b[49m\u001b[43mImageFilter\u001b[49m\u001b[38;5;241;43m.\u001b[39;49m\u001b[43mCONTOUR\u001b[49m\u001b[43m)\u001b[49m\u001b[38;5;241;43m.\u001b[39;49m\u001b[43mshow\u001b[49m\u001b[43m(\u001b[49m\u001b[43m)\u001b[49m\n",
      "File \u001b[1;32mD:\\study\\ANNACONDA\\envs\\nlp\\lib\\site-packages\\PIL\\Image.py:2492\u001b[0m, in \u001b[0;36mImage.show\u001b[1;34m(self, title)\u001b[0m\n\u001b[0;32m   2472\u001b[0m \u001b[38;5;28;01mdef\u001b[39;00m \u001b[38;5;21mshow\u001b[39m(\u001b[38;5;28mself\u001b[39m, title\u001b[38;5;241m=\u001b[39m\u001b[38;5;28;01mNone\u001b[39;00m):\n\u001b[0;32m   2473\u001b[0m \u001b[38;5;250m    \u001b[39m\u001b[38;5;124;03m\"\"\"\u001b[39;00m\n\u001b[0;32m   2474\u001b[0m \u001b[38;5;124;03m    Displays this image. This method is mainly intended for debugging purposes.\u001b[39;00m\n\u001b[0;32m   2475\u001b[0m \n\u001b[1;32m   (...)\u001b[0m\n\u001b[0;32m   2489\u001b[0m \u001b[38;5;124;03m    :param title: Optional title to use for the image window, where possible.\u001b[39;00m\n\u001b[0;32m   2490\u001b[0m \u001b[38;5;124;03m    \"\"\"\u001b[39;00m\n\u001b[1;32m-> 2492\u001b[0m     \u001b[43m_show\u001b[49m\u001b[43m(\u001b[49m\u001b[38;5;28;43mself\u001b[39;49m\u001b[43m,\u001b[49m\u001b[43m \u001b[49m\u001b[43mtitle\u001b[49m\u001b[38;5;241;43m=\u001b[39;49m\u001b[43mtitle\u001b[49m\u001b[43m)\u001b[49m\n",
      "File \u001b[1;32mD:\\study\\ANNACONDA\\envs\\nlp\\lib\\site-packages\\PIL\\Image.py:3535\u001b[0m, in \u001b[0;36m_show\u001b[1;34m(image, **options)\u001b[0m\n\u001b[0;32m   3532\u001b[0m \u001b[38;5;28;01mdef\u001b[39;00m \u001b[38;5;21m_show\u001b[39m(image, \u001b[38;5;241m*\u001b[39m\u001b[38;5;241m*\u001b[39moptions):\n\u001b[0;32m   3533\u001b[0m     \u001b[38;5;28;01mfrom\u001b[39;00m \u001b[38;5;21;01m.\u001b[39;00m \u001b[38;5;28;01mimport\u001b[39;00m ImageShow\n\u001b[1;32m-> 3535\u001b[0m     ImageShow\u001b[38;5;241m.\u001b[39mshow(image, \u001b[38;5;241m*\u001b[39m\u001b[38;5;241m*\u001b[39moptions)\n",
      "File \u001b[1;32mD:\\study\\ANNACONDA\\envs\\nlp\\lib\\site-packages\\PIL\\ImageShow.py:60\u001b[0m, in \u001b[0;36mshow\u001b[1;34m(image, title, **options)\u001b[0m\n\u001b[0;32m     51\u001b[0m \u001b[38;5;250m\u001b[39m\u001b[38;5;124mr\u001b[39m\u001b[38;5;124;03m\"\"\"\u001b[39;00m\n\u001b[0;32m     52\u001b[0m \u001b[38;5;124;03mDisplay a given image.\u001b[39;00m\n\u001b[0;32m     53\u001b[0m \n\u001b[1;32m   (...)\u001b[0m\n\u001b[0;32m     57\u001b[0m \u001b[38;5;124;03m:returns: ``True`` if a suitable viewer was found, ``False`` otherwise.\u001b[39;00m\n\u001b[0;32m     58\u001b[0m \u001b[38;5;124;03m\"\"\"\u001b[39;00m\n\u001b[0;32m     59\u001b[0m \u001b[38;5;28;01mfor\u001b[39;00m viewer \u001b[38;5;129;01min\u001b[39;00m _viewers:\n\u001b[1;32m---> 60\u001b[0m     \u001b[38;5;28;01mif\u001b[39;00m viewer\u001b[38;5;241m.\u001b[39mshow(image, title\u001b[38;5;241m=\u001b[39mtitle, \u001b[38;5;241m*\u001b[39m\u001b[38;5;241m*\u001b[39moptions):\n\u001b[0;32m     61\u001b[0m         \u001b[38;5;28;01mreturn\u001b[39;00m \u001b[38;5;28;01mTrue\u001b[39;00m\n\u001b[0;32m     62\u001b[0m \u001b[38;5;28;01mreturn\u001b[39;00m \u001b[38;5;28;01mFalse\u001b[39;00m\n",
      "File \u001b[1;32mD:\\study\\ANNACONDA\\envs\\nlp\\lib\\site-packages\\PIL\\ImageShow.py:84\u001b[0m, in \u001b[0;36mViewer.show\u001b[1;34m(self, image, **options)\u001b[0m\n\u001b[0;32m     81\u001b[0m     \u001b[38;5;28;01mif\u001b[39;00m image\u001b[38;5;241m.\u001b[39mmode \u001b[38;5;241m!=\u001b[39m base:\n\u001b[0;32m     82\u001b[0m         image \u001b[38;5;241m=\u001b[39m image\u001b[38;5;241m.\u001b[39mconvert(base)\n\u001b[1;32m---> 84\u001b[0m \u001b[38;5;28;01mreturn\u001b[39;00m \u001b[38;5;28mself\u001b[39m\u001b[38;5;241m.\u001b[39mshow_image(image, \u001b[38;5;241m*\u001b[39m\u001b[38;5;241m*\u001b[39moptions)\n",
      "File \u001b[1;32mD:\\study\\ANNACONDA\\envs\\nlp\\lib\\site-packages\\PIL\\ImageShow.py:110\u001b[0m, in \u001b[0;36mViewer.show_image\u001b[1;34m(self, image, **options)\u001b[0m\n\u001b[0;32m    108\u001b[0m \u001b[38;5;28;01mdef\u001b[39;00m \u001b[38;5;21mshow_image\u001b[39m(\u001b[38;5;28mself\u001b[39m, image, \u001b[38;5;241m*\u001b[39m\u001b[38;5;241m*\u001b[39moptions):\n\u001b[0;32m    109\u001b[0m \u001b[38;5;250m    \u001b[39m\u001b[38;5;124;03m\"\"\"Display the given image.\"\"\"\u001b[39;00m\n\u001b[1;32m--> 110\u001b[0m     \u001b[38;5;28;01mreturn\u001b[39;00m \u001b[38;5;28mself\u001b[39m\u001b[38;5;241m.\u001b[39mshow_file(\u001b[38;5;28mself\u001b[39m\u001b[38;5;241m.\u001b[39msave_image(image), \u001b[38;5;241m*\u001b[39m\u001b[38;5;241m*\u001b[39moptions)\n",
      "File \u001b[1;32mD:\\study\\ANNACONDA\\envs\\nlp\\lib\\site-packages\\PIL\\ImageShow.py:116\u001b[0m, in \u001b[0;36mViewer.show_file\u001b[1;34m(self, path, **options)\u001b[0m\n\u001b[0;32m    112\u001b[0m \u001b[38;5;28;01mdef\u001b[39;00m \u001b[38;5;21mshow_file\u001b[39m(\u001b[38;5;28mself\u001b[39m, path, \u001b[38;5;241m*\u001b[39m\u001b[38;5;241m*\u001b[39moptions):\n\u001b[0;32m    113\u001b[0m \u001b[38;5;250m    \u001b[39m\u001b[38;5;124;03m\"\"\"\u001b[39;00m\n\u001b[0;32m    114\u001b[0m \u001b[38;5;124;03m    Display given file.\u001b[39;00m\n\u001b[0;32m    115\u001b[0m \u001b[38;5;124;03m    \"\"\"\u001b[39;00m\n\u001b[1;32m--> 116\u001b[0m     \u001b[43mos\u001b[49m\u001b[38;5;241;43m.\u001b[39;49m\u001b[43msystem\u001b[49m\u001b[43m(\u001b[49m\u001b[38;5;28;43mself\u001b[39;49m\u001b[38;5;241;43m.\u001b[39;49m\u001b[43mget_command\u001b[49m\u001b[43m(\u001b[49m\u001b[43mpath\u001b[49m\u001b[43m,\u001b[49m\u001b[43m \u001b[49m\u001b[38;5;241;43m*\u001b[39;49m\u001b[38;5;241;43m*\u001b[39;49m\u001b[43moptions\u001b[49m\u001b[43m)\u001b[49m\u001b[43m)\u001b[49m  \u001b[38;5;66;03m# nosec\u001b[39;00m\n\u001b[0;32m    117\u001b[0m     \u001b[38;5;28;01mreturn\u001b[39;00m \u001b[38;5;241m1\u001b[39m\n",
      "\u001b[1;31mKeyboardInterrupt\u001b[0m: "
     ]
    }
   ],
   "source": [
    "#6 滤镜效果\n",
    "from PIL import Image, ImageFilter\n",
    "image1 = Image.open('photo_20250217.jpg')\n",
    "image1.filter(ImageFilter.CONTOUR).show()"
   ]
  },
  {
   "cell_type": "markdown",
   "id": "6b3d904f533102b4",
   "metadata": {},
   "source": [
    "### Python 语言进阶"
   ]
  },
  {
   "cell_type": "code",
   "execution_count": 1,
   "id": "d97e7e3d14e2156d",
   "metadata": {
    "ExecuteTime": {
     "end_time": "2025-02-21T01:04:25.785381Z",
     "start_time": "2025-02-21T01:04:25.781259Z"
    }
   },
   "outputs": [
    {
     "name": "stdout",
     "output_type": "stream",
     "text": [
      "{'AAPL': 191.88, 'GOOG': 1186.96, 'IBM': 149.24, 'ACN': 166.89, 'FB': 208.09}\n"
     ]
    }
   ],
   "source": [
    "#生成式（推导式）的用法\n",
    "#说明：生成式（推导式）可以用来生成列表、集合和字典。\n",
    "prices = {\n",
    "    'AAPL': 191.88,\n",
    "    'GOOG': 1186.96,\n",
    "    'IBM': 149.24,\n",
    "    'ORCL': 48.44,\n",
    "    'ACN': 166.89,\n",
    "    'FB': 208.09,\n",
    "    'SYMC': 21.29\n",
    "}\n",
    "# 用股票价格大于100元的股票构造一个新的字典\n",
    "prices2 = {key: value for key, value in prices.items() if value > 100}\n",
    "print(prices2)"
   ]
  },
  {
   "cell_type": "code",
   "execution_count": 7,
   "id": "57b5bfa256896487",
   "metadata": {
    "ExecuteTime": {
     "end_time": "2025-02-21T01:18:30.980846Z",
     "start_time": "2025-02-21T01:18:14.554829Z"
    }
   },
   "outputs": [
    {
     "name": "stdout",
     "output_type": "stream",
     "text": [
      "[['34', None, None], [None, None, None], [None, None, None], [None, None, None], [None, None, None]]\n",
      "[['34', '5', None], [None, None, None], [None, None, None], [None, None, None], [None, None, None]]\n",
      "[['34', '5', '6'], [None, None, None], [None, None, None], [None, None, None], [None, None, None]]\n",
      "[['34', '5', '6'], ['4', None, None], [None, None, None], [None, None, None], [None, None, None]]\n",
      "[['34', '5', '6'], ['4', '2', None], [None, None, None], [None, None, None], [None, None, None]]\n",
      "[['34', '5', '6'], ['4', '2', '4'], [None, None, None], [None, None, None], [None, None, None]]\n",
      "[['34', '5', '6'], ['4', '2', '4'], ['5', None, None], [None, None, None], [None, None, None]]\n",
      "[['34', '5', '6'], ['4', '2', '4'], ['5', '6', None], [None, None, None], [None, None, None]]\n",
      "[['34', '5', '6'], ['4', '2', '4'], ['5', '6', '3'], [None, None, None], [None, None, None]]\n",
      "[['34', '5', '6'], ['4', '2', '4'], ['5', '6', '3'], ['2', None, None], [None, None, None]]\n",
      "[['34', '5', '6'], ['4', '2', '4'], ['5', '6', '3'], ['2', '4', None], [None, None, None]]\n",
      "[['34', '5', '6'], ['4', '2', '4'], ['5', '6', '3'], ['2', '4', '5'], [None, None, None]]\n",
      "[['34', '5', '6'], ['4', '2', '4'], ['5', '6', '3'], ['2', '4', '5'], ['6', None, None]]\n",
      "[['34', '5', '6'], ['4', '2', '4'], ['5', '6', '3'], ['2', '4', '5'], ['6', '7', None]]\n",
      "[['34', '5', '6'], ['4', '2', '4'], ['5', '6', '3'], ['2', '4', '5'], ['6', '7', '8']]\n"
     ]
    }
   ],
   "source": [
    "# 嵌套的列表的坑\n",
    "names = ['关羽', '张飞', '赵云', '马超', '黄忠']\n",
    "courses = ['语文', '数学', '英语']\n",
    "scores = [[None]*len(courses) for _ in range(len(names))]\n",
    "for row, name in enumerate(names):\n",
    "    for col, course in enumerate(courses):\n",
    "        scores[row][col]=input(f'请输入{name}的{course}成绩')\n",
    "        print(scores)"
   ]
  },
  {
   "cell_type": "markdown",
   "id": "e34e46c2d28fe1e6",
   "metadata": {},
   "source": [
    "### heapq模块（堆排序）"
   ]
  },
  {
   "cell_type": "code",
   "execution_count": 9,
   "id": "b65391d2d5bf99e",
   "metadata": {
    "ExecuteTime": {
     "end_time": "2025-02-21T01:23:33.413968Z",
     "start_time": "2025-02-21T01:23:33.410611Z"
    }
   },
   "outputs": [
    {
     "name": "stdout",
     "output_type": "stream",
     "text": [
      "[99, 92, 88]\n",
      "[12, 25, 34]\n",
      "[{'name': 'AAPL', 'shares': 50, 'price': 543.22}, {'name': 'ACME', 'shares': 75, 'price': 115.65}]\n",
      "[{'name': 'FB', 'shares': 200, 'price': 21.09}, {'name': 'IBM', 'shares': 100, 'price': 91.1}]\n"
     ]
    }
   ],
   "source": [
    "\"\"\"\n",
    "从列表中找出最大的或最小的N个元素\n",
    "堆结构(大根堆/小根堆)\n",
    "\"\"\"\n",
    "import heapq\n",
    "\n",
    "list1 = [34, 25, 12, 99, 87, 63, 58, 78, 88, 92]\n",
    "list2 = [\n",
    "    {'name': 'IBM', 'shares': 100, 'price': 91.1},\n",
    "    {'name': 'AAPL', 'shares': 50, 'price': 543.22},\n",
    "    {'name': 'FB', 'shares': 200, 'price': 21.09},\n",
    "    {'name': 'HPQ', 'shares': 35, 'price': 31.75},\n",
    "    {'name': 'YHOO', 'shares': 45, 'price': 16.35},\n",
    "    {'name': 'ACME', 'shares': 75, 'price': 115.65}\n",
    "]\n",
    "print(heapq.nlargest(3, list1))\n",
    "print(heapq.nsmallest(3, list1))\n",
    "print(heapq.nlargest(2, list2, key=lambda x: x['price']))\n",
    "print(heapq.nlargest(2, list2, key=lambda x: x['shares']))"
   ]
  },
  {
   "cell_type": "markdown",
   "id": "5d0d5618b308c8d6",
   "metadata": {},
   "source": [
    "### itertools模块"
   ]
  },
  {
   "cell_type": "code",
   "execution_count": null,
   "id": "ce88698fdb11314f",
   "metadata": {},
   "outputs": [],
   "source": [
    "\"\"\"\n",
    "迭代工具模块\n",
    "\"\"\"\n",
    "import itertools\n",
    "\n",
    "# 产生ABCD的全排列\n",
    "itertools.permutations('ABCD')\n",
    "# 产生ABCDE的五选三组合\n",
    "itertools.combinations('ABCDE', 3)\n",
    "# 产生ABCD和123的笛卡尔积\n",
    "print([x for x in itertools.product('ABCD', '123')])\n",
    "# 产生ABC的无限循环序列\n",
    "itertools.cycle(('A', 'B', 'C'))"
   ]
  },
  {
   "cell_type": "markdown",
   "id": "c6c737758e977109",
   "metadata": {},
   "source": [
    "### collections模块\n",
    "######  常用的工具类：\n",
    "\n",
    "###### namedtuple：命令元组，它是一个类工厂，接受类型的名称和属性列表来创建一个类。\n",
    "###### deque：双端队列，是列表的替代实现。Python中的列表底层是基于数组来实现的，而deque底层是双向链表，因此当你需要在头尾添加和删除元素时，deque会表现出更好的性能，渐近时间复杂度为$O(1)$。\n",
    "###### Counter：dict的子类，键是元素，值是元素的计数，它的most_common()方法可以帮助我们获取出现频率最高的元素。Counter和dict的继承关系我认为是值得商榷的，按照CARP原则，Counter跟dict的关系应该设计为关联关系更为合理。\n",
    "###### OrderedDict：dict的子类，它记录了键值对插入的顺序，看起来既有字典的行为，也有链表的行为。\n",
    "###### defaultdict：类似于字典类型，但是可以通过默认的工厂函数来获得键对应的默认值，相比字典中的setdefault()方法，这种做法更加高效。"
   ]
  },
  {
   "cell_type": "code",
   "execution_count": 1,
   "id": "fe3f2f30f9c127a",
   "metadata": {
    "ExecuteTime": {
     "end_time": "2025-02-22T00:13:46.811159Z",
     "start_time": "2025-02-22T00:13:46.808149Z"
    }
   },
   "outputs": [
    {
     "name": "stdout",
     "output_type": "stream",
     "text": [
      "[('eyes', 8), ('the', 5), ('look', 4)]\n",
      "dict_keys(['look', 'into', 'my', 'eyes', 'the', 'not', 'around', \"don't\", \"you're\", 'under'])\n",
      "dict_values([4, 3, 3, 8, 5, 1, 2, 1, 1, 1])\n"
     ]
    }
   ],
   "source": [
    "\"\"\"\n",
    "找出序列中出现次数最多的元素\n",
    "\"\"\"\n",
    "from collections import Counter\n",
    "\n",
    "words = [\n",
    "    'look', 'into', 'my', 'eyes', 'look', 'into', 'my', 'eyes',\n",
    "    'the', 'eyes', 'the', 'eyes', 'the', 'eyes', 'not', 'around',\n",
    "    'the', 'eyes', \"don't\", 'look', 'around', 'the', 'eyes',\n",
    "    'look', 'into', 'my', 'eyes', \"you're\", 'under'\n",
    "]\n",
    "counter = Counter(words)\n",
    "print(counter.most_common(3))\n",
    "print(counter.keys())\n",
    "print(counter.values())"
   ]
  },
  {
   "cell_type": "markdown",
   "id": "b5fd8c782d112879",
   "metadata": {},
   "source": [
    "### Python的赋值和浅拷贝机制\n",
    "###### 下面这段代码是列表的赋值，在 Python 中，当执行 list_b = list_a 这样的赋值操作时，实际上是将 list_a 所引用的列表对象的引用赋给了 list_b。这意味着 list_a 和 list_b 都指向内存中的同一个列表对象。修改 list_a 会影响 list_b，反之亦然。"
   ]
  },
  {
   "cell_type": "code",
   "execution_count": 3,
   "id": "fb4af739c404c30",
   "metadata": {
    "ExecuteTime": {
     "end_time": "2025-02-22T07:16:20.686227Z",
     "start_time": "2025-02-22T07:16:20.683407Z"
    }
   },
   "outputs": [
    {
     "name": "stdout",
     "output_type": "stream",
     "text": [
      "[10, 2, 3]\n"
     ]
    }
   ],
   "source": [
    "list_a = [1, 2, 3]\n",
    "list_b = list_a\n",
    "list_a[0] = 10\n",
    "print(list_b)  # 输出：[10, 2, 3]"
   ]
  },
  {
   "cell_type": "markdown",
   "id": "daa02b51905eddf5",
   "metadata": {},
   "source": [
    "###### 浅拷贝\n",
    "##### 这里是将items用切片方式创建了一个全新对象，该对象包含item全部元素内容\n",
    "##### 浅拷贝的含义：\n",
    "###### 如果原始列表中的元素是不可变对象（例如，整数、字符串、元组），则浅拷贝会创建这些元素的独立副本。\n",
    "###### 如果原始列表中的元素是可变对象（例如，列表、字典），则浅拷贝只会复制这些可变对象的引用。换句话说，新列表和原始列表中的可变对象仍然指向内存中的同一个对象。"
   ]
  },
  {
   "cell_type": "code",
   "execution_count": null,
   "id": "6658e07fe5dc5180",
   "metadata": {
    "jupyter": {
     "is_executing": true
    }
   },
   "outputs": [],
   "source": [
    "items = [1, 2, 3]\n",
    "original_id = id(items)# 获取原始列表的内存地址\n",
    "print(id(items))\n",
    "items = items[:]\n",
    "new_id = id(items)  # 获取新列表的内存地址\n",
    "print(id(items))\n",
    "print(original_id == new_id)  # 输出：False\n",
    "print(items) #输出 [1,2,3]"
   ]
  },
  {
   "cell_type": "code",
   "execution_count": 4,
   "id": "ea6ccc6b6ad2f27a",
   "metadata": {
    "ExecuteTime": {
     "end_time": "2025-02-22T07:20:32.163461Z",
     "start_time": "2025-02-22T07:20:32.160204Z"
    }
   },
   "outputs": [
    {
     "name": "stdout",
     "output_type": "stream",
     "text": [
      "[1, 2, [30, 4]]\n"
     ]
    }
   ],
   "source": [
    "list_a = [1, 2, [3, 4]]\n",
    "list_b = list_a[:]#这里浅拷贝的list中数字是不会被改变，但是list是会被改变因为只是复制了list的引用\n",
    "list_a[0] = 10\n",
    "list_a[2][0] = 30\n",
    "print(list_b)  # 输出：[1, 2, [30, 4]]"
   ]
  }
 ],
 "metadata": {
  "kernelspec": {
   "display_name": "nlp",
   "language": "python",
   "name": "python3"
  },
  "language_info": {
   "codemirror_mode": {
    "name": "ipython",
    "version": 3
   },
   "file_extension": ".py",
   "mimetype": "text/x-python",
   "name": "python",
   "nbconvert_exporter": "python",
   "pygments_lexer": "ipython3",
   "version": "3.9.19"
  }
 },
 "nbformat": 5,
 "nbformat_minor": 9
}
