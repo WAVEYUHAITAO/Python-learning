{
 "cells": [
  {
   "metadata": {},
   "cell_type": "code",
   "source": [
    "from prompt_toolkit.key_binding.bindings.basic import if_no_repeat\n",
    "\n",
    "a = 321\n",
    "b = 12\n",
    "print(a + b)  # 333\n",
    "print(a - b)  # 309\n",
    "print(a * b)  # 3852\n",
    "print(a / b)  # 26.75"
   ],
   "id": "a7a6f5bf05d35079",
   "outputs": [],
   "execution_count": null
  },
  {
   "metadata": {},
   "cell_type": "code",
   "source": [
    "a = 100\n",
    "b = 12.345\n",
    "c = 1 + 5j\n",
    "d = 'hello, world'\n",
    "e = True\n",
    "print(type(a))  # <class 'int'>\n",
    "print(type(b))  # <class 'float'>\n",
    "print(type(c))  # <class 'complex'>\n",
    "print(type(d))  # <class 'str'>\n",
    "print(type(e))  # <class 'bool'>"
   ],
   "id": "6c03898ee2f31e59",
   "outputs": [],
   "execution_count": null
  },
  {
   "metadata": {},
   "cell_type": "code",
   "source": [
    "a = 100\n",
    "b = 12.345\n",
    "c = 1 + 5j\n",
    "d = 'hello, world'\n",
    "e = True\n",
    "print(type(a))  # <class 'int'>\n",
    "print(type(b))  # <class 'float'>\n",
    "print(type(c))  # <class 'complex'>\n",
    "print(type(d))  # <class 'str'>\n",
    "print(type(e))  # <class 'bool'>"
   ],
   "id": "f5f27dac73c1caa6",
   "outputs": [],
   "execution_count": null
  },
  {
   "metadata": {},
   "cell_type": "code",
   "source": [
    "def fac(num):  #阶乘\n",
    "    result = 1\n",
    "    for i in range(1, num + 1):\n",
    "        result *= i\n",
    "    return result\n",
    "\n",
    "\n",
    "m = int(input('m='))\n",
    "n = int(input('n='))\n",
    "print(fac(m))\n",
    "print(fac(n))\n"
   ],
   "id": "199b0c286c007786",
   "outputs": [],
   "execution_count": null
  },
  {
   "metadata": {},
   "cell_type": "code",
   "source": [
    "from random import randint\n",
    "\n",
    "\n",
    "def roll(n=2):\n",
    "    result = 0\n",
    "    total = 0\n",
    "    for _ in range(n):\n",
    "        result = randint(1, 6)\n",
    "        print('第%d次结果是%d' % (_ + 1, result))\n",
    "        total = result + total\n",
    "    print('结果之和是%d' % total)\n",
    "    return total\n",
    "\n",
    "\n",
    "roll()\n",
    "roll(3)\n",
    "\n",
    "\n",
    "# roll(int(input('请输入次数:')))\n",
    "\n",
    "def add(a=0, b=0, c=0):\n",
    "    return a + b + c\n",
    "\n",
    "\n",
    "add(1, 3)"
   ],
   "id": "9d637b39c6077c64",
   "outputs": [],
   "execution_count": null
  },
  {
   "metadata": {},
   "cell_type": "markdown",
   "source": "### 可变参数",
   "id": "616e12529890f5f0"
  },
  {
   "metadata": {},
   "cell_type": "code",
   "source": [
    "def add(*ab):\n",
    "    total = 0\n",
    "    for _ in ab:\n",
    "        total += _\n",
    "    print(total)\n",
    "\n",
    "\n",
    "add(1, 2, 3, 4, 10)"
   ],
   "id": "b47b47a4bf400231",
   "outputs": [],
   "execution_count": null
  },
  {
   "metadata": {},
   "cell_type": "code",
   "source": [
    "def foo():\n",
    "    print('hello, world!')\n",
    "\n",
    "\n",
    "def foo():\n",
    "    print('goodbye, world!')\n",
    "\n",
    "\n",
    "# 下面的代码会输出什么呢？ 后一个会覆盖前一个\n",
    "foo()"
   ],
   "id": "cc893ca2b93a14b8",
   "outputs": [],
   "execution_count": null
  },
  {
   "metadata": {},
   "cell_type": "code",
   "source": [
    "import mould1 as m1\n",
    "import mould2 as m2\n",
    "\n",
    "m1.foo()\n",
    "m2.foo()"
   ],
   "id": "47694eac1e70a912",
   "outputs": [],
   "execution_count": null
  },
  {
   "metadata": {},
   "cell_type": "code",
   "source": [
    "import mould1\n",
    "\n",
    "mould1.foo()"
   ],
   "id": "2a156ee763f267be",
   "outputs": [],
   "execution_count": null
  },
  {
   "metadata": {},
   "cell_type": "markdown",
   "source": [
    "### __name__='__main__'用法\n",
    "###### __name__是Python中一个隐含的变量它代表了模块的名字\n",
    "###### 只有被Python解释器直接执行的模块的名字才是__main__\n",
    "###### 导入module3时 不会执行模块中if条件成立时的代码 因为模块的名字是module3而不是__main__"
   ],
   "id": "b65551cff66ce33"
  },
  {
   "metadata": {},
   "cell_type": "code",
   "source": [
    "import mould3 as m3\n",
    "\n",
    "m3.foo()"
   ],
   "id": "7287e550b088e7ce",
   "outputs": [],
   "execution_count": null
  },
  {
   "metadata": {},
   "cell_type": "markdown",
   "source": "### 全局变量 局部变量",
   "id": "4baba80527594423"
  },
  {
   "metadata": {},
   "cell_type": "code",
   "source": [
    "def foo():\n",
    "    a = 200\n",
    "    print(a)  # 200\n",
    "\n",
    "\n",
    "if __name__ == '__main__':\n",
    "    a = 100\n",
    "    foo()  #这里打印了局部函数的a， 局部函数里的局部变量a和全局变量a不一样，虽然都是a\n",
    "    print(a)  # 100 这里的a是全局变量"
   ],
   "id": "461e27a20eff5b90",
   "outputs": [],
   "execution_count": null
  },
  {
   "metadata": {},
   "cell_type": "code",
   "source": [
    "def foo():\n",
    "    global a\n",
    "    a = 200\n",
    "    print(a)  # 200\n",
    "\n",
    "\n",
    "if __name__ == '__main__':\n",
    "    a = 100\n",
    "    foo()  #这里foo中的定义了全局的a，覆盖了之前的a=100\n",
    "    print(a)  # 100"
   ],
   "id": "62ac433ab2983e87",
   "outputs": [],
   "execution_count": null
  },
  {
   "metadata": {},
   "cell_type": "markdown",
   "source": "### 字符串之前加r 反斜杠就不表示转义",
   "id": "1ca2e7f57d4b6859"
  },
  {
   "metadata": {},
   "cell_type": "code",
   "source": [
    "s1 = r'\\'hello, world!\\''\n",
    "s2 = r'\\n\\\\hello, world!\\\\\\n'\n",
    "print(s1, s2, end='')"
   ],
   "id": "c8c26b07efd5ee8c",
   "outputs": [],
   "execution_count": null
  },
  {
   "metadata": {},
   "cell_type": "markdown",
   "source": "### 字符串里的反斜杠表示转义",
   "id": "7af7576a4b02fab4"
  },
  {
   "metadata": {},
   "cell_type": "code",
   "source": [
    "s1 = '\\'hello, world!\\''\n",
    "s2 = '\\n\\\\hello, world!\\\\\\n'\n",
    "print(s1, s2, end='')"
   ],
   "id": "decb6e8a920b65b1",
   "outputs": [],
   "execution_count": null
  },
  {
   "metadata": {},
   "cell_type": "markdown",
   "source": "###### Python为字符串类型提供了非常丰富的运算符，我们可以使用+运算符来实现字符串的拼接，可以使用*运算符来重复一个字符串的内容，可以使用in和not in来判断一个字符串是否包含另外一个字符串（成员运算），我们也可以用[]和[:]运算符从字符串取出某个字符或某些字符（切片运算）",
   "id": "95a343fb4b3f1551"
  },
  {
   "metadata": {},
   "cell_type": "code",
   "source": [
    "s1 = 'hello ' * 3\n",
    "print(s1)  # hello hello hello\n",
    "s2 = 'world'\n",
    "s1 += s2\n",
    "print(s1)  # hello hello hello world\n",
    "print('ll' in s1)  # True\n",
    "print('good' in s1)  # False\n",
    "str2 = 'abc123456'\n",
    "# 从字符串中取出指定位置的字符(下标运算)\n",
    "print(str2[2])  # c\n",
    "# 字符串切片(从指定的开始索引到指定的结束索引)\n",
    "print(str2[2:5])  # c12\n",
    "print(str2[2:])  # c123456\n",
    "print(str2[2::2])  # c246\n",
    "print(str2[::2])  # ac246\n",
    "print(str2[::-1])  # 654321cba\n",
    "print(str2[-3:-1])  # 45\n",
    "print(str2[-1])  # 45\n"
   ],
   "id": "ea3afafca39a5b55",
   "outputs": [],
   "execution_count": null
  },
  {
   "metadata": {},
   "cell_type": "code",
   "source": [
    "str1 = 'hello, world!'\n",
    "# 通过内置函数len计算字符串的长度\n",
    "print(len(str1))  # 13\n",
    "# 获得字符串首字母大写的拷贝\n",
    "print(str1.capitalize())  # Hello, world!\n",
    "# 获得字符串每个单词首字母大写的拷贝\n",
    "print(str1.title())  # Hello, World!\n",
    "# 获得字符串变大写后的拷贝\n",
    "print(str1.upper())  # HELLO, WORLD!\n",
    "# 从字符串中查找子串所在位置\n",
    "print(str1.find('or'))  # 8\n",
    "print(str1.find('shit'))  # -1\n",
    "# 与find类似但找不到子串时会引发异常\n",
    "# print(str1.index('or'))\n",
    "# print(str1.index('shit'))\n",
    "# 检查字符串是否以指定的字符串开头\n",
    "print(str1.startswith('He'))  # False\n",
    "print(str1.startswith('hel'))  # True\n",
    "# 检查字符串是否以指定的字符串结尾\n",
    "print(str1.endswith('!'))  # True\n",
    "# 将字符串以指定的宽度居中并在两侧填充指定的字符\n",
    "print(str1.center(50, '*'))\n",
    "# 将字符串以指定的宽度靠右放置左侧填充指定的字符\n",
    "print(str1.rjust(50, ' '))\n",
    "str2 = 'abc123456'\n",
    "# 检查字符串是否由数字构成\n",
    "print(str2.isdigit())  # False\n",
    "# 检查字符串是否以字母构成\n",
    "print(str2.isalpha())  # False\n",
    "# 检查字符串是否以数字和字母构成\n",
    "print(str2.isalnum())  # True\n",
    "str3 = '  jackfrued@126.com '\n",
    "print(str3)\n",
    "# 获得字符串修剪左右两侧空格之后的拷贝\n",
    "print(str3.strip())"
   ],
   "id": "6ed093005f707d44",
   "outputs": [],
   "execution_count": null
  },
  {
   "metadata": {},
   "cell_type": "code",
   "source": [
    "a, b = 5, 10\n",
    "print('%d * %d = %d' % (a, b, a * b))\n",
    "print('{0} * {1} = {2}'.format(a, b, a * b))\n",
    "print(f'{a} * {b} = {a * b}')"
   ],
   "id": "57e9ccc84f99d6a2",
   "outputs": [],
   "execution_count": null
  },
  {
   "metadata": {},
   "cell_type": "markdown",
   "source": "### 列表、元组、集合和字典。",
   "id": "d847d9da4e8b3dc7"
  },
  {
   "metadata": {},
   "cell_type": "code",
   "source": [
    "#列表list\n",
    "list1 = [1, 3, 5, 7, 100]\n",
    "print(list1)  # [1, 3, 5, 7, 100]\n",
    "# 乘号表示列表元素的重复\n",
    "list2 = ['hello'] * 3\n",
    "print(list2)  # ['hello', 'hello', 'hello']\n",
    "# 计算列表长度(元素个数)\n",
    "print(len(list1))  # 5\n",
    "# 下标(索引)运算\n",
    "print(list1[0])  # 1\n",
    "print(list1[4])  # 100\n",
    "# print(list1[5])  # IndexError: list index out of range\n",
    "print(list1[-1])  # 100\n",
    "print(list1[-3])  # 5\n",
    "list1[2] = 300\n",
    "print(list1)  # [1, 3, 300, 7, 100]\n",
    "# 通过循环用下标遍历列表元素\n",
    "for index in range(len(list1)):\n",
    "    print(list1[index])\n",
    "# 通过for循环遍历列表元素\n",
    "for elem in list1:\n",
    "    print(elem)\n",
    "# 通过enumerate函数处理列表之后再遍历可以同时获得元素索引和值\n",
    "for index, elem in enumerate(list1):\n",
    "    print(index, elem)"
   ],
   "id": "ad4bb2dc40997b30",
   "outputs": [],
   "execution_count": null
  },
  {
   "metadata": {},
   "cell_type": "markdown",
   "source": "### 下面的代码演示了如何向列表中添加元素以及如何从列表中移除元素。",
   "id": "62f2b904eecf1397"
  },
  {
   "metadata": {},
   "cell_type": "code",
   "source": [
    "list1 = [1, 3, 5, 7, 100]\n",
    "# 添加元素\n",
    "list1.append(200)\n",
    "print(list1)\n",
    "list1.insert(1, 400)\n",
    "print(list1)\n",
    "# 合并两个列表\n",
    "# list1.extend([1000, 2000])\n",
    "# print(list1)\n",
    "list1 += [1000, 2000]\n",
    "print(list1)  # [1, 400, 3, 5, 7, 100, 200, 1000, 2000]\n",
    "print(len(list1))  # 9\n",
    "\n",
    "if 3 in list1:\n",
    "    list1.remove(3)\n",
    "if 1234 in list1:\n",
    "    list1.remove(1234)\n",
    "print(list1)  # [1, 400, 5, 7, 100, 200, 1000, 2000]\n",
    "\n",
    "# 从指定的位置删除元素\n",
    "list1.pop(0)  #删除第一个位置\n",
    "list1.pop(len(list1) - 1)  #删除最后一个位置，最后一个位置的索引号码是长度减一\n",
    "print(list1)  # [400, 5, 7, 100, 200, 1000]\n",
    "\n",
    "# 清空列表元素\n",
    "list1.clear()\n",
    "print(list1)  # []"
   ],
   "id": "c99c311a522c22d6",
   "outputs": [],
   "execution_count": null
  },
  {
   "metadata": {},
   "cell_type": "markdown",
   "source": "### 下面的代码实现了对列表的排序操作。",
   "id": "72a6ee83f8f84908"
  },
  {
   "metadata": {},
   "cell_type": "code",
   "source": [
    "list1 = ['orange', 'apple', 'zoo', 'internationalization', 'blueberry']\n",
    "list2 = sorted(list1)\n",
    "# sorted函数返回列表排序后的拷贝不会修改传入的列表\n",
    "# 函数的设计就应该像sorted函数一样尽可能不产生副作用\n",
    "list3 = sorted(list1, reverse=True)\n",
    "# 通过key关键字参数指定根据字符串长度进行排序而不是默认的字母表顺序\n",
    "list4 = sorted(list1, key=len)\n",
    "print(list1)\n",
    "print(list2)\n",
    "print(list3)\n",
    "print(list4)\n",
    "# 给列表对象发出排序消息直接在列表对象上进行排序\n",
    "list1.sort(reverse=True)\n",
    "print(list1)"
   ],
   "id": "fb2758a1f802867d",
   "outputs": [],
   "execution_count": null
  },
  {
   "metadata": {},
   "cell_type": "markdown",
   "source": "### 和字符串一样，列表也可以做切片操作，通过切片操作我们可以实现对列表的复制或者将列表中的一部分取出来创建出新的列表，代码如下所示。",
   "id": "c903700d3555462a"
  },
  {
   "metadata": {},
   "cell_type": "code",
   "source": [
    "fruits = ['grape', 'apple', 'strawberry', 'waxberry']\n",
    "fruits += ['pitaya', 'pear', 'mango']\n",
    "# 列表切片\n",
    "fruits2 = fruits[1:4]\n",
    "print(fruits2)  # apple strawberry waxberry\n",
    "# 可以通过完整切片操作来复制列表\n",
    "fruits3 = fruits[:]\n",
    "print(fruits3)  # ['grape', 'apple', 'strawberry', 'waxberry', 'pitaya', 'pear', 'mango']\n",
    "fruits4 = fruits[-3:-1]\n",
    "print(fruits4)  # ['pitaya', 'pear']\n",
    "# 可以通过反向切片操作来获得倒转后的列表的拷贝\n",
    "fruits5 = fruits[::-1]\n",
    "print(fruits5)  # ['mango', 'pear', 'pitaya', 'waxberry', 'strawberry', 'apple', 'grape']"
   ],
   "id": "1b7fa29481daa9a7",
   "outputs": [],
   "execution_count": null
  },
  {
   "metadata": {},
   "cell_type": "markdown",
   "source": [
    "### 生成式和生成器\n",
    "###### 我们还可以使用列表的生成式语法来创建列表，代码如下所示。"
   ],
   "id": "ad14afdc491f23a7"
  },
  {
   "metadata": {},
   "cell_type": "code",
   "source": [
    "import sys\n",
    "\n",
    "f = [x for x in range(1, 10)]\n",
    "print(f)\n",
    "f = [x + y for x in 'ABCDE' for y in '1234567']\n",
    "print(f)\n",
    "\n",
    "# 用列表的生成表达式语法创建列表容器\n",
    "# 用这种语法创建列表之后元素已经准备就绪所以需要耗费较多的内存空间\n",
    "f = [x ** 2 for x in range(1, 1000)]\n",
    "print(sys.getsizeof(f))  # 查看对象占用内存的字节数\n",
    "print(f)"
   ],
   "id": "8f3284807aabd688",
   "outputs": [],
   "execution_count": null
  },
  {
   "metadata": {},
   "cell_type": "code",
   "source": [
    "# 请注意下面的代码创建的不是一个列表而是一个生成器对象\n",
    "# 通过生成器可以获取到数据但它不占用额外的空间存储数据\n",
    "# 每次需要数据的时候就通过内部的运算得到数据(需要花费额外的时间)\n",
    "f = (x ** 2 for x in range(1, 1000))\n",
    "print(sys.getsizeof(f))  # 相比生成式生成器不占用存储数据的空间\n",
    "print(f)\n",
    "for val in f:\n",
    "    print(val)"
   ],
   "id": "9da7b243344c2d64",
   "outputs": [],
   "execution_count": null
  },
  {
   "metadata": {},
   "cell_type": "markdown",
   "source": "###### 除了上面提到的生成器语法，Python中还有另外一种定义生成器的方式，就是通过yield关键字将一个普通函数改造成生成器函数。",
   "id": "a0d092d87838d153"
  },
  {
   "metadata": {},
   "cell_type": "code",
   "source": [
    "def fib(n):\n",
    "    a, b = 0, 1\n",
    "    for i in range(n):\n",
    "        a, b = b, a + b\n",
    "        yield a\n",
    "\n",
    "\n",
    "def main():\n",
    "    for val in fib(20):\n",
    "        print(val)\n",
    "\n",
    "\n",
    "if __name__ == '__main__':\n",
    "    main()"
   ],
   "id": "12ddb565dd4eb018",
   "outputs": [],
   "execution_count": null
  },
  {
   "metadata": {},
   "cell_type": "markdown",
   "source": [
    "### 使用元组\n",
    "###### Python中的元组与列表类似也是一种容器数据类型，可以用一个变量（对象）来存储多个数据，不同之处在于元组的元素不能修改，在前面的代码中我们已经不止一次使用过元组了。顾名思义，我们把多个元素组合到一起就形成了一个元组，所以它和列表一样可以保存多条数据。下面的代码演示了如何定义和使用元组。"
   ],
   "id": "2619e3ebb6c71e08"
  },
  {
   "metadata": {},
   "cell_type": "code",
   "source": [
    "# 定义元组\n",
    "t = ('骆昊', 38, True, '四川成都')\n",
    "print(t)\n",
    "# 获取元组中的元素\n",
    "print(t[0])\n",
    "print(t[3])\n",
    "# 遍历元组中的值\n",
    "for member in t:\n",
    "    print(member)\n",
    "\n",
    "#重新给元组赋值\n",
    "# t[0] = '王大锤'  # TypeError\n",
    "# 变量t重新引用了新的元组原来的元组将被垃圾回收\n",
    "t = ('王大锤', 20, True, '云南昆明')\n",
    "print(t)\n",
    "\n",
    "# 将元组转换成列表\n",
    "person = list(t)\n",
    "print(person)\n",
    "# 列表是可以修改它的元素的\n",
    "person[0] = '李小龙'\n",
    "person[1] = 25\n",
    "print(person)\n",
    "\n",
    "# 将列表转换成元组\n",
    "fruits_list = ['apple', 'banana', 'orange']\n",
    "fruits_tuple = tuple(fruits_list)\n",
    "print(fruits_tuple)\n",
    "\n",
    "fruits_list = ['apple', 'banana', 'orange']\n",
    "fruits_tuple = ('apple', 'banana', 'orange')\n",
    "print(sys.getsizeof(fruits_list))\n",
    "print(sys.getsizeof(fruits_tuple))\n",
    "%timeit['apple', 'banana', 'orange']\n",
    "%timeit('apple', 'banana', 'orange')"
   ],
   "id": "f6010d2baa7e20f8",
   "outputs": [],
   "execution_count": null
  },
  {
   "metadata": {},
   "cell_type": "markdown",
   "source": [
    "###### 这里有一个非常值得探讨的问题，我们已经有了列表这种数据结构，为什么还需要元组这样的类型呢？\n",
    "###### 1.元组中的元素是无法修改的，事实上我们在项目中尤其是多线程环境（后面会讲到）中可能更喜欢使用的是那些不变对象（一方面因为对象状态不能修改，所以可以避免由此引起的不必要的程序错误，简单的说就是一个不变的对象要比可变的对象更加容易维护；另一方面因为没有任何一个线程能够修改不变对象的内部状态，一个不变对象自动就是线程安全的，这样就可以省掉处理同步化的开销。一个不变对象可以方便的被共享访问）。所以结论就是：如果不需要对元素进行添加、删除、修改的时候，可以考虑使用元组，当然如果一个方法要返回多个值，使用元组也是不错的选择。\n",
    "###### 2.元组在创建时间和占用的空间上面都优于列表。我们可以使用sys模块的getsizeof函数来检查存储同样的元素的元组和列表各自占用了多少内存空间，这个很容易做到。我们也可以在ipython中使用魔法指令%timeit来分析创建同样内容的元组和列表所花费的时间，下图是我的macOS系统上测试的结果。"
   ],
   "id": "55837e7390e7476c"
  },
  {
   "metadata": {},
   "cell_type": "markdown",
   "source": [
    "### 使用集合\n",
    "###### Python中的集合跟数学上的集合是一致的，不允许有重复元素，而且可以进行交集、并集、差集等运算。"
   ],
   "id": "5894d6cc01c7f13c"
  },
  {
   "metadata": {},
   "cell_type": "code",
   "source": [
    "# 创建集合的字面量语法\n",
    "set1 = {1, 2, 3, 3, 3, 2}\n",
    "print(set1)\n",
    "print('Length =', len(set1))\n",
    "\n",
    "# 创建集合的构造器语法(面向对象部分会进行详细讲解)\n",
    "set2 = set(range(1, 10))\n",
    "set3 = set((1, 2, 3, 3, 2, 1))\n",
    "print(set2, set3)\n",
    "# 创建集合的推导式语法(推导式也可以用于推导集合)\n",
    "set4 = {num for num in range(1, 100) if num % 3 == 0 or num % 5 == 0}\n",
    "print(set4)\n",
    "\n",
    "set1.add(4)\n",
    "set1.add(5)\n",
    "set2.update([11, 12])\n",
    "print(set1, set2)\n",
    "set2.discard(5)\n",
    "print(set1, set2)\n",
    "if 4 in set2:\n",
    "    set2.remove(4)\n",
    "print(set1, set2)\n",
    "print(set3.pop())\n",
    "print(set3)\n",
    "print(set3.pop())\n",
    "print(set3)"
   ],
   "id": "bb7b390a2f0cb46a",
   "outputs": [],
   "execution_count": null
  },
  {
   "metadata": {},
   "cell_type": "code",
   "source": [
    "# 集合的交集、并集、差集、对称差运算\n",
    "print(set1 & set2)\n",
    "# print(set1.intersection(set2))\n",
    "print(set1 | set2)\n",
    "# print(set1.union(set2))\n",
    "print(set1 - set2)\n",
    "# print(set1.difference(set2))\n",
    "print(set1 ^ set2)\n",
    "# print(set1.symmetric_difference(set2))\n",
    "# 判断子集和超集\n",
    "print(set2 <= set1)\n",
    "# print(set2.issubset(set1))\n",
    "print(set3 <= set1)\n",
    "# print(set3.issubset(set1))\n",
    "print(set1 >= set2)\n",
    "# print(set1.issuperset(set2))\n",
    "print(set1 >= set3)\n",
    "# print(set1.issuperset(set3))"
   ],
   "id": "a50b7e27daa49db4",
   "outputs": [],
   "execution_count": null
  },
  {
   "metadata": {},
   "cell_type": "markdown",
   "source": [
    "### 使用字典\n",
    "###### 字典是另一种可变容器模型，Python中的字典跟我们生活中使用的字典是一样一样的，它可以存储任意类型对象，与列表、集合不同的是，字典的每个元素都是由一个键和一个值组成的“键值对”，键和值通过冒号分开。下面的代码演示了如何定义和使用字典。"
   ],
   "id": "b0e33f16c25080c9"
  },
  {
   "metadata": {},
   "cell_type": "code",
   "source": [
    "# 创建字典的字面量语法\n",
    "scores = {'骆昊': 95, '白元芳': 78, '狄仁杰': 82}\n",
    "print(scores)\n",
    "# 创建字典的构造器语法\n",
    "items1 = dict(one=1, two=2, three=3, four=4)\n",
    "# 通过zip函数将两个序列压成字典\n",
    "items2 = dict(zip(['a', 'b', 'c'], '123'))\n",
    "# 创建字典的推导式语法\n",
    "items3 = {num: num ** 2 for num in range(1, 10)}\n",
    "print(items1, items2, items3)\n",
    "print(scores['骆昊'])\n",
    "print(scores['狄仁杰'])\n",
    "# 对字典中所有键值对进行遍历\n",
    "for key in scores:\n",
    "    print(f'{key}: {scores[key]}')\n",
    "# 更新字典中的元素\n",
    "scores['白元芳'] = 65\n",
    "scores['诸葛王朗'] = 71\n",
    "scores.update(冷面=67, 方启鹤=85)\n",
    "print(scores)\n",
    "if '武则天' in scores:\n",
    "    print(scores['武则天'])\n",
    "print(scores.get('武则天'))\n",
    "# get方法也是通过键获取对应的值但是可以设置默认值\n",
    "print(scores.get('武则天', 60))\n",
    "\n",
    "# 删除字典中的元素\n",
    "print(scores.popitem())\n",
    "print(scores.popitem())\n",
    "print(scores)\n",
    "print(scores.pop('骆昊', 100))\n",
    "print(scores)\n",
    "# 清空字典\n",
    "scores.clear()\n",
    "print(scores)"
   ],
   "id": "75ce047d0a0fbb48",
   "outputs": [],
   "execution_count": null
  },
  {
   "metadata": {},
   "cell_type": "markdown",
   "source": "### ZIP的用法",
   "id": "8984c1dd719ec9c8"
  },
  {
   "metadata": {},
   "cell_type": "code",
   "source": [
    "pairs = [(1, 'a'), (2, 'b'), (3, 'c')]\n",
    "list1 = [1, 2, 3]\n",
    "list2 = list(zip(*pairs, list1))  #這裏先解包pairs用前置*號，然後和list1結合,但是以最短的長度爲準，list1裏的3就被捨棄掉了\n",
    "print(list2)\n",
    "# list1, list2 = zip(*pairs)\n",
    "# print(list1)  # 輸出：(1, 2, 3)\n",
    "# print(list2)  # 輸出：('a', 'b', 'c')"
   ],
   "id": "c676cb06a67f6fd5",
   "outputs": [],
   "execution_count": null
  },
  {
   "metadata": {},
   "cell_type": "code",
   "source": [
    "# 將兩個列表打包在一起\n",
    "list1 = [1, 2, 3]\n",
    "list2 = ['a', 'b', 'c']\n",
    "result = zip(list1, list2)\n",
    "print(list(result))  # 輸出：[(1, 'a'), (2, 'b'), (3, 'c')]\n",
    "\n",
    "# 將多個列表打包在一起\n",
    "list3 = [4, 5, 6]\n",
    "result = zip(list1, list2, list3)\n",
    "print(list(result))  # 輸出：[(1, 'a', 4), (2, 'b', 5), (3, 'c', 6)]\n",
    "\n",
    "# 當列表長度不一致時\n",
    "list4 = [7, 8]\n",
    "result = zip(list1, list4)\n",
    "print(list(result))  # 輸出：[(1, 7), (2, 8)]\n",
    "\n",
    "# 使用 zip() 函數解包\n",
    "pairs = [(1, 'a'), (2, 'b'), (3, 'c')]\n",
    "list1, list2 = zip(*pairs)\n",
    "print(list1)  # 輸出：(1, 2, 3)\n",
    "print(list2)  # 輸出：('a', 'b', 'c')"
   ],
   "id": "6afef13a4db51529",
   "outputs": [],
   "execution_count": null
  },
  {
   "metadata": {},
   "cell_type": "markdown",
   "source": "###### 在屏幕上顯示跑馬燈",
   "id": "2a810ab8fdc0a310"
  },
  {
   "metadata": {},
   "cell_type": "code",
   "source": [
    "import os\n",
    "import time\n",
    "\n",
    "\n",
    "def main():\n",
    "    content = '今天是星期二…………'\n",
    "    while True:\n",
    "        # 清理屏幕上的输出\n",
    "        os.system('cls')  # os.system('clear')\n",
    "        print(content)\n",
    "        # 休眠200毫秒\n",
    "        time.sleep(0.1)\n",
    "        content = content[1:] + content[0]\n",
    "\n",
    "\n",
    "if __name__ == '__main__':\n",
    "    main()"
   ],
   "id": "8bcab75c352ea5df",
   "outputs": [],
   "execution_count": null
  },
  {
   "metadata": {},
   "cell_type": "markdown",
   "source": "###### 设计一个函数生产指定长度的验证码，验证码由大小写字母和数字组成",
   "id": "33904cb72f24d5a0"
  },
  {
   "metadata": {},
   "cell_type": "code",
   "source": [
    "import random\n",
    "\n",
    "\n",
    "def generate_code(code_len=4):\n",
    "    \"\"\"\n",
    "    生成指定长度的验证码\n",
    "\n",
    "    :param code_len: 验证码的长度(默认4个字符)\n",
    "\n",
    "    :return: 由大小写英文字母和数字构成的随机验证码\n",
    "    \"\"\"\n",
    "    all_chars = '0123456789abcdefghijklmnopqrstuvwxyzABCDEFGHIJKLMNOPQRSTUVWXYZ'\n",
    "    last_pos = len(all_chars) - 1\n",
    "    code = ''\n",
    "    for i in range(code_len):\n",
    "        index = random.randint(0, last_pos)\n",
    "        code += all_chars[index]\n",
    "        # code += random.choice(all_chars) #random的choice方法比较直接\n",
    "    return code\n",
    "\n",
    "\n",
    "if __name__ == '__main__':\n",
    "    print(generate_code())"
   ],
   "id": "8e029597d596decf",
   "outputs": [],
   "execution_count": null
  },
  {
   "metadata": {},
   "cell_type": "markdown",
   "source": "### 类和对象",
   "id": "a5b3aff64da1ac7e"
  },
  {
   "metadata": {},
   "cell_type": "code",
   "source": [
    "class Student(object):\n",
    "\n",
    "    # __init__是一个特殊方法用于在创建对象时进行初始化操作\n",
    "    # 通过这个方法我们可以为学生对象绑定name和age两个属性\n",
    "    def __init__(self, name, age):\n",
    "        self.name = name\n",
    "        self.age = age\n",
    "\n",
    "    def study(self, course_name):\n",
    "        print('%s正在学习%s.' % (self.name, course_name))\n",
    "\n",
    "    # PEP 8要求标识符的名字用全小写多个单词用下划线连接\n",
    "    # 但是部分程序员和公司更倾向于使用驼峰命名法(驼峰标识)\n",
    "    def watch_movie(self):\n",
    "        if self.age < 18:\n",
    "            print('%s只能观看《熊出没》.' % self.name)\n",
    "        else:\n",
    "            print('%s正在观看岛国爱情大电影.' % self.name)"
   ],
   "id": "7c1fdbeed813c17",
   "outputs": [],
   "execution_count": null
  },
  {
   "metadata": {},
   "cell_type": "code",
   "source": [
    "def main():\n",
    "    # 创建学生对象并指定姓名和年龄\n",
    "    stu1 = Student('骆昊', 38)\n",
    "    # 给对象发study消息\n",
    "    stu1.study('Python程序设计')\n",
    "    # 给对象发watch_av消息\n",
    "    stu1.watch_movie()\n",
    "    stu2 = Student('王大锤', 15)\n",
    "    stu2.study('思想品德')\n",
    "    stu2.watch_movie()\n",
    "\n",
    "\n",
    "if __name__ == '__main__':\n",
    "    main()"
   ],
   "id": "f7c370c4f5e00604",
   "outputs": [],
   "execution_count": null
  },
  {
   "metadata": {},
   "cell_type": "markdown",
   "source": "###### 在Python中，属性和方法的访问权限只有两种，也就是公开的和私有的，如果希望属性是私有的，在给属性命名时可以用两个下划线作为开头，下面的代码可以验证这一点。",
   "id": "72c1ce502d04006"
  },
  {
   "metadata": {},
   "cell_type": "code",
   "source": [
    "class Test:\n",
    "\n",
    "    def __init__(self, foo):\n",
    "        self.__foo = foo\n",
    "\n",
    "    def __bar(self):\n",
    "        print(self.__foo)\n",
    "        print('_bar')\n",
    "\n",
    "\n",
    "def main():\n",
    "    test = Test('hello')\n",
    "    # AttributeError: 'Test' object has no attribute '__bar'\n",
    "    test.__bar()\n",
    "    # AttributeError: 'Test' object has no attribute '__foo'\n",
    "    print(test.__foo)\n",
    "\n",
    "\n",
    "if __name__ == \"__main__\":\n",
    "    main()"
   ],
   "id": "efb040329a4b5743",
   "outputs": [],
   "execution_count": null
  },
  {
   "metadata": {},
   "cell_type": "markdown",
   "source": "###### 但是，Python并没有从语法上严格保证私有属性或方法的私密性，它只是给私有的属性和方法换了一个名字来妨碍对它们的访问，事实上如果你知道更换名字的规则仍然可以访问到它们，下面的代码就可以验证这一点。之所以这样设定，可以用这样一句名言加以解释，就是\"We are all consenting adults here\"。因为绝大多数程序员都认为开放比封闭要好，而且程序员要自己为自己的行为负责。",
   "id": "3e835a63a867db90"
  },
  {
   "metadata": {
    "ExecuteTime": {
     "end_time": "2025-02-12T10:13:34.372040Z",
     "start_time": "2025-02-12T10:13:34.369430Z"
    }
   },
   "cell_type": "code",
   "source": [
    "class Test:\n",
    "\n",
    "    def __init__(self, foo):\n",
    "        self.__foo = foo\n",
    "\n",
    "    def __bar(self):\n",
    "        print(self.__foo)\n",
    "        print('__bar')\n",
    "\n",
    "\n",
    "def main():\n",
    "    test = Test('hello')\n",
    "    test._Test__bar()\n",
    "    print(test._Test__foo)\n",
    "\n",
    "\n",
    "if __name__ == \"__main__\":\n",
    "    main()"
   ],
   "id": "be059ecee777776c",
   "outputs": [
    {
     "name": "stdout",
     "output_type": "stream",
     "text": [
      "hello\n",
      "__bar\n",
      "hello\n"
     ]
    }
   ],
   "execution_count": 13
  },
  {
   "metadata": {},
   "cell_type": "markdown",
   "source": "### 定义一个类描述数字的时钟",
   "id": "42b27fa759e0acd3"
  },
  {
   "metadata": {},
   "cell_type": "code",
   "source": [
    "from time import sleep\n",
    "\n",
    "\n",
    "class Clock(object):\n",
    "    \"\"\"数字时钟\"\"\"\n",
    "\n",
    "    def __init__(self, hour=0, minute=0, second=0):\n",
    "        \"\"\"初始化方法\n",
    "\n",
    "        :param hour: 时\n",
    "        :param minute: 分\n",
    "        :param second: 秒\n",
    "        \"\"\"\n",
    "        self._hour = hour\n",
    "        self._minute = minute\n",
    "        self._second = second\n",
    "\n",
    "    def run(self):\n",
    "        \"\"\"走字\"\"\"\n",
    "        self._second += 1\n",
    "        if self._second == 60:\n",
    "            self._second = 0\n",
    "            self._minute += 1\n",
    "            if self._minute == 60:\n",
    "                self._minute = 0\n",
    "                self._hour += 1\n",
    "                if self._hour == 24:\n",
    "                    self._hour = 0\n",
    "\n",
    "    def show(self):\n",
    "        \"\"\"显示时间\"\"\"\n",
    "        return '%02d:%02d:%02d' % \\\n",
    "            (self._hour, self._minute, self._second)\n",
    "\n",
    "\n",
    "def main():\n",
    "    clock = Clock(23, 59, 58)\n",
    "    while True:\n",
    "        print(clock.show())\n",
    "        sleep(1)\n",
    "        clock.run()\n",
    "\n",
    "\n",
    "if __name__ == '__main__':\n",
    "    main()"
   ],
   "id": "1007b7e805ae37ba",
   "outputs": [],
   "execution_count": null
  },
  {
   "metadata": {},
   "cell_type": "markdown",
   "source": "### 打印杨辉三角",
   "id": "9d2ff7f3c0619edb"
  },
  {
   "metadata": {
    "ExecuteTime": {
     "end_time": "2025-02-13T01:11:46.561528Z",
     "start_time": "2025-02-13T01:11:44.167942Z"
    }
   },
   "cell_type": "code",
   "source": [
    "def main():\n",
    "    num = int(input('Number of rows: '))\n",
    "    yh = [[]] * num\n",
    "    print(yh)\n",
    "    for row in range(len(yh)):\n",
    "        yh[row] = [None] * (row + 1)\n",
    "        for col in range(len(yh[row])):\n",
    "            if col == 0 or col == row:\n",
    "                yh[row][col] = 1\n",
    "            else:\n",
    "                yh[row][col] = yh[row - 1][col] + yh[row - 1][col - 1]\n",
    "            print(yh[row][col], end='\\t')\n",
    "        print()\n",
    "\n",
    "\n",
    "if __name__ == '__main__':\n",
    "    main()"
   ],
   "id": "613ee47c6d988a5a",
   "outputs": [
    {
     "name": "stdout",
     "output_type": "stream",
     "text": [
      "[[], [], [], [], []]\n",
      "1\t\n",
      "1\t1\t\n",
      "1\t2\t1\t\n",
      "1\t3\t3\t1\t\n",
      "1\t4\t6\t4\t1\t\n"
     ]
    }
   ],
   "execution_count": 1
  },
  {
   "metadata": {},
   "cell_type": "markdown",
   "source": [
    "### 面向对象进阶\n",
    "###### @property装饰器"
   ],
   "id": "43c66ea32f786404"
  },
  {
   "metadata": {
    "ExecuteTime": {
     "end_time": "2025-02-13T05:12:11.991509Z",
     "start_time": "2025-02-13T05:12:11.987837Z"
    }
   },
   "cell_type": "code",
   "source": [
    "class Person(object):\n",
    "    def __init__(self, name, age):\n",
    "        self._name = name\n",
    "        self._age = age\n",
    "\n",
    "    #访问器 -getter方法\n",
    "    @property\n",
    "    def name(self):\n",
    "        return self._name\n",
    "\n",
    "    #访问器 -getter方法\n",
    "    @property\n",
    "    def age(self):\n",
    "        return self._age\n",
    "\n",
    "    #修改器 -setter方法\n",
    "    @age.setter\n",
    "    def age(self, age):\n",
    "        self._age = age\n",
    "\n",
    "    #修改器 -setter方法\n",
    "    @name.setter\n",
    "    def name(self, name):\n",
    "        self._name = name\n",
    "\n",
    "    def play(self):\n",
    "        if self.age <= 16:\n",
    "            print(f'{self.name}正在玩飞行棋.')\n",
    "        else:\n",
    "            print(f'{self.name}正在玩斗地主.')\n",
    "\n",
    "\n",
    "def main():\n",
    "    person = Person('王大锤', 12)\n",
    "    person.play()\n",
    "    person.age = 18\n",
    "    person.play()\n",
    "    person.name = '白花菜'\n",
    "    person.play()\n",
    "\n",
    "\n",
    "if __name__ == '__main__':\n",
    "    main()\n"
   ],
   "id": "5ce369dde2dd5396",
   "outputs": [
    {
     "name": "stdout",
     "output_type": "stream",
     "text": [
      "王大锤正在玩飞行棋.\n",
      "王大锤正在玩斗地主.\n",
      "白花菜正在玩斗地主.\n"
     ]
    }
   ],
   "execution_count": 9
  },
  {
   "metadata": {},
   "cell_type": "markdown",
   "source": [
    "### __slots__魔法\n",
    "###### 我们讲到这里，不知道大家是否已经意识到，Python是一门动态语言。通常，动态语言允许我们在程序运行时给对象绑定新的属性或方法，当然也可以对已经绑定的属性和方法进行解绑定。但是如果我们需要限定自定义类型的对象只能绑定某些属性，可以通过在类中定义__slots__变量来进行限定。需要注意的是__slots__的限定只对当前类的对象生效，对子类并不起任何作用。"
   ],
   "id": "cf60cda2de770806"
  },
  {
   "metadata": {
    "ExecuteTime": {
     "end_time": "2025-02-13T05:25:35.428019Z",
     "start_time": "2025-02-13T05:25:35.425076Z"
    }
   },
   "cell_type": "code",
   "source": [
    "class Person(object):\n",
    "    __slots__ = ('_name', '_age', '_gender')\n",
    "\n",
    "    def __init__(self, name, age):\n",
    "        self._name = name\n",
    "        self._age = age\n",
    "\n",
    "    @property\n",
    "    def name(self):\n",
    "        return self._name\n",
    "\n",
    "    @property\n",
    "    def age(self):\n",
    "        return self._age\n",
    "\n",
    "    @property\n",
    "    def gender(self):\n",
    "        return self._gender\n",
    "    @name.setter\n",
    "    def name(self, name):\n",
    "        self._name = name\n",
    "\n",
    "    @age.setter\n",
    "    def age(self, age):\n",
    "        self._age = age\n",
    "\n",
    "    def play(self):\n",
    "        if self._age < 16:\n",
    "            print(f'{self._name}正在玩飞行棋')\n",
    "        else:\n",
    "            print(f'{self._name}正在玩斗地主')\n",
    "\n",
    "\n",
    "def main():\n",
    "    person = Person('王大锤', 12)\n",
    "    person.play()\n",
    "    person._gender = '男'\n",
    "    print(person._gender)\n",
    "\n",
    "if __name__ == '__main__':\n",
    "    main()"
   ],
   "id": "2bf261b39f055cf",
   "outputs": [
    {
     "name": "stdout",
     "output_type": "stream",
     "text": [
      "王大锤正在玩飞行棋\n",
      "男\n"
     ]
    }
   ],
   "execution_count": 25
  },
  {
   "metadata": {},
   "cell_type": "markdown",
   "source": [
    "### 静态方法和类方法\n",
    "###### 之前，我们在类中定义的方法都是对象方法，也就是说这些方法都是发送给对象的消息。实际上，我们写在类中的方法并不需要都是对象方法，例如我们定义一个“三角形”类，通过传入三条边长来构造三角形，并提供计算周长和面积的方法，但是传入的三条边长未必能构造出三角形对象，因此我们可以先写一个方法来验证三条边长是否可以构成三角形，这个方法很显然就不是对象方法，因为在调用这个方法时三角形对象尚未创建出来（因为都不知道三条边能不能构成三角形），所以这个方法是属于三角形类而并不属于三角形对象的。我们可以使用静态方法来解决这类问题，代码如下所示。\n",
    "\n",
    "###### @staticmethod 的主要作用：\n",
    "\n",
    "将函数封装在类中： 当一个函数与类相关，但不需要访问或修改类的属性时，可以将其定义为静态方法，以增强代码的组织性和可读性。\n",
    "提高代码效率： 由于静态方法不涉及实例或类的操作，因此在调用时不需要创建实例，从而提高代码的执行效率。\n",
    "###### @staticmethod 的用法：\n",
    "\n",
    "要将一个方法定义为静态方法，只需在方法定义上方添加 @staticmethod 装饰器即可。静态方法通常使用类名直接调用，也可以通过实例调用，但效果相同。\n"
   ],
   "id": "ec6b4f012404de47"
  },
  {
   "metadata": {
    "ExecuteTime": {
     "end_time": "2025-02-13T08:19:52.013688Z",
     "start_time": "2025-02-13T08:19:52.010114Z"
    }
   },
   "cell_type": "code",
   "source": [
    "from math import sqrt\n",
    "class Triangle(object):\n",
    "    def __init__(self, a, b, c):\n",
    "        self._a = a\n",
    "        self._b = b\n",
    "        self._c = c\n",
    "    @staticmethod #staticmethod 是给类的方法\n",
    "    def is_valid(a,b,c): #静态方法没有 self 或 cls 参数，因为它们不与实例或类绑定。\n",
    "        return a+b>c and b+c>a and c+a>b\n",
    "    def perimeter(self):\n",
    "        return self._a+self._b+self._c\n",
    "    def area(self):\n",
    "        half = self.perimeter() / 2\n",
    "        return sqrt(half * (half - self._a) *\n",
    "                    (half - self._b) * (half - self._c))\n",
    "def main():\n",
    "    a, b, c = 3,4,5\n",
    "    if Triangle.is_valid(a,b,c):\n",
    "        t= Triangle(a, b, c)\n",
    "        print(t.is_valid(a,b,c)) #要将一个方法定义为静态方法，只需在方法定义上方添加 @staticmethod 装饰器即可。静态方法通常使用类名直接调用，也可以通过实例调用，但效果相同。\n",
    "        print(t.perimeter())\n",
    "        print(t.area())\n",
    "    else:\n",
    "        print('无法构成三角形')\n",
    "if __name__ == '__main__':\n",
    "    main()\n"
   ],
   "id": "cc8bccbd7981caf",
   "outputs": [
    {
     "name": "stdout",
     "output_type": "stream",
     "text": [
      "True\n",
      "12\n",
      "6.0\n"
     ]
    }
   ],
   "execution_count": 43
  },
  {
   "metadata": {},
   "cell_type": "markdown",
   "source": [
    "### cls 的概念\n",
    "######  在 Python 中，cls 是类方法（classmethod）的惯用参数名。类方法是绑定到类而不是实例的方法。它们使用装饰器 @classmethod 定义，并且它们的第一个参数通常被命名为 cls。这个参数 cls 会自动传递类本身，而不是类的实例。\n",
    "###### cls 的作用 1. 访问和修改类属性： 类方法可以通过 cls 参数访问和修改类的属性。 2.创建类的实例： 类方法可以使用 cls 参数创建类的实例。这在需要根据不同条件创建不同实例时非常有用。 3.作为工厂函数： 类方法可以作为工厂函数，根据不同的参数创建类的不同实例。"
   ],
   "id": "3d4a08e05a6b649e"
  },
  {
   "metadata": {
    "ExecuteTime": {
     "end_time": "2025-02-13T10:20:31.817205Z",
     "start_time": "2025-02-13T10:20:31.814619Z"
    }
   },
   "cell_type": "code",
   "source": [
    "class MyClass:\n",
    "    class_variable = 0\n",
    "\n",
    "    def __init__(self, a,b,c):\n",
    "        self._a = a\n",
    "        self._b = b\n",
    "        self._c = c\n",
    "\n",
    "    @classmethod\n",
    "    def update_class_variable(cls, value):\n",
    "        cls.class_variable = value\n",
    "\n",
    "    @classmethod\n",
    "    def create_instance(cls, value, value1, value2):\n",
    "        return cls(value,value1,value2)\n",
    "\n",
    "# 使用类方法访问和修改类属性\n",
    "MyClass.update_class_variable(10)\n",
    "print(MyClass.class_variable)  # 输出：10\n",
    "\n",
    "# 使用类方法创建类的实例\n",
    "instance = MyClass.create_instance(20,30,40)\n",
    "print(instance._c)  # 输出：20"
   ],
   "id": "8e4ddb597cfe0380",
   "outputs": [
    {
     "name": "stdout",
     "output_type": "stream",
     "text": [
      "10\n",
      "40\n"
     ]
    }
   ],
   "execution_count": 23
  }
 ],
 "metadata": {
  "kernelspec": {
   "name": "python3",
   "language": "python",
   "display_name": "Python 3 (ipykernel)"
  }
 },
 "nbformat": 5,
 "nbformat_minor": 9
}
