{
 "cells": [
  {
   "metadata": {
    "ExecuteTime": {
     "end_time": "2025-02-09T08:04:51.545264Z",
     "start_time": "2025-02-09T08:04:51.541769Z"
    }
   },
   "cell_type": "code",
   "source": [
    "a = 321\n",
    "b = 12\n",
    "print(a + b)  # 333\n",
    "print(a - b)  # 309\n",
    "print(a * b)  # 3852\n",
    "print(a / b)  # 26.75"
   ],
   "id": "33f1c804331b66dd",
   "outputs": [
    {
     "name": "stdout",
     "output_type": "stream",
     "text": [
      "333\n",
      "309\n",
      "3852\n",
      "26.75\n"
     ]
    }
   ],
   "execution_count": 232
  },
  {
   "metadata": {
    "ExecuteTime": {
     "end_time": "2025-02-08T01:40:32.231217Z",
     "start_time": "2025-02-08T01:40:32.228735Z"
    }
   },
   "cell_type": "code",
   "source": [
    "a = 100\n",
    "b = 12.345\n",
    "c = 1 + 5j\n",
    "d = 'hello, world'\n",
    "e = True\n",
    "print(type(a))  # <class 'int'>\n",
    "print(type(b))  # <class 'float'>\n",
    "print(type(c))  # <class 'complex'>\n",
    "print(type(d))  # <class 'str'>\n",
    "print(type(e))  # <class 'bool'>"
   ],
   "id": "538657943dbd7087",
   "outputs": [
    {
     "name": "stdout",
     "output_type": "stream",
     "text": [
      "<class 'int'>\n",
      "<class 'float'>\n",
      "<class 'complex'>\n",
      "<class 'str'>\n",
      "<class 'bool'>\n"
     ]
    }
   ],
   "execution_count": 19
  },
  {
   "metadata": {},
   "cell_type": "code",
   "outputs": [],
   "execution_count": null,
   "source": [
    "a = 100\n",
    "b = 12.345\n",
    "c = 1 + 5j\n",
    "d = 'hello, world'\n",
    "e = True\n",
    "print(type(a))  # <class 'int'>\n",
    "print(type(b))  # <class 'float'>\n",
    "print(type(c))  # <class 'complex'>\n",
    "print(type(d))  # <class 'str'>\n",
    "print(type(e))  # <class 'bool'>"
   ],
   "id": "83e707dfc8de74ee"
  },
  {
   "metadata": {
    "ExecuteTime": {
     "end_time": "2025-02-09T04:58:10.484232Z",
     "start_time": "2025-02-09T04:58:06.557675Z"
    }
   },
   "cell_type": "code",
   "source": [
    "def fac(num):  #阶乘\n",
    "    result = 1\n",
    "    for i in range(1, num + 1):\n",
    "        result *= i\n",
    "    return result\n",
    "\n",
    "\n",
    "m = int(input('m='))\n",
    "n = int(input('n='))\n",
    "print(fac(m))\n",
    "print(fac(n))\n"
   ],
   "id": "51fb9ac57d21ad82",
   "outputs": [
    {
     "name": "stdout",
     "output_type": "stream",
     "text": [
      "120\n",
      "6\n"
     ]
    }
   ],
   "execution_count": 2
  },
  {
   "metadata": {
    "ExecuteTime": {
     "end_time": "2025-02-09T05:13:50.585195Z",
     "start_time": "2025-02-09T05:13:50.581184Z"
    }
   },
   "cell_type": "code",
   "source": [
    "from random import randint\n",
    "\n",
    "\n",
    "def roll(n=2):\n",
    "    result = 0\n",
    "    total = 0\n",
    "    for _ in range(n):\n",
    "        result = randint(1, 6)\n",
    "        print('第%d次结果是%d' % (_ + 1, result))\n",
    "        total = result + total\n",
    "    print('结果之和是%d' % total)\n",
    "    return total\n",
    "\n",
    "\n",
    "roll()\n",
    "roll(3)\n",
    "\n",
    "\n",
    "# roll(int(input('请输入次数:')))\n",
    "\n",
    "def add(a=0, b=0, c=0):\n",
    "    return a + b + c\n",
    "\n",
    "\n",
    "add(1, 3)"
   ],
   "id": "bbc763aea1836964",
   "outputs": [
    {
     "name": "stdout",
     "output_type": "stream",
     "text": [
      "第1次结果是4\n",
      "第2次结果是4\n",
      "结果之和是8\n",
      "第1次结果是6\n",
      "第2次结果是2\n",
      "第3次结果是3\n",
      "结果之和是11\n"
     ]
    },
    {
     "data": {
      "text/plain": [
       "4"
      ]
     },
     "execution_count": 33,
     "metadata": {},
     "output_type": "execute_result"
    }
   ],
   "execution_count": 33
  },
  {
   "metadata": {},
   "cell_type": "markdown",
   "source": "### 可变参数",
   "id": "cf823af5851aeb84"
  },
  {
   "metadata": {
    "ExecuteTime": {
     "end_time": "2025-02-09T05:19:41.040368Z",
     "start_time": "2025-02-09T05:19:41.038020Z"
    }
   },
   "cell_type": "code",
   "source": [
    "def add(*ab):\n",
    "    total = 0\n",
    "    for _ in ab:\n",
    "        total += _\n",
    "    print(total)\n",
    "\n",
    "\n",
    "add(1, 2, 3, 4, 10)"
   ],
   "id": "6b0fee7b7ef096bd",
   "outputs": [
    {
     "name": "stdout",
     "output_type": "stream",
     "text": [
      "20\n"
     ]
    }
   ],
   "execution_count": 43
  },
  {
   "metadata": {
    "ExecuteTime": {
     "end_time": "2025-02-09T05:26:22.633017Z",
     "start_time": "2025-02-09T05:26:22.630240Z"
    }
   },
   "cell_type": "code",
   "source": [
    "def foo():\n",
    "    print('hello, world!')\n",
    "\n",
    "\n",
    "def foo():\n",
    "    print('goodbye, world!')\n",
    "\n",
    "\n",
    "# 下面的代码会输出什么呢？ 后一个会覆盖前一个\n",
    "foo()"
   ],
   "id": "14c443031a624a68",
   "outputs": [
    {
     "name": "stdout",
     "output_type": "stream",
     "text": [
      "goodbye, world!\n"
     ]
    }
   ],
   "execution_count": 47
  },
  {
   "metadata": {
    "ExecuteTime": {
     "end_time": "2025-02-09T07:59:45.947387Z",
     "start_time": "2025-02-09T07:59:45.943805Z"
    }
   },
   "cell_type": "code",
   "source": [
    "import mould1 as m1\n",
    "import mould2 as m2\n",
    "\n",
    "m1.foo()\n",
    "m2.foo()"
   ],
   "id": "c3e19b094fa23097",
   "outputs": [
    {
     "name": "stdout",
     "output_type": "stream",
     "text": [
      "hello world\n",
      "good night\n"
     ]
    }
   ],
   "execution_count": 215
  },
  {
   "metadata": {
    "ExecuteTime": {
     "end_time": "2025-02-09T07:59:39.032834Z",
     "start_time": "2025-02-09T07:59:39.029812Z"
    }
   },
   "cell_type": "code",
   "source": [
    "import mould1\n",
    "\n",
    "mould1.foo()"
   ],
   "id": "fcbc21f0370d401f",
   "outputs": [
    {
     "name": "stdout",
     "output_type": "stream",
     "text": [
      "hello world\n"
     ]
    }
   ],
   "execution_count": 212
  },
  {
   "metadata": {},
   "cell_type": "markdown",
   "source": [
    "### __name__='__main__'用法\n",
    "###### __name__是Python中一个隐含的变量它代表了模块的名字\n",
    "###### 只有被Python解释器直接执行的模块的名字才是__main__\n",
    "###### 导入module3时 不会执行模块中if条件成立时的代码 因为模块的名字是module3而不是__main__"
   ],
   "id": "9c5b00373d030dd7"
  },
  {
   "metadata": {
    "ExecuteTime": {
     "end_time": "2025-02-09T08:06:33.033391Z",
     "start_time": "2025-02-09T08:06:33.029819Z"
    }
   },
   "cell_type": "code",
   "source": [
    "import mould3 as m3\n",
    "m3.foo()"
   ],
   "id": "b00cc4d1b5ff1b23",
   "outputs": [
    {
     "name": "stdout",
     "output_type": "stream",
     "text": [
      "hello world\n"
     ]
    }
   ],
   "execution_count": 5
  },
  {
   "metadata": {},
   "cell_type": "markdown",
   "source": "### 全局变量 局部变量",
   "id": "a1b686811f8d6133"
  },
  {
   "metadata": {
    "ExecuteTime": {
     "end_time": "2025-02-09T07:33:40.723014Z",
     "start_time": "2025-02-09T07:33:40.719625Z"
    }
   },
   "cell_type": "code",
   "source": [
    "def foo():\n",
    "    a = 200\n",
    "    print(a)  # 200\n",
    "\n",
    "\n",
    "if __name__ == '__main__':\n",
    "    a = 100\n",
    "    foo()  #这里打印了局部函数的a， 局部函数里的局部变量a和全局变量a不一样，虽然都是a\n",
    "    print(a)  # 100 这里的a是全局变量"
   ],
   "id": "82db2259f5a6a934",
   "outputs": [
    {
     "name": "stdout",
     "output_type": "stream",
     "text": [
      "200\n",
      "100\n"
     ]
    }
   ],
   "execution_count": 135
  },
  {
   "metadata": {
    "ExecuteTime": {
     "end_time": "2025-02-09T07:37:32.523186Z",
     "start_time": "2025-02-09T07:37:32.520190Z"
    }
   },
   "cell_type": "code",
   "source": [
    "def foo():\n",
    "    global a\n",
    "    a = 200\n",
    "    print(a)  # 200\n",
    "\n",
    "\n",
    "if __name__ == '__main__':\n",
    "    a = 100\n",
    "    foo()  #这里foo中的定义了全局的a，覆盖了之前的a=100\n",
    "    print(a)  # 100"
   ],
   "id": "3ccb433e2f3b3c9",
   "outputs": [
    {
     "name": "stdout",
     "output_type": "stream",
     "text": [
      "200\n",
      "200\n"
     ]
    }
   ],
   "execution_count": 138
  },
  {
   "metadata": {},
   "cell_type": "markdown",
   "source": "",
   "id": "9290f49c5aa7b6d3"
  },
  {
   "metadata": {},
   "cell_type": "code",
   "outputs": [],
   "execution_count": null,
   "source": "",
   "id": "76dff88e93f57452"
  }
 ],
 "metadata": {
  "kernelspec": {
   "name": "python3",
   "language": "python",
   "display_name": "Python 3 (ipykernel)"
  }
 },
 "nbformat": 5,
 "nbformat_minor": 9
}
