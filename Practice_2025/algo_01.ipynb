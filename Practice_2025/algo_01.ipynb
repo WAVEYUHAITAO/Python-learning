{
 "cells": [
  {
   "cell_type": "code",
   "id": "initial_id",
   "metadata": {
    "collapsed": true,
    "ExecuteTime": {
     "end_time": "2025-02-08T08:33:50.751821Z",
     "start_time": "2025-02-08T08:33:50.745836Z"
    }
   },
   "source": [
    "#寻找水仙花数。\n",
    "for num in range(100, 10000):\n",
    "    low = num % 10\n",
    "    mid = num // 10 % 10\n",
    "    mid_1 = num // 100 % 10\n",
    "    high = num // 1000\n",
    "    if num == low ** 3 + mid ** 3 + mid_1 ** 3 + high ** 3:\n",
    "        print(num)\n",
    "print()\n",
    "\n",
    "\n",
    "for num in range(100, 1000):\n",
    "    low = num % 10\n",
    "    mid = num // 10 % 10\n",
    "    high = num // 100\n",
    "    if num == low ** 3 + mid ** 3 + high ** 3:\n",
    "        print(num)\n",
    "\n",
    "#水仙花数量100-1000和100-10000都是只有4个。"
   ],
   "outputs": [
    {
     "name": "stdout",
     "output_type": "stream",
     "text": [
      "153\n",
      "370\n",
      "371\n",
      "407\n",
      "\n",
      "153\n",
      "370\n",
      "371\n",
      "407\n"
     ]
    }
   ],
   "execution_count": 1
  }
 ],
 "metadata": {
  "kernelspec": {
   "display_name": "Python 3",
   "language": "python",
   "name": "python3"
  },
  "language_info": {
   "codemirror_mode": {
    "name": "ipython",
    "version": 2
   },
   "file_extension": ".py",
   "mimetype": "text/x-python",
   "name": "python",
   "nbconvert_exporter": "python",
   "pygments_lexer": "ipython2",
   "version": "2.7.6"
  }
 },
 "nbformat": 4,
 "nbformat_minor": 5
}
