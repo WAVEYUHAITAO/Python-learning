{
 "cells": [
  {
   "metadata": {},
   "cell_type": "markdown",
   "source": "### 寻找水仙花数",
   "id": "69323c4e792d9fcd"
  },
  {
   "metadata": {
    "collapsed": true
   },
   "cell_type": "code",
   "source": [
    "#寻找水仙花数。\n",
    "for num in range(100, 10000):\n",
    "    low = num % 10\n",
    "    mid = num // 10 % 10\n",
    "    mid_1 = num // 100 % 10\n",
    "    high = num // 1000\n",
    "    if num == low ** 3 + mid ** 3 + mid_1 ** 3 + high ** 3:\n",
    "        print(num)\n",
    "print()\n",
    "\n",
    "for num in range(100, 1000):\n",
    "    low = num % 10\n",
    "    mid = num // 10 % 10\n",
    "    high = num // 100\n",
    "    if num == low ** 3 + mid ** 3 + high ** 3:\n",
    "        print(num)\n",
    "\n",
    "#水仙花数量100-1000和100-10000都是只有4个。"
   ],
   "id": "initial_id",
   "outputs": [],
   "execution_count": null
  },
  {
   "metadata": {},
   "cell_type": "markdown",
   "source": "### 数字反转",
   "id": "a4ce9b0444f4ea10"
  },
  {
   "metadata": {},
   "cell_type": "code",
   "source": [
    "num = int(input('Enter a number: '))\n",
    "\n",
    "reverse_num = 0\n",
    "\n",
    "while num > 0:\n",
    "    reverse_num = reverse_num * 10 + num % 10\n",
    "\n",
    "    num //= 10\n",
    "print(reverse_num)"
   ],
   "id": "83af2567f2cc8e13",
   "outputs": [],
   "execution_count": null
  },
  {
   "metadata": {},
   "cell_type": "markdown",
   "source": [
    "### 百钱百鸡问题\n",
    "###### 百钱百鸡是我国古代数学家张丘建在《算经》一书中提出的数学问题：鸡翁一值钱五，鸡母一值钱三，鸡雏三值钱一。百钱买百鸡，问鸡翁、鸡母、鸡雏各几何？翻译成现代文是：公鸡5元一只，母鸡3元一只，小鸡1元三只，用100块钱买一百只鸡，问公鸡、母鸡、小鸡各有多少只？"
   ],
   "id": "e5445297cc57bc66"
  },
  {
   "metadata": {},
   "cell_type": "code",
   "source": [
    "#穷举法\n",
    "for x in range(50):\n",
    "    for y in range(80):\n",
    "        z = 100 - x - y\n",
    "        if 5 * x + 3 * y + z / 3 == 100:\n",
    "            print('公鸡:%d, 母鸡:%d, 小鸡:%d'%(x, y, z))"
   ],
   "id": "1e87fa1862e61a1d",
   "outputs": [],
   "execution_count": null
  },
  {
   "metadata": {},
   "cell_type": "markdown",
   "source": "### CRAPS赌博游戏。\n",
   "id": "8a28535607e6877c"
  },
  {
   "metadata": {},
   "cell_type": "code",
   "source": [
    "from random import randint\n",
    "\n",
    "money = 1000\n",
    "while money > 0:\n",
    "    print('你的总资产为:', money)\n",
    "    needs_go_on = False\n",
    "    while True:\n",
    "        debt = int(input('请下注: '))\n",
    "        if 0 < debt <= money:\n",
    "            break\n",
    "    first = randint(1, 6) + randint(1, 6)\n",
    "    print('玩家摇出了%d点' % first)\n",
    "    if first == 7 or first == 11:\n",
    "        print('玩家胜!')\n",
    "        money += debt\n",
    "    elif first == 2 or first == 3 or first == 12:\n",
    "        print('庄家胜!')\n",
    "        money -= debt\n",
    "    else:\n",
    "        needs_go_on = True\n",
    "    while needs_go_on:\n",
    "        needs_go_on = False\n",
    "        current = randint(1, 6) + randint(1, 6)\n",
    "        print('玩家摇出了%d点' % current)\n",
    "        if current == 7:\n",
    "            print('庄家胜')\n",
    "            money -= debt\n",
    "        elif current == first:\n",
    "            print('玩家胜')\n",
    "            money += debt\n",
    "        else:\n",
    "            needs_go_on = True\n",
    "print('你破产了, 游戏结束!')"
   ],
   "id": "76431b37ff61a550",
   "outputs": [],
   "execution_count": null
  }
 ],
 "metadata": {
  "kernelspec": {
   "display_name": "Python 3",
   "language": "python",
   "name": "python3"
  },
  "language_info": {
   "codemirror_mode": {
    "name": "ipython",
    "version": 2
   },
   "file_extension": ".py",
   "mimetype": "text/x-python",
   "name": "python",
   "nbconvert_exporter": "python",
   "pygments_lexer": "ipython2",
   "version": "2.7.6"
  }
 },
 "nbformat": 4,
 "nbformat_minor": 5
}
