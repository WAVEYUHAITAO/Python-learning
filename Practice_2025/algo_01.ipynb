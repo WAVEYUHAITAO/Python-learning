{
 "cells": [
  {
   "metadata": {},
   "cell_type": "markdown",
   "source": "### 寻找水仙花数",
   "id": "69323c4e792d9fcd"
  },
  {
   "metadata": {
    "collapsed": true
   },
   "cell_type": "code",
   "source": [
    "from operator import truediv\n",
    "\n",
    "#寻找水仙花数。\n",
    "for num in range(100, 10000):\n",
    "    low = num % 10\n",
    "    mid = num // 10 % 10\n",
    "    mid_1 = num // 100 % 10\n",
    "    high = num // 1000\n",
    "    if num == low ** 3 + mid ** 3 + mid_1 ** 3 + high ** 3:\n",
    "        print(num)\n",
    "print()\n",
    "\n",
    "for num in range(100, 1000):\n",
    "    low = num % 10\n",
    "    mid = num // 10 % 10\n",
    "    high = num // 100\n",
    "    if num == low ** 3 + mid ** 3 + high ** 3:\n",
    "        print(num)\n",
    "\n",
    "#水仙花数量100-1000和100-10000都是只有4个。"
   ],
   "id": "initial_id",
   "outputs": [],
   "execution_count": null
  },
  {
   "metadata": {},
   "cell_type": "markdown",
   "source": "### 数字反转",
   "id": "a4ce9b0444f4ea10"
  },
  {
   "metadata": {},
   "cell_type": "code",
   "source": [
    "num = int(input('Enter a number: '))\n",
    "\n",
    "reverse_num = 0\n",
    "\n",
    "while num > 0:\n",
    "    reverse_num = reverse_num * 10 + num % 10\n",
    "\n",
    "    num //= 10\n",
    "print(reverse_num)"
   ],
   "id": "83af2567f2cc8e13",
   "outputs": [],
   "execution_count": null
  },
  {
   "metadata": {},
   "cell_type": "markdown",
   "source": [
    "### 百钱百鸡问题\n",
    "###### 百钱百鸡是我国古代数学家张丘建在《算经》一书中提出的数学问题：鸡翁一值钱五，鸡母一值钱三，鸡雏三值钱一。百钱买百鸡，问鸡翁、鸡母、鸡雏各几何？翻译成现代文是：公鸡5元一只，母鸡3元一只，小鸡1元三只，用100块钱买一百只鸡，问公鸡、母鸡、小鸡各有多少只？"
   ],
   "id": "e5445297cc57bc66"
  },
  {
   "metadata": {
    "ExecuteTime": {
     "end_time": "2025-02-09T04:47:50.949658Z",
     "start_time": "2025-02-09T04:47:50.945794Z"
    }
   },
   "cell_type": "code",
   "source": [
    "#穷举法\n",
    "for x in range(50):\n",
    "    for y in range(80):\n",
    "        z = 100 - x - y\n",
    "        if 5 * x + 3 * y + z / 3 == 100:\n",
    "            print('公鸡:%d, 母鸡:%d, 小鸡:%d' % (x, y, z))"
   ],
   "id": "1e87fa1862e61a1d",
   "outputs": [
    {
     "name": "stdout",
     "output_type": "stream",
     "text": [
      "公鸡:0, 母鸡:25, 小鸡:75\n",
      "公鸡:4, 母鸡:18, 小鸡:78\n",
      "公鸡:8, 母鸡:11, 小鸡:81\n",
      "公鸡:12, 母鸡:4, 小鸡:84\n"
     ]
    }
   ],
   "execution_count": 1
  },
  {
   "metadata": {},
   "cell_type": "markdown",
   "source": "### CRAPS赌博游戏。\n",
   "id": "8a28535607e6877c"
  },
  {
   "metadata": {},
   "cell_type": "code",
   "source": [
    "from random import randint\n",
    "\n",
    "money = 1000\n",
    "while money > 0:\n",
    "    print('你的总资产为:', money)\n",
    "    needs_go_on = False\n",
    "    while True:\n",
    "        debt = int(input('请下注: '))\n",
    "        if 0 < debt <= money:\n",
    "            break\n",
    "    first = randint(1, 6) + randint(1, 6)\n",
    "    print('玩家摇出了%d点' % first)\n",
    "    if first == 7 or first == 11:\n",
    "        print('玩家胜!')\n",
    "        money += debt\n",
    "    elif first == 2 or first == 3 or first == 12:\n",
    "        print('庄家胜!')\n",
    "        money -= debt\n",
    "    else:\n",
    "        needs_go_on = True\n",
    "    while needs_go_on:\n",
    "        needs_go_on = False\n",
    "        current = randint(1, 6) + randint(1, 6)\n",
    "        print('玩家摇出了%d点' % current)\n",
    "        if current == 7:\n",
    "            print('庄家胜')\n",
    "            money -= debt\n",
    "        elif current == first:\n",
    "            print('玩家胜')\n",
    "            money += debt\n",
    "        else:\n",
    "            needs_go_on = True\n",
    "print('你破产了, 游戏结束!')"
   ],
   "id": "76431b37ff61a550",
   "outputs": [],
   "execution_count": null
  },
  {
   "metadata": {},
   "cell_type": "markdown",
   "source": "### 求最大公约数和最小公倍数",
   "id": "29b34cb6564d99dc"
  },
  {
   "metadata": {
    "ExecuteTime": {
     "end_time": "2025-02-09T06:03:32.610695Z",
     "start_time": "2025-02-09T06:03:32.607172Z"
    }
   },
   "cell_type": "code",
   "source": [
    "def gcd(a, b):\n",
    "    (a, b) = (b, a) if a > b else (b, a)\n",
    "    for factor in range(a, 0, -1):\n",
    "        if a % factor == 0 and b % factor == 0:\n",
    "            #(factor)\n",
    "            return factor\n",
    "\n",
    "\n",
    "#这里如果用print(factor)会遍历打印所有的公约数，而用return当出现第一个最大公约数就返回了值不继续遍历\n",
    "print(gcd(100, 120))\n",
    "\n",
    "\n",
    "def lcm(a, b):\n",
    "    return a * b // gcd(a, b)\n",
    "\n",
    "\n",
    "print(lcm(100, 120))"
   ],
   "id": "8f01a440b176844c",
   "outputs": [
    {
     "name": "stdout",
     "output_type": "stream",
     "text": [
      "20\n",
      "600\n"
     ]
    }
   ],
   "execution_count": 37
  },
  {
   "metadata": {},
   "cell_type": "markdown",
   "source": "### 判断是否是一个回文数",
   "id": "85ced2b45c7b5e09"
  },
  {
   "metadata": {
    "ExecuteTime": {
     "end_time": "2025-02-09T06:14:52.127472Z",
     "start_time": "2025-02-09T06:14:52.124481Z"
    }
   },
   "cell_type": "code",
   "source": [
    "def is_palindrome(a):\n",
    "    return str(a) == str(a)[::-1]\n",
    "\n",
    "\n",
    "is_palindrome(10101)"
   ],
   "id": "100bf6fdb3739a0f",
   "outputs": [
    {
     "data": {
      "text/plain": [
       "True"
      ]
     },
     "execution_count": 55,
     "metadata": {},
     "output_type": "execute_result"
    }
   ],
   "execution_count": 55
  },
  {
   "metadata": {
    "ExecuteTime": {
     "end_time": "2025-02-09T06:14:29.880723Z",
     "start_time": "2025-02-09T06:14:29.877486Z"
    }
   },
   "cell_type": "code",
   "source": [
    "def is_palindrome2(a):\n",
    "    total = 0\n",
    "    temp =a\n",
    "    while temp > 0:\n",
    "        total = total * 10 + temp % 10\n",
    "        temp //= 10\n",
    "    return total == a\n",
    "\n",
    "\n",
    "is_palindrome2(10101)"
   ],
   "id": "2817baa806d2e9b4",
   "outputs": [
    {
     "data": {
      "text/plain": [
       "True"
      ]
     },
     "execution_count": 53,
     "metadata": {},
     "output_type": "execute_result"
    }
   ],
   "execution_count": 53
  },
  {
   "metadata": {},
   "cell_type": "markdown",
   "source": "### 判断一个数是不是素数",
   "id": "9a8ee509a5f77cab"
  },
  {
   "metadata": {
    "ExecuteTime": {
     "end_time": "2025-02-09T06:35:01.161364Z",
     "start_time": "2025-02-09T06:34:58.912976Z"
    }
   },
   "cell_type": "code",
   "source": [
    "def is_prime(num):\n",
    "   if num <= 1:\n",
    "       return False\n",
    "   if num == 2:\n",
    "       return True\n",
    "   if num % 2 ==0:\n",
    "       return False\n",
    "   for i in range(3,int(num**0.5)+1,2):#如果num不是素数那就可以分成a*b其中一个一定小于根号num，这里加1保证包含根号num，并且步长为2，保证了跳过偶数，只看奇数\n",
    "       if num % i == 0:\n",
    "           return False\n",
    "   else:\n",
    "       return True\n",
    "# 测试\n",
    "number = int(input(\"请输入一个整数: \"))\n",
    "if is_prime(number):\n",
    "    print(f\"{number} 是素数\")\n",
    "else:\n",
    "    print(f\"{number} 不是素数\")"
   ],
   "id": "e9a0d526e0386eb5",
   "outputs": [
    {
     "name": "stdout",
     "output_type": "stream",
     "text": [
      "37 是素数\n"
     ]
    }
   ],
   "execution_count": 59
  }
 ],
 "metadata": {
  "kernelspec": {
   "display_name": "Python 3",
   "language": "python",
   "name": "python3"
  },
  "language_info": {
   "codemirror_mode": {
    "name": "ipython",
    "version": 2
   },
   "file_extension": ".py",
   "mimetype": "text/x-python",
   "name": "python",
   "nbconvert_exporter": "python",
   "pygments_lexer": "ipython2",
   "version": "2.7.6"
  }
 },
 "nbformat": 4,
 "nbformat_minor": 5
}
