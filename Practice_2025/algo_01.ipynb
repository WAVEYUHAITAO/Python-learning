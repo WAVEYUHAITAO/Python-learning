{
 "cells": [
  {
   "metadata": {},
   "cell_type": "markdown",
   "source": "### 寻找水仙花数",
   "id": "69323c4e792d9fcd"
  },
  {
   "metadata": {
    "collapsed": true
   },
   "cell_type": "code",
   "source": [
    "from operator import truediv\n",
    "\n",
    "#寻找水仙花数。\n",
    "for num in range(100, 10000):\n",
    "    low = num % 10\n",
    "    mid = num // 10 % 10\n",
    "    mid_1 = num // 100 % 10\n",
    "    high = num // 1000\n",
    "    if num == low ** 3 + mid ** 3 + mid_1 ** 3 + high ** 3:\n",
    "        print(num)\n",
    "print()\n",
    "\n",
    "for num in range(100, 1000):\n",
    "    low = num % 10\n",
    "    mid = num // 10 % 10\n",
    "    high = num // 100\n",
    "    if num == low ** 3 + mid ** 3 + high ** 3:\n",
    "        print(num)\n",
    "\n",
    "#水仙花数量100-1000和100-10000都是只有4个。"
   ],
   "id": "initial_id",
   "outputs": [],
   "execution_count": null
  },
  {
   "metadata": {},
   "cell_type": "markdown",
   "source": "### 数字反转",
   "id": "a4ce9b0444f4ea10"
  },
  {
   "metadata": {},
   "cell_type": "code",
   "source": [
    "num = int(input('Enter a number: '))\n",
    "\n",
    "reverse_num = 0\n",
    "\n",
    "while num > 0:\n",
    "    reverse_num = reverse_num * 10 + num % 10\n",
    "\n",
    "    num //= 10\n",
    "print(reverse_num)"
   ],
   "id": "83af2567f2cc8e13",
   "outputs": [],
   "execution_count": null
  },
  {
   "metadata": {},
   "cell_type": "markdown",
   "source": [
    "### 百钱百鸡问题\n",
    "###### 百钱百鸡是我国古代数学家张丘建在《算经》一书中提出的数学问题：鸡翁一值钱五，鸡母一值钱三，鸡雏三值钱一。百钱买百鸡，问鸡翁、鸡母、鸡雏各几何？翻译成现代文是：公鸡5元一只，母鸡3元一只，小鸡1元三只，用100块钱买一百只鸡，问公鸡、母鸡、小鸡各有多少只？"
   ],
   "id": "e5445297cc57bc66"
  },
  {
   "metadata": {},
   "cell_type": "code",
   "source": [
    "#穷举法\n",
    "for x in range(50):\n",
    "    for y in range(80):\n",
    "        z = 100 - x - y\n",
    "        if 5 * x + 3 * y + z / 3 == 100:\n",
    "            print('公鸡:%d, 母鸡:%d, 小鸡:%d' % (x, y, z))"
   ],
   "id": "1e87fa1862e61a1d",
   "outputs": [],
   "execution_count": null
  },
  {
   "metadata": {},
   "cell_type": "markdown",
   "source": "### CRAPS赌博游戏。\n",
   "id": "8a28535607e6877c"
  },
  {
   "metadata": {},
   "cell_type": "code",
   "source": [
    "from random import randint\n",
    "\n",
    "money = 1000\n",
    "while money > 0:\n",
    "    print('你的总资产为:', money)\n",
    "    needs_go_on = False\n",
    "    while True:\n",
    "        debt = int(input('请下注: '))\n",
    "        if 0 < debt <= money:\n",
    "            break\n",
    "    first = randint(1, 6) + randint(1, 6)\n",
    "    print('玩家摇出了%d点' % first)\n",
    "    if first == 7 or first == 11:\n",
    "        print('玩家胜!')\n",
    "        money += debt\n",
    "    elif first == 2 or first == 3 or first == 12:\n",
    "        print('庄家胜!')\n",
    "        money -= debt\n",
    "    else:\n",
    "        needs_go_on = True\n",
    "    while needs_go_on:\n",
    "        needs_go_on = False\n",
    "        current = randint(1, 6) + randint(1, 6)\n",
    "        print('玩家摇出了%d点' % current)\n",
    "        if current == 7:\n",
    "            print('庄家胜')\n",
    "            money -= debt\n",
    "        elif current == first:\n",
    "            print('玩家胜')\n",
    "            money += debt\n",
    "        else:\n",
    "            needs_go_on = True\n",
    "print('你破产了, 游戏结束!')"
   ],
   "id": "76431b37ff61a550",
   "outputs": [],
   "execution_count": null
  },
  {
   "metadata": {},
   "cell_type": "markdown",
   "source": "### 求最大公约数和最小公倍数",
   "id": "29b34cb6564d99dc"
  },
  {
   "metadata": {},
   "cell_type": "code",
   "source": [
    "def gcd(a, b):\n",
    "    (a, b) = (b, a) if a > b else (b, a)\n",
    "    for factor in range(a, 0, -1):\n",
    "        if a % factor == 0 and b % factor == 0:\n",
    "            #(factor)\n",
    "            return factor\n",
    "\n",
    "\n",
    "#这里如果用print(factor)会遍历打印所有的公约数，而用return当出现第一个最大公约数就返回了值不继续遍历\n",
    "print(gcd(100, 120))\n",
    "\n",
    "\n",
    "def lcm(a, b):\n",
    "    return a * b // gcd(a, b)\n",
    "\n",
    "\n",
    "print(lcm(100, 120))"
   ],
   "id": "8f01a440b176844c",
   "outputs": [],
   "execution_count": null
  },
  {
   "metadata": {},
   "cell_type": "markdown",
   "source": "### 判断是否是一个回文数",
   "id": "85ced2b45c7b5e09"
  },
  {
   "metadata": {},
   "cell_type": "code",
   "source": [
    "def is_palindrome(a):\n",
    "    return str(a) == str(a)[::-1]\n",
    "\n",
    "\n",
    "is_palindrome(10101)"
   ],
   "id": "100bf6fdb3739a0f",
   "outputs": [],
   "execution_count": null
  },
  {
   "metadata": {},
   "cell_type": "code",
   "source": [
    "def is_palindrome2(a):\n",
    "    total = 0\n",
    "    temp = a\n",
    "    while temp > 0:\n",
    "        total = total * 10 + temp % 10\n",
    "        temp //= 10\n",
    "    return total == a\n",
    "\n",
    "\n",
    "is_palindrome2(10101)"
   ],
   "id": "2817baa806d2e9b4",
   "outputs": [],
   "execution_count": null
  },
  {
   "metadata": {},
   "cell_type": "markdown",
   "source": "### 判断一个数是不是素数",
   "id": "9a8ee509a5f77cab"
  },
  {
   "metadata": {},
   "cell_type": "code",
   "source": [
    "def is_prime(num):\n",
    "    if num <= 1:\n",
    "        return False\n",
    "    if num == 2:\n",
    "        return True\n",
    "    if num % 2 == 0:\n",
    "        return False\n",
    "    for i in range(3, int(num ** 0.5) + 1, 2):  #如果num不是素数那就可以分成a*b其中一个一定小于根号num，这里加1保证包含根号num，并且步长为2，保证了跳过偶数，只看奇数\n",
    "        if num % i == 0:\n",
    "            return False\n",
    "    else:\n",
    "        return True\n",
    "\n",
    "\n",
    "# 测试\n",
    "number = int(input(\"请输入一个整数: \"))\n",
    "if is_prime(number):\n",
    "    print(f\"{number} 是素数\")\n",
    "else:\n",
    "    print(f\"{number} 不是素数\")"
   ],
   "id": "e9a0d526e0386eb5",
   "outputs": [],
   "execution_count": null
  },
  {
   "metadata": {},
   "cell_type": "markdown",
   "source": "### 排序算法（选择、冒泡和归并）和查找算法（顺序和折半）",
   "id": "93c7d5d6847bb8f9"
  },
  {
   "metadata": {
    "ExecuteTime": {
     "end_time": "2025-02-22T10:08:28.558658Z",
     "start_time": "2025-02-22T10:08:28.555511Z"
    }
   },
   "cell_type": "code",
   "source": [
    "def select_sort(items, comp=lambda x, y: x < y):\n",
    "    \"\"\"简单选择排序\"\"\"\n",
    "    items = items[:]\n",
    "\n",
    "    for i in range(len(items)-1):\n",
    "        for j in range(i + 1, len(items)):\n",
    "            if comp(items[j], items[i]):\n",
    "                items[j], items[i] = items[i], items[j]\n",
    "    return items\n",
    "\n",
    "\n",
    "list1 = [12, 34, 456, 76, 3, 4, 56, 57]\n",
    "print(select_sort(list1))\n",
    "print(select_sort(list1, lambda x, y: x > y))  #这里改变了一下comp的参数"
   ],
   "id": "ad19573a7491c2ec",
   "outputs": [
    {
     "name": "stdout",
     "output_type": "stream",
     "text": [
      "[3, 4, 12, 34, 56, 57, 76, 456]\n",
      "[456, 76, 57, 56, 34, 12, 4, 3]\n"
     ]
    }
   ],
   "execution_count": 131
  },
  {
   "metadata": {},
   "cell_type": "code",
   "source": [
    "def select_sort(items, comp=lambda x, y: x < y) -> list:\n",
    "    \"\"\"简单选择排序\"\"\"\n",
    "    #这里如果原来的名字和新名字一样赋值，原来的地址因为没有变量引用就会被垃圾回收机制回收\n",
    "    #这里用浅拷贝机制也是保证原列表在传入函数后不会函数里的操作所覆盖\n",
    "    items = items[:]\n",
    "\n",
    "    for i in range(len(items) - 1):\n",
    "        min_index = i\n",
    "        for j in range(i + 1, len(items)):\n",
    "            if comp(items[j], items[min_index]):\n",
    "                min_index = j\n",
    "        items[i], items[min_index] = items[min_index], items[i]\n",
    "    return items\n",
    "\n",
    "\n",
    "list1 = [10, 50, 33, 22, 78, 5, 15]\n",
    "print(select_sort(list1))\n",
    "print(list1)"
   ],
   "id": "e7481f82e8dc2674",
   "outputs": [],
   "execution_count": null
  },
  {
   "metadata": {
    "ExecuteTime": {
     "end_time": "2025-02-22T10:07:18.274185Z",
     "start_time": "2025-02-22T10:07:18.271722Z"
    }
   },
   "cell_type": "code",
   "source": [
    "def bubble_sort(items, comp=lambda x, y: x > y):\n",
    "    \"\"\"冒泡排序\"\"\"\n",
    "    items = items[:]\n",
    "    for i in range(len(items) - 1):\n",
    "        swapped = False\n",
    "        for j in range(len(items) - 1 - i):\n",
    "            if comp(items[j], items[j + 1]):\n",
    "                items[j], items[j + 1] = items[j + 1], items[j]\n",
    "                swapped = True\n",
    "        if not swapped:\n",
    "            break\n",
    "        print(items)\n",
    "    return items\n",
    "list1 = [10, 50, 33, 22, 78, 5, 15]\n",
    "print(bubble_sort(list1))"
   ],
   "id": "14e06b9b6d2a7932",
   "outputs": [
    {
     "name": "stdout",
     "output_type": "stream",
     "text": [
      "[10, 33, 22, 50, 5, 15, 78]\n",
      "[10, 22, 33, 5, 15, 50, 78]\n",
      "[10, 22, 5, 15, 33, 50, 78]\n",
      "[10, 5, 15, 22, 33, 50, 78]\n",
      "[5, 10, 15, 22, 33, 50, 78]\n",
      "[5, 10, 15, 22, 33, 50, 78]\n"
     ]
    }
   ],
   "execution_count": 125
  },
  {
   "metadata": {
    "ExecuteTime": {
     "end_time": "2025-02-22T10:36:40.609775Z",
     "start_time": "2025-02-22T10:36:40.605510Z"
    }
   },
   "cell_type": "code",
   "source": [
    "def bubble_sort(items, comp=lambda x, y: x > y):\n",
    "    \"\"\"搅拌排序(冒泡排序升级版)\"\"\"\n",
    "    items = items[:]\n",
    "    for i in range(len(items) - 1):\n",
    "        swapped = False\n",
    "        for j in range(len(items) - 1 - i):\n",
    "            if comp(items[j], items[j + 1]):\n",
    "                items[j], items[j + 1] = items[j + 1], items[j]\n",
    "                swapped = True\n",
    "        print(items)\n",
    "        if swapped:\n",
    "            swapped = False\n",
    "            for j in range(len(items) - 2 - i,i,-1):\n",
    "                if comp(items[j-1], items[j]):\n",
    "                    items[j], items[j - 1] = items[j - 1], items[j]\n",
    "                    swapped = True\n",
    "            print(items)\n",
    "        if not swapped:\n",
    "            break\n",
    "\n",
    "    return items\n",
    "list1 = [10, 50, 33, 22, 78, 5, 15]\n",
    "bubble_sort(list1)"
   ],
   "id": "7d0eb75842ff35bf",
   "outputs": [
    {
     "name": "stdout",
     "output_type": "stream",
     "text": [
      "[10, 33, 22, 50, 5, 15, 78]\n",
      "[5, 10, 33, 22, 50, 15, 78]\n",
      "[5, 10, 22, 33, 15, 50, 78]\n",
      "[5, 10, 15, 22, 33, 50, 78]\n",
      "[5, 10, 15, 22, 33, 50, 78]\n"
     ]
    },
    {
     "data": {
      "text/plain": [
       "[5, 10, 15, 22, 33, 50, 78]"
      ]
     },
     "execution_count": 150,
     "metadata": {},
     "output_type": "execute_result"
    }
   ],
   "execution_count": 150
  }
 ],
 "metadata": {
  "kernelspec": {
   "display_name": "Python 3",
   "language": "python",
   "name": "python3"
  },
  "language_info": {
   "codemirror_mode": {
    "name": "ipython",
    "version": 2
   },
   "file_extension": ".py",
   "mimetype": "text/x-python",
   "name": "python",
   "nbconvert_exporter": "python",
   "pygments_lexer": "ipython2",
   "version": "2.7.6"
  }
 },
 "nbformat": 4,
 "nbformat_minor": 5
}
