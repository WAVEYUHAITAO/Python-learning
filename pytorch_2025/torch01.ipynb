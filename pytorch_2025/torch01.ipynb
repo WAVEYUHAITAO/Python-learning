{
 "cells": [
  {
   "cell_type": "code",
   "id": "initial_id",
   "metadata": {},
   "source": [
    "#查看是否拥有cuda\n",
    "#nvidia-smi 查看GPU信息\n",
    "import torch\n",
    "from spacy.symbols import FLAG50\n",
    "from tensorflow.python.ops.gen_summary_ops import summary_writer, SummaryWriter\n",
    "\n",
    "torch.cuda.is_available()"
   ],
   "outputs": [],
   "execution_count": null
  },
  {
   "metadata": {},
   "cell_type": "markdown",
   "source": [
    "###### dir():打开，看见。 能让我们知道工具箱以及工具箱中的分割区有什么东西\n",
    "###### help():说明说。能让我们知道每个工具是如何使用的"
   ],
   "id": "77a9849462847229"
  },
  {
   "metadata": {
    "ExecuteTime": {
     "end_time": "2025-03-05T01:02:23.094609Z",
     "start_time": "2025-03-05T01:02:23.081586Z"
    }
   },
   "cell_type": "code",
   "source": [
    "dir(torch)\n",
    "dir(torch.cuda)\n",
    "dir(torch.cuda.current_device)\n",
    "help(torch.cuda.current_device)"
   ],
   "id": "bcc04b98dacf95b4",
   "outputs": [
    {
     "name": "stdout",
     "output_type": "stream",
     "text": [
      "Help on function current_device in module torch.cuda:\n",
      "\n",
      "current_device() -> int\n",
      "    Return the index of a currently selected device.\n",
      "\n"
     ]
    }
   ],
   "execution_count": 11
  },
  {
   "metadata": {
    "ExecuteTime": {
     "end_time": "2025-03-05T07:26:39.871166Z",
     "start_time": "2025-03-05T07:26:33.197298Z"
    }
   },
   "cell_type": "code",
   "source": [
    "from PIL import Image\n",
    "img_path = r\"D:\\study\\coding\\Github Repos\\Python-learning\\pytorch_2025\\data_warehouse\\hymenoptera\\train\\ants_image\\0013035.jpg\"\n",
    "img = Image.open(img_path)\n",
    "img.show()"
   ],
   "id": "90d38a822d06d5bf",
   "outputs": [],
   "execution_count": 4
  },
  {
   "metadata": {
    "ExecuteTime": {
     "end_time": "2025-03-05T07:30:57.128742Z",
     "start_time": "2025-03-05T07:30:57.121743Z"
    }
   },
   "cell_type": "code",
   "source": [
    "import os\n",
    "dir_path_current=os.getcwd()#这行代码的作用是获取当前工作目录的路径，并将其赋值给变量 dir_path\n",
    "dir_path = r'D:\\study\\coding\\Github Repos\\Python-learning\\pytorch_2025\\data_warehouse\\hymenoptera\\train\\ants_image'\n",
    "img_list = os.listdir(dir_path) #将当前路径下的文件名输出成列表\n",
    "print(img_list[0])"
   ],
   "id": "47ed08373117d5cb",
   "outputs": [
    {
     "name": "stdout",
     "output_type": "stream",
     "text": [
      "0013035.jpg\n"
     ]
    }
   ],
   "execution_count": 10
  },
  {
   "metadata": {
    "ExecuteTime": {
     "end_time": "2025-03-06T00:09:59.960854Z",
     "start_time": "2025-03-06T00:09:59.943994Z"
    }
   },
   "cell_type": "code",
   "source": [
    "from torch.utils.data import Dataset, DataLoader\n",
    "from PIL import Image\n",
    "import os\n",
    "\n",
    "class MyData(Dataset):\n",
    "    def __init__(self, root_dir, label_dir):\n",
    "        self.root_dir = root_dir\n",
    "        self.label_dir = label_dir\n",
    "        self.img_root_path = os.path.join(self.root_dir, self.label_dir)\n",
    "        self.img_path_list = os.listdir(self.img_root_path)\n",
    "    def __getitem__(self, idx):\n",
    "        img_name = self.img_path_list[idx]\n",
    "        img_path = os.path.join(self.img_root_path, img_name)\n",
    "        return  Image.open(img_path), img_name\n",
    "    def __len__(self):\n",
    "        return len(self.img_path_list)\n",
    "\n",
    "root_dir = r'D:\\study\\coding\\Github Repos\\Python-learning\\pytorch_2025\\data_warehouse\\hymenoptera\\train'\n",
    "ants_label_dir = r'ants_image'\n",
    "bees_label_dir = r'bees_image'\n",
    "ants_dataset = MyData(root_dir, ants_label_dir)\n",
    "bees_dataset = MyData(root_dir, bees_label_dir)\n",
    "ants_img, ants_name = ants_dataset[1]\n",
    "bees_img, bees_name = bees_dataset[1]\n",
    "# ants_img.show()\n",
    "# bees_img.show()\n",
    "img , name = ants_dataset.__getitem__(1)\n",
    "print(name)\n"
   ],
   "id": "ed2b2805cbe86a9f",
   "outputs": [
    {
     "name": "stdout",
     "output_type": "stream",
     "text": [
      "1030023514_aad5c608f9.jpg\n"
     ]
    }
   ],
   "execution_count": 3
  },
  {
   "metadata": {
    "ExecuteTime": {
     "end_time": "2025-03-06T08:52:07.112055Z",
     "start_time": "2025-03-06T08:52:07.099668Z"
    }
   },
   "cell_type": "code",
   "source": [
    "from torch.utils.tensorboard import SummaryWriter\n",
    "from PIL import Image\n",
    "from matplotlib import pyplot as plt\n",
    "import numpy as np\n",
    "import os\n",
    "writer = SummaryWriter('logs') #创建一个logs文件夹，把时间写入这个文件夹\n",
    "img_path_root = r\"D:\\study\\coding\\Github Repos\\Python-learning\\pytorch_2025\\data_warehouse\\hymenoptera\\train\\ants_image\"\n",
    "img_list = os.listdir(img_path_root)\n",
    "img_path = os.path.join(img_path_root, img_list[0])\n",
    "img_array = plt.imread(img_path)\n",
    "print(img_array.shape)\n",
    "# for idx, img in enumerate(img_list):\n",
    "#     img_path = os.path.join(img_path_root, img)\n",
    "#     img_array = plt.imread(img_path)\n",
    "#     writer.add_image(\"onts\",img_array,idx+1,dataformats=\"HWC\")#这里需要用dataformats指定每一个数字代表的维度, 2代表全局步数，用来观测图像在每一次训练后的变化。\n",
    "#\n",
    "#\n",
    "# for i in range(100):\n",
    "#     writer.add_scalar(\"y=2x\",3*i,i)#图像是以名字来区分，同名字会绘制到一起\n",
    "#\n",
    "# writer.close()"
   ],
   "id": "96e931e72b90534e",
   "outputs": [
    {
     "name": "stdout",
     "output_type": "stream",
     "text": [
      "(512, 768, 3)\n"
     ]
    }
   ],
   "execution_count": 61
  },
  {
   "metadata": {},
   "cell_type": "markdown",
   "source": [
    "### tensorboard 查看刚才保存的logs\n",
    "### tensorboard --logdir=logs --port=6007"
   ],
   "id": "5baa24b22a1fc7e"
  },
  {
   "metadata": {},
   "cell_type": "code",
   "outputs": [],
   "execution_count": null,
   "source": "",
   "id": "bfe4fdcf6fb64c6d"
  },
  {
   "metadata": {},
   "cell_type": "markdown",
   "source": "### torchvision中transforms的使用",
   "id": "67349a2ac9aaf858"
  },
  {
   "metadata": {
    "ExecuteTime": {
     "end_time": "2025-03-06T09:38:21.257521Z",
     "start_time": "2025-03-06T09:38:21.138967Z"
    }
   },
   "cell_type": "code",
   "source": [
    "from torchvision import transforms\n",
    "from torch.utils.tensorboard import SummaryWriter\n",
    "from PIL import Image\n",
    "#python的用法-》tensor数据类型\n",
    "#通过transform.Totensor去解决两个问题\n",
    "#1.transform应该如何使用\n",
    "#2.为什么我们需要Tensor数据类型\n",
    "\n",
    "#绝对路径 D:\\study\\coding\\Github Repos\\Python-learning\\pytorch_2025\\data_warehouse\\hymenoptera\\train\\ants_image\\0013035.jpg\n",
    "#相对路径 pytorch_2025/data_warehouse/hymenoptera/train/ants_image/0013035.jpg\n",
    "img_path = \"data_warehouse/hymenoptera/train/ants_image/0013035.jpg\"\n",
    "img = Image.open(img_path)\n",
    "tensor_trans = transforms.ToTensor()\n",
    "tensor_img = tensor_trans(img)\n",
    "\n",
    "writer = SummaryWriter('logs')\n",
    "writer.add_image('tensor_img', tensor_img,1)\n",
    "print(tensor_img.shape)\n",
    "print(tensor_img)"
   ],
   "id": "679ebcef3f27b2b",
   "outputs": [
    {
     "name": "stdout",
     "output_type": "stream",
     "text": [
      "torch.Size([3, 512, 768])\n",
      "tensor([[[0.3137, 0.3137, 0.3137,  ..., 0.3176, 0.3098, 0.2980],\n",
      "         [0.3176, 0.3176, 0.3176,  ..., 0.3176, 0.3098, 0.2980],\n",
      "         [0.3216, 0.3216, 0.3216,  ..., 0.3137, 0.3098, 0.3020],\n",
      "         ...,\n",
      "         [0.3412, 0.3412, 0.3373,  ..., 0.1725, 0.3725, 0.3529],\n",
      "         [0.3412, 0.3412, 0.3373,  ..., 0.3294, 0.3529, 0.3294],\n",
      "         [0.3412, 0.3412, 0.3373,  ..., 0.3098, 0.3059, 0.3294]],\n",
      "\n",
      "        [[0.5922, 0.5922, 0.5922,  ..., 0.5961, 0.5882, 0.5765],\n",
      "         [0.5961, 0.5961, 0.5961,  ..., 0.5961, 0.5882, 0.5765],\n",
      "         [0.6000, 0.6000, 0.6000,  ..., 0.5922, 0.5882, 0.5804],\n",
      "         ...,\n",
      "         [0.6275, 0.6275, 0.6235,  ..., 0.3608, 0.6196, 0.6157],\n",
      "         [0.6275, 0.6275, 0.6235,  ..., 0.5765, 0.6275, 0.5961],\n",
      "         [0.6275, 0.6275, 0.6235,  ..., 0.6275, 0.6235, 0.6314]],\n",
      "\n",
      "        [[0.9137, 0.9137, 0.9137,  ..., 0.9176, 0.9098, 0.8980],\n",
      "         [0.9176, 0.9176, 0.9176,  ..., 0.9176, 0.9098, 0.8980],\n",
      "         [0.9216, 0.9216, 0.9216,  ..., 0.9137, 0.9098, 0.9020],\n",
      "         ...,\n",
      "         [0.9294, 0.9294, 0.9255,  ..., 0.5529, 0.9216, 0.8941],\n",
      "         [0.9294, 0.9294, 0.9255,  ..., 0.8863, 1.0000, 0.9137],\n",
      "         [0.9294, 0.9294, 0.9255,  ..., 0.9490, 0.9804, 0.9137]]])\n"
     ]
    }
   ],
   "execution_count": 68
  },
  {
   "metadata": {
    "ExecuteTime": {
     "end_time": "2025-03-08T01:57:51.863591Z",
     "start_time": "2025-03-08T01:57:48.261799Z"
    }
   },
   "cell_type": "code",
   "source": [
    "#常见的Transforms\n",
    "#输入  PIL   Image.open()\n",
    "#输出  tensor  ToTensor()\n",
    "#作用  narrays  cv.imread()\n",
    "from PIL import Image\n",
    "from torchvision import transforms\n",
    "from torch.utils.tensorboard import SummaryWriter\n",
    "writer = SummaryWriter('logs')\n",
    "img = Image.open(r\"D:\\study\\coding\\Github Repos\\Python-learning\\pytorch_2025\\data_warehouse\\hymenoptera\\train\\bees_image\\17209602_fe5a5a746f.jpg\")\n",
    "\n",
    "#ToTensor\n",
    "trans_totensor = transforms.ToTensor()#这个ToTensor会直接把像素0~255转换成0~1\n",
    "tensor_img = trans_totensor(img)\n",
    "writer.add_image('ToTensor', tensor_img,5)\n",
    "\n",
    "#Normalize\n",
    "print(tensor_img.shape)\n",
    "print(tensor_img[0][0][0])\n",
    "#output = (input-0.5)/0.5\n",
    "trans_norm = transforms.Normalize(mean=[1, 3, 5],std=[3, 2, 1],inplace=False)\n",
    "img_norm = trans_norm(tensor_img)\n",
    "print(img_norm[0][0][0])\n",
    "writer.add_image('Normalize', img_norm,1)\n",
    "\n",
    "#Resize 接收的是PIL image 最后输出的也是PIL image\n",
    "#参数是一个元祖(w,h)或者一个数字，数字时短边match这个数字,长边=数字*长边/短边\n",
    "print(img.size)\n",
    "trans_resize = transforms.Resize((224, 224))\n",
    "img_resize = trans_resize(img)\n",
    "print(img_resize)\n",
    "# img_resize.show()\n",
    "writer.add_image('Resize', trans_totensor(img_resize))#加入tensorboard需要将PILimage变成tensor数据类型\n",
    "\n",
    "#Compose - resize -2\n",
    "trans_resize_2 = transforms.Resize(512)\n",
    "#PIL->PIL->Tensor\n",
    "trans_compose = transforms.Compose([trans_resize_2, transforms.ToTensor()])\n",
    "img_resize_2 = trans_compose(img)\n",
    "print(img_resize_2.shape)\n",
    "# img_resize_2.show()\n",
    "writer.add_image('Resize2', img_resize_2)\n",
    "\n",
    "#RandomCrop\n",
    "#参数是一个元祖(w,h)或者一个数字，数字时长宽都直接缩放成这个数字\n",
    "trans_random = transforms.RandomCrop(400)\n",
    "trans_compose = transforms.Compose([trans_random, trans_totensor])\n",
    "for i in range(10):\n",
    "    img_corp = trans_compose(img)\n",
    "    writer.add_image('RandomCrop', img_corp, i)\n",
    "writer.close()"
   ],
   "id": "4202340be01cf159",
   "outputs": [
    {
     "name": "stdout",
     "output_type": "stream",
     "text": [
      "torch.Size([3, 412, 500])\n",
      "tensor(0.4353)\n",
      "tensor(-0.1882)\n",
      "(500, 412)\n",
      "<PIL.Image.Image image mode=RGB size=224x224 at 0x2B2CC228130>\n",
      "torch.Size([3, 512, 621])\n"
     ]
    }
   ],
   "execution_count": 1
  },
  {
   "metadata": {},
   "cell_type": "code",
   "outputs": [],
   "execution_count": null,
   "source": "",
   "id": "9c39bfbf0a441222"
  }
 ],
 "metadata": {
  "kernelspec": {
   "display_name": "Python 3 (ipykernel)",
   "language": "python",
   "name": "python3"
  },
  "language_info": {
   "codemirror_mode": {
    "name": "ipython",
    "version": 3
   },
   "file_extension": ".py",
   "mimetype": "text/x-python",
   "name": "python",
   "nbconvert_exporter": "python",
   "pygments_lexer": "ipython3",
   "version": "3.9.19"
  }
 },
 "nbformat": 4,
 "nbformat_minor": 5
}
