{
 "cells": [
  {
   "cell_type": "code",
   "id": "initial_id",
   "metadata": {
    "collapsed": true,
    "ExecuteTime": {
     "end_time": "2025-02-25T11:25:07.043053Z",
     "start_time": "2025-02-25T11:25:07.040088Z"
    }
   },
   "source": [
    "#数组的运算\n",
    "import numpy as np\n",
    "import pandas as pd\n",
    "array35=np.arange(1,10)\n",
    "print(array35)\n",
    "print(array35+10)\n",
    "print(array35*10)"
   ],
   "outputs": [
    {
     "name": "stdout",
     "output_type": "stream",
     "text": [
      "[1 2 3 4 5 6 7 8 9]\n",
      "[11 12 13 14 15 16 17 18 19]\n",
      "[10 20 30 40 50 60 70 80 90]\n"
     ]
    }
   ],
   "execution_count": 3
  },
  {
   "metadata": {
    "ExecuteTime": {
     "end_time": "2025-02-25T11:24:52.505201Z",
     "start_time": "2025-02-25T11:24:52.501776Z"
    }
   },
   "cell_type": "code",
   "source": [
    "array36 = np.array([1, 1, 1, 2, 2, 2, 3, 3, 3])\n",
    "print(array35 + array36)\n",
    "print(array35 * array36)\n",
    "print(array35 ** array36)"
   ],
   "id": "7e80759b6ae79a66",
   "outputs": [
    {
     "name": "stdout",
     "output_type": "stream",
     "text": [
      "[ 2  3  4  6  7  8 10 11 12]\n",
      "[ 1  2  3  8 10 12 21 24 27]\n",
      "[  1   2   3  16  25  36 343 512 729]\n"
     ]
    }
   ],
   "execution_count": 2
  },
  {
   "metadata": {
    "ExecuteTime": {
     "end_time": "2025-02-25T11:26:35.075208Z",
     "start_time": "2025-02-25T11:26:35.072214Z"
    }
   },
   "cell_type": "code",
   "source": [
    "print(np.sqrt(array35))\n",
    "print(np.log2(array35))"
   ],
   "id": "4de2da7b35283e9d",
   "outputs": [
    {
     "name": "stdout",
     "output_type": "stream",
     "text": [
      "[1.         1.41421356 1.73205081 2.         2.23606798 2.44948974\n",
      " 2.64575131 2.82842712 3.        ]\n",
      "[0.         1.         1.5849625  2.         2.32192809 2.5849625\n",
      " 2.80735492 3.         3.169925  ]\n"
     ]
    }
   ],
   "execution_count": 4
  },
  {
   "metadata": {
    "ExecuteTime": {
     "end_time": "2025-02-25T11:27:27.060658Z",
     "start_time": "2025-02-25T11:27:27.057728Z"
    }
   },
   "cell_type": "code",
   "source": [
    "array37 = np.array([[4, 5, 6], [7, 8, 9]])\n",
    "array38 = np.array([[1, 2, 3], [3, 2, 1]])\n",
    "print(array37 ** array38)\n",
    "print(np.power(array37, array38))"
   ],
   "id": "f8c58e53f67824fc",
   "outputs": [
    {
     "name": "stdout",
     "output_type": "stream",
     "text": [
      "[[  4  25 216]\n",
      " [343  64   9]]\n",
      "[[  4  25 216]\n",
      " [343  64   9]]\n"
     ]
    }
   ],
   "execution_count": 5
  },
  {
   "metadata": {},
   "cell_type": "code",
   "outputs": [],
   "execution_count": null,
   "source": [
    "#floor_divide(x, y) / mod(x, y) 整除函数 / 求模函数\n",
    "#multiply(x, y) / divide(x, y) 乘法函数 / 除法函数\n",
    "#add(x, y) / substract(x, y) 加法函数 / 减法函数\n",
    "#maximum(x, y) / fmax(x, y)  两两比较元素获取最大值 / 获取最大值（忽略NaN）\n",
    "#minimum(x, y) / fmin(x, y)  两两比较元素获取最小值 / 获取最小值（忽略NaN）\n",
    "#dot(x, y) 点积运算（数量积，通常记为$\\cdots$，用于欧几里得空间（Euclidean space））\n",
    "#inner(x, y) 内积运算（内积的含义要高于点积，点积相当于是内积在欧几里得空间$$的特例，而内积可以推广到赋范向量空间，只要它满足平行四边形法则即可）\n",
    "#cross(x, y) 叉积运算（向量积，通常记为$\\times$，运算结果是一个向量）\n",
    "#outer(x, y) 外积运算（张量积，通常记为$\\bigotimes$，运算结果通常是一个矩阵）\n",
    "#in1d(x, y) 返回由判断x 的元素是否在y中得到的布尔值构成的数组\n",
    "#intersect1d(x, y) 计算x和y的交集，返回这些元素构成的有序数组"
   ],
   "id": "825ea37a0e9d81bb"
  },
  {
   "metadata": {
    "ExecuteTime": {
     "end_time": "2025-02-26T02:54:30.477671Z",
     "start_time": "2025-02-26T02:54:30.473879Z"
    }
   },
   "cell_type": "code",
   "source": [
    "import numpy as np\n",
    "array39 = np.array([[0,0,0],[1,1,1],[2,2,2],[3,3,3]])\n",
    "array40 = np.array([1,2,3])\n",
    "array39 + array40"
   ],
   "id": "a1b924bcf6ff0413",
   "outputs": [
    {
     "data": {
      "text/plain": [
       "array([[1, 2, 3],\n",
       "       [2, 3, 4],\n",
       "       [3, 4, 5],\n",
       "       [4, 5, 6]])"
      ]
     },
     "execution_count": 3,
     "metadata": {},
     "output_type": "execute_result"
    }
   ],
   "execution_count": 3
  },
  {
   "metadata": {
    "ExecuteTime": {
     "end_time": "2025-02-26T02:55:52.327723Z",
     "start_time": "2025-02-26T02:55:52.322740Z"
    }
   },
   "cell_type": "code",
   "source": [
    "array41 = np.array([[1],[2],[3],[4]])\n",
    "array39 + array41"
   ],
   "id": "e6978a92945b364b",
   "outputs": [
    {
     "data": {
      "text/plain": [
       "array([[1, 1, 1],\n",
       "       [3, 3, 3],\n",
       "       [5, 5, 5],\n",
       "       [7, 7, 7]])"
      ]
     },
     "execution_count": 4,
     "metadata": {},
     "output_type": "execute_result"
    }
   ],
   "execution_count": 4
  },
  {
   "metadata": {
    "ExecuteTime": {
     "end_time": "2025-02-26T10:29:52.726774Z",
     "start_time": "2025-02-26T10:29:52.721827Z"
    }
   },
   "cell_type": "code",
   "source": [
    "#左右横向叠加\n",
    "array42 = np.array([[1, 1, 1], [2, 2, 2], [3, 3, 3]])\n",
    "array43 = np.array([[4, 4, 4], [5, 5, 5], [6, 6, 6]])\n",
    "np.hstack((array42, array43))"
   ],
   "id": "372f1861e27cce92",
   "outputs": [
    {
     "data": {
      "text/plain": [
       "array([[1, 1, 1, 4, 4, 4],\n",
       "       [2, 2, 2, 5, 5, 5],\n",
       "       [3, 3, 3, 6, 6, 6]])"
      ]
     },
     "execution_count": 5,
     "metadata": {},
     "output_type": "execute_result"
    }
   ],
   "execution_count": 5
  },
  {
   "metadata": {
    "ExecuteTime": {
     "end_time": "2025-02-26T10:31:18.857981Z",
     "start_time": "2025-02-26T10:31:18.853994Z"
    }
   },
   "cell_type": "code",
   "source": [
    "#竖直叠加\n",
    "np.vstack((array42, array43))"
   ],
   "id": "eff7f1556defb6ce",
   "outputs": [
    {
     "data": {
      "text/plain": [
       "array([[1, 1, 1],\n",
       "       [2, 2, 2],\n",
       "       [3, 3, 3],\n",
       "       [4, 4, 4],\n",
       "       [5, 5, 5],\n",
       "       [6, 6, 6]])"
      ]
     },
     "execution_count": 6,
     "metadata": {},
     "output_type": "execute_result"
    }
   ],
   "execution_count": 6
  },
  {
   "metadata": {
    "ExecuteTime": {
     "end_time": "2025-02-26T10:35:22.952118Z",
     "start_time": "2025-02-26T10:35:22.949676Z"
    }
   },
   "cell_type": "code",
   "source": [
    "print(np.concatenate((array42, array43), axis=0))\n",
    "print(np.concatenate((array42, array43), axis=1))"
   ],
   "id": "dc8c08e80c029be1",
   "outputs": [
    {
     "name": "stdout",
     "output_type": "stream",
     "text": [
      "[[1 1 1]\n",
      " [2 2 2]\n",
      " [3 3 3]\n",
      " [4 4 4]\n",
      " [5 5 5]\n",
      " [6 6 6]]\n",
      "[[1 1 1 4 4 4]\n",
      " [2 2 2 5 5 5]\n",
      " [3 3 3 6 6 6]]\n"
     ]
    }
   ],
   "execution_count": 9
  }
 ],
 "metadata": {
  "kernelspec": {
   "display_name": "Python 3",
   "language": "python",
   "name": "python3"
  },
  "language_info": {
   "codemirror_mode": {
    "name": "ipython",
    "version": 2
   },
   "file_extension": ".py",
   "mimetype": "text/x-python",
   "name": "python",
   "nbconvert_exporter": "python",
   "pygments_lexer": "ipython2",
   "version": "2.7.6"
  }
 },
 "nbformat": 4,
 "nbformat_minor": 5
}
