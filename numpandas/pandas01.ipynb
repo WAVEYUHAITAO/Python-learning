{
 "cells": [
  {
   "cell_type": "code",
   "id": "initial_id",
   "metadata": {
    "collapsed": true,
    "ExecuteTime": {
     "end_time": "2025-03-01T23:55:44.206455Z",
     "start_time": "2025-03-01T23:55:43.896177Z"
    }
   },
   "source": [
    "import pandas as pd\n",
    "\n",
    "#Pandas的应用-1\n",
    "#Pandas核心的数据类型是Series（数据系列）、DataFrame（数据表/数据框），分别用于处理一维和二维的数据，除此之外还有一个名为Index的类型及其子类型，它为Series和DataFrame提供了索引功能。日常工作中以DataFrame使用最为广泛，因为二维的数据本质就是一个有行有列的表格（想一想Excel电子表格和关系型数据库中的二维表）。上述这些类型都提供了大量的处理数据的方法，数据分析师可以以此为基础实现对数据的各种常规处理。\n",
    "\n",
    "#方法一：通过列表或数组创建Series对象\n",
    "ser1 = pd.Series(data=[320, 100, 300, 340], index=['一季度', '二季度', '三季度', '四季度'])\n",
    "ser1"
   ],
   "outputs": [
    {
     "data": {
      "text/plain": [
       "一季度    320\n",
       "二季度    100\n",
       "三季度    300\n",
       "四季度    340\n",
       "dtype: int64"
      ]
     },
     "execution_count": 2,
     "metadata": {},
     "output_type": "execute_result"
    }
   ],
   "execution_count": 2
  },
  {
   "metadata": {
    "ExecuteTime": {
     "end_time": "2025-03-01T23:55:50.121854Z",
     "start_time": "2025-03-01T23:55:50.107643Z"
    }
   },
   "cell_type": "code",
   "source": [
    "#方法二：通过字典创建Series对象\n",
    "# 字典中的键就是数据的索引（标签），字典中的值就是数据\n",
    "ser2 = pd.Series({'一季度': 320, '二季度': 180, '三季度': 300, '四季度': 405})\n",
    "ser2"
   ],
   "id": "81378ee6b0e2662",
   "outputs": [
    {
     "data": {
      "text/plain": [
       "一季度    320\n",
       "二季度    180\n",
       "三季度    300\n",
       "四季度    405\n",
       "dtype: int64"
      ]
     },
     "execution_count": 4,
     "metadata": {},
     "output_type": "execute_result"
    }
   ],
   "execution_count": 4
  },
  {
   "metadata": {
    "ExecuteTime": {
     "end_time": "2025-03-01T23:56:23.994143Z",
     "start_time": "2025-03-01T23:56:23.980081Z"
    }
   },
   "cell_type": "code",
   "source": [
    "#使用整数索引\n",
    "print(ser2.iloc[0], ser2.iloc[1], ser2.iloc[2], ser2.iloc[3])\n",
    "ser2.iloc[0], ser2.iloc[3] = 350, 360\n",
    "print(ser2)"
   ],
   "id": "553099bd5d2906da",
   "outputs": [
    {
     "name": "stdout",
     "output_type": "stream",
     "text": [
      "350 180 300 360\n",
      "一季度    350\n",
      "二季度    180\n",
      "三季度    300\n",
      "四季度    360\n",
      "dtype: int64\n"
     ]
    }
   ],
   "execution_count": 6
  },
  {
   "metadata": {
    "ExecuteTime": {
     "end_time": "2025-02-28T02:08:11.041270Z",
     "start_time": "2025-02-28T02:08:11.034293Z"
    }
   },
   "cell_type": "code",
   "source": [
    "#使用自定义的标签索引\n",
    "print(ser2['一季度'], ser2['三季度'])\n",
    "ser2['一季度'] = 380\n",
    "print(ser2)"
   ],
   "id": "718f91a2327b3e01",
   "outputs": [
    {
     "name": "stdout",
     "output_type": "stream",
     "text": [
      "350 300\n",
      "一季度    380\n",
      "二季度    180\n",
      "三季度    300\n",
      "四季度    360\n",
      "dtype: int64\n"
     ]
    }
   ],
   "execution_count": 5
  },
  {
   "metadata": {
    "ExecuteTime": {
     "end_time": "2025-02-28T02:08:36.031952Z",
     "start_time": "2025-02-28T02:08:36.024975Z"
    }
   },
   "cell_type": "code",
   "source": [
    "#切片操作\n",
    "print(ser2[1:3])\n",
    "print(ser2['二季度':'四季度'])"
   ],
   "id": "6777b3d2c53efa2c",
   "outputs": [
    {
     "name": "stdout",
     "output_type": "stream",
     "text": [
      "二季度    180\n",
      "三季度    300\n",
      "dtype: int64\n",
      "二季度    180\n",
      "三季度    300\n",
      "四季度    360\n",
      "dtype: int64\n"
     ]
    }
   ],
   "execution_count": 6
  },
  {
   "metadata": {
    "ExecuteTime": {
     "end_time": "2025-02-28T03:12:05.190Z",
     "start_time": "2025-02-28T03:12:05.183024Z"
    }
   },
   "cell_type": "code",
   "source": [
    "ser2[1:3] = 400, 500\n",
    "ser2"
   ],
   "id": "80047eb1a287b932",
   "outputs": [
    {
     "data": {
      "text/plain": [
       "一季度    380\n",
       "二季度    400\n",
       "三季度    500\n",
       "四季度    360\n",
       "dtype: int64"
      ]
     },
     "execution_count": 7,
     "metadata": {},
     "output_type": "execute_result"
    }
   ],
   "execution_count": 7
  },
  {
   "metadata": {
    "ExecuteTime": {
     "end_time": "2025-02-28T03:14:07.787411Z",
     "start_time": "2025-02-28T03:14:07.769471Z"
    }
   },
   "cell_type": "code",
   "source": [
    "#花式索引\n",
    "print(ser2[['二季度', '四季度']])\n",
    "ser2[['二季度', '四季度']] = 500, 520\n",
    "print(ser2)"
   ],
   "id": "cbbb1c84508efa6b",
   "outputs": [
    {
     "name": "stdout",
     "output_type": "stream",
     "text": [
      "二季度    500\n",
      "四季度    520\n",
      "dtype: int64\n",
      "一季度    380\n",
      "二季度    500\n",
      "三季度    500\n",
      "四季度    520\n",
      "dtype: int64\n"
     ]
    }
   ],
   "execution_count": 11
  },
  {
   "metadata": {
    "ExecuteTime": {
     "end_time": "2025-02-28T03:17:15.599496Z",
     "start_time": "2025-02-28T03:17:15.584439Z"
    }
   },
   "cell_type": "code",
   "source": [
    "#布尔索引\n",
    "ser2[ser2 >= 500]"
   ],
   "id": "87bd87d1c3a5bf28",
   "outputs": [
    {
     "data": {
      "text/plain": [
       "二季度    500\n",
       "三季度    500\n",
       "四季度    520\n",
       "dtype: int64"
      ]
     },
     "execution_count": 12,
     "metadata": {},
     "output_type": "execute_result"
    }
   ],
   "execution_count": 12
  },
  {
   "metadata": {
    "ExecuteTime": {
     "end_time": "2025-02-28T03:27:13.121112Z",
     "start_time": "2025-02-28T03:27:13.111616Z"
    }
   },
   "cell_type": "code",
   "source": [
    "# 求和\n",
    "print(ser2.sum())\n",
    "# 求均值\n",
    "print(ser2.mean())\n",
    "# 求最大\n",
    "print(ser2.max())\n",
    "# 求最小\n",
    "print(ser2.min())\n",
    "# 计数\n",
    "print(ser2.count())\n",
    "# 求标准差\n",
    "print(ser2.std())\n",
    "# 求方差\n",
    "print(ser2.var())\n",
    "# 求中位数\n",
    "print(ser2.median())"
   ],
   "id": "abac77c622555f50",
   "outputs": [
    {
     "name": "stdout",
     "output_type": "stream",
     "text": [
      "1900\n",
      "475.0\n",
      "520\n",
      "380\n",
      "4\n",
      "64.03124237432849\n",
      "4100.0\n",
      "500.0\n"
     ]
    }
   ],
   "execution_count": 17
  },
  {
   "metadata": {
    "ExecuteTime": {
     "end_time": "2025-02-28T03:32:29.091726Z",
     "start_time": "2025-02-28T03:32:29.085746Z"
    }
   },
   "cell_type": "code",
   "source": [
    "#Series对象还有一个名为describe()的方法，可以获得上述所有的描述性统计信息，如下所示。\n",
    "print(ser2.describe())\n",
    "ser2.describe()['mean']  #因为describe()返回的也是一个Series对象，所以也可以用ser2.describe()['mean']来获取平均值。"
   ],
   "id": "e87799a40f2e2ad1",
   "outputs": [
    {
     "name": "stdout",
     "output_type": "stream",
     "text": [
      "count      4.000000\n",
      "mean     475.000000\n",
      "std       64.031242\n",
      "min      380.000000\n",
      "25%      470.000000\n",
      "50%      500.000000\n",
      "75%      505.000000\n",
      "max      520.000000\n",
      "dtype: float64\n"
     ]
    },
    {
     "data": {
      "text/plain": [
       "475.0"
      ]
     },
     "execution_count": 31,
     "metadata": {},
     "output_type": "execute_result"
    }
   ],
   "execution_count": 31
  },
  {
   "metadata": {
    "ExecuteTime": {
     "end_time": "2025-02-28T03:39:23.751104Z",
     "start_time": "2025-02-28T03:39:23.736338Z"
    }
   },
   "cell_type": "code",
   "source": [
    "ser3 = pd.Series(data=['apple', 'banana', 'apple', 'pitaya', 'apple', 'pitaya', 'durian'])\n",
    "ser3.value_counts()"
   ],
   "id": "ad75d86b3ce81353",
   "outputs": [
    {
     "data": {
      "text/plain": [
       "apple     3\n",
       "pitaya    2\n",
       "banana    1\n",
       "durian    1\n",
       "Name: count, dtype: int64"
      ]
     },
     "execution_count": 41,
     "metadata": {},
     "output_type": "execute_result"
    }
   ],
   "execution_count": 41
  },
  {
   "metadata": {
    "ExecuteTime": {
     "end_time": "2025-02-28T03:34:48.757966Z",
     "start_time": "2025-02-28T03:34:48.745715Z"
    }
   },
   "cell_type": "code",
   "source": "ser3.unique()  #我们可以使用unique()方法获得去重之后的Series对象",
   "id": "536da601248a6e43",
   "outputs": [
    {
     "data": {
      "text/plain": [
       "array(['apple', 'banana', 'pitaya', 'durian'], dtype=object)"
      ]
     },
     "execution_count": 34,
     "metadata": {},
     "output_type": "execute_result"
    }
   ],
   "execution_count": 34
  },
  {
   "metadata": {
    "ExecuteTime": {
     "end_time": "2025-02-28T03:35:09.999599Z",
     "start_time": "2025-02-28T03:35:09.983652Z"
    }
   },
   "cell_type": "code",
   "source": "ser3.nunique()  #可以使用nunique()方法统计不重复值的数量",
   "id": "87dc00ac4ea56b35",
   "outputs": [
    {
     "data": {
      "text/plain": [
       "4"
      ]
     },
     "execution_count": 35,
     "metadata": {},
     "output_type": "execute_result"
    }
   ],
   "execution_count": 35
  },
  {
   "metadata": {
    "ExecuteTime": {
     "end_time": "2025-02-28T03:36:49.931968Z",
     "start_time": "2025-02-28T03:36:49.913459Z"
    }
   },
   "cell_type": "code",
   "source": [
    "#Series对象的isnull()和notnull()方法可以用于空值的判断，代码如下所示。\n",
    "import numpy as np\n",
    "\n",
    "ser4 = pd.Series(data=[10, 20, np.NaN, 30, np.NaN])\n",
    "ser4.isnull()"
   ],
   "id": "91772c1601f89e91",
   "outputs": [
    {
     "data": {
      "text/plain": [
       "0    False\n",
       "1    False\n",
       "2     True\n",
       "3    False\n",
       "4     True\n",
       "dtype: bool"
      ]
     },
     "execution_count": 37,
     "metadata": {},
     "output_type": "execute_result"
    }
   ],
   "execution_count": 37
  },
  {
   "metadata": {
    "ExecuteTime": {
     "end_time": "2025-02-28T03:37:14.486483Z",
     "start_time": "2025-02-28T03:37:14.481500Z"
    }
   },
   "cell_type": "code",
   "source": "ser4.notnull()",
   "id": "c81e34dd7783bc22",
   "outputs": [
    {
     "data": {
      "text/plain": [
       "0     True\n",
       "1     True\n",
       "2    False\n",
       "3     True\n",
       "4    False\n",
       "dtype: bool"
      ]
     },
     "execution_count": 38,
     "metadata": {},
     "output_type": "execute_result"
    }
   ],
   "execution_count": 38
  },
  {
   "metadata": {},
   "cell_type": "code",
   "outputs": [],
   "execution_count": null,
   "source": "#Series对象的dropna()和fillna()方法分别用来删除空值和填充空值，具体的用法如下所示。",
   "id": "c633881f2362e0f0"
  },
  {
   "metadata": {
    "ExecuteTime": {
     "end_time": "2025-02-28T03:38:13.408149Z",
     "start_time": "2025-02-28T03:38:13.390208Z"
    }
   },
   "cell_type": "code",
   "source": [
    "#需要提醒大家注意的是，dropna()和fillna()方法都有一个名为inplace的参数，它的默认值是False，表示删除空值或填充空值不会修改原来的Series对象，而是返回一个新的Series对象来表示删除或填充空值后的数据系列，如果将inplace参数的值修改为True，那么删除或填充空值会就地操作，直接修改原来的Series对象，那么方法的返回值是None。后面我们会接触到的很多方法，包括DataFrame对象的很多方法都会有这个参数，它们的意义跟这里是一样的。\n",
    "ser4.dropna(inplace=True)"
   ],
   "id": "927be01f514d117b",
   "outputs": [
    {
     "data": {
      "text/plain": [
       "0    10.0\n",
       "1    20.0\n",
       "3    30.0\n",
       "dtype: float64"
      ]
     },
     "execution_count": 39,
     "metadata": {},
     "output_type": "execute_result"
    }
   ],
   "execution_count": 39
  },
  {
   "metadata": {
    "ExecuteTime": {
     "end_time": "2025-02-28T03:40:31.194936Z",
     "start_time": "2025-02-28T03:40:31.187744Z"
    }
   },
   "cell_type": "code",
   "source": "ser4.fillna(40)",
   "id": "dca1354208a9495c",
   "outputs": [
    {
     "data": {
      "text/plain": [
       "0    10.0\n",
       "1    20.0\n",
       "2    40.0\n",
       "3    30.0\n",
       "4    40.0\n",
       "dtype: float64"
      ]
     },
     "execution_count": 42,
     "metadata": {},
     "output_type": "execute_result"
    }
   ],
   "execution_count": 42
  },
  {
   "metadata": {
    "ExecuteTime": {
     "end_time": "2025-02-28T03:45:56.143318Z",
     "start_time": "2025-02-28T03:45:56.131790Z"
    }
   },
   "cell_type": "code",
   "source": [
    "# backfill或bfill表示用后一个元素的值填充空值\n",
    "# ffill或pad表示用前一个元素的值填充空值\n",
    "ser4.ffill()\n",
    "ser4.bfill()"
   ],
   "id": "ba2f924febec147e",
   "outputs": [
    {
     "data": {
      "text/plain": [
       "0    10.0\n",
       "1    20.0\n",
       "2    30.0\n",
       "3    30.0\n",
       "4     NaN\n",
       "dtype: float64"
      ]
     },
     "execution_count": 50,
     "metadata": {},
     "output_type": "execute_result"
    }
   ],
   "execution_count": 50
  },
  {
   "metadata": {
    "ExecuteTime": {
     "end_time": "2025-02-28T11:01:56.381951Z",
     "start_time": "2025-02-28T11:01:56.379326Z"
    }
   },
   "cell_type": "code",
   "source": [
    "#Series对象的mask()和where()方法可以将满足或不满足条件的值进行替换，如下所示。\n",
    "import pandas as pd\n",
    "\n",
    "ser5 = pd.Series(range(5))\n",
    "print(ser5.where(ser5 > 0))\n",
    "print(ser5)"
   ],
   "id": "c257c8117cf8b652",
   "outputs": [
    {
     "name": "stdout",
     "output_type": "stream",
     "text": [
      "0    NaN\n",
      "1    1.0\n",
      "2    2.0\n",
      "3    3.0\n",
      "4    4.0\n",
      "dtype: float64\n",
      "0    0\n",
      "1    1\n",
      "2    2\n",
      "3    3\n",
      "4    4\n",
      "dtype: int64\n"
     ]
    }
   ],
   "execution_count": 33
  },
  {
   "metadata": {
    "ExecuteTime": {
     "end_time": "2025-02-28T11:04:15.609826Z",
     "start_time": "2025-02-28T11:04:15.602114Z"
    }
   },
   "cell_type": "code",
   "source": [
    "#where方法ser5的取值范围的反方向用第二个参数的值覆盖\n",
    "print(ser5.where(ser5 > 1, 10))\n",
    "print(ser5)"
   ],
   "id": "fa8ebfc458d242ad",
   "outputs": [
    {
     "name": "stdout",
     "output_type": "stream",
     "text": [
      "0    10\n",
      "1    10\n",
      "2     2\n",
      "3     3\n",
      "4     4\n",
      "dtype: int64\n",
      "0    0\n",
      "1    1\n",
      "2    2\n",
      "3    3\n",
      "4    4\n",
      "dtype: int64\n"
     ]
    }
   ],
   "execution_count": 38
  },
  {
   "metadata": {
    "ExecuteTime": {
     "end_time": "2025-02-28T11:04:18.796668Z",
     "start_time": "2025-02-28T11:04:18.786702Z"
    }
   },
   "cell_type": "code",
   "source": [
    "#mask方法ser5的取值范围用第二个参数的值覆盖\n",
    "ser5.mask(ser5 > 1, 10)"
   ],
   "id": "845faed7de7346ff",
   "outputs": [
    {
     "data": {
      "text/plain": [
       "0     0\n",
       "1     1\n",
       "2    10\n",
       "3    10\n",
       "4    10\n",
       "dtype: int64"
      ]
     },
     "execution_count": 39,
     "metadata": {},
     "output_type": "execute_result"
    }
   ],
   "execution_count": 39
  },
  {
   "metadata": {
    "ExecuteTime": {
     "end_time": "2025-02-28T11:08:08.859636Z",
     "start_time": "2025-02-28T11:08:08.840792Z"
    }
   },
   "cell_type": "code",
   "source": [
    "#Series对象的duplicated()方法可以帮助我们找出重复的数据，而drop_duplicates()方法可以帮我们删除重复数据。\n",
    "ser6 = pd.Series(data=[10, 14, 14, 15, 15], index=['a', 'b', 'c', 'd', 'e'])\n",
    "ser6.duplicated()"
   ],
   "id": "93c4b82a983dd9b",
   "outputs": [
    {
     "data": {
      "text/plain": [
       "a    False\n",
       "b    False\n",
       "c     True\n",
       "d    False\n",
       "e     True\n",
       "dtype: bool"
      ]
     },
     "execution_count": 44,
     "metadata": {},
     "output_type": "execute_result"
    }
   ],
   "execution_count": 44
  },
  {
   "metadata": {
    "ExecuteTime": {
     "end_time": "2025-02-28T11:08:37.387575Z",
     "start_time": "2025-02-28T11:08:37.382230Z"
    }
   },
   "cell_type": "code",
   "source": [
    "#drop_duplicates()方法可以帮我们删除重复数据。\n",
    "ser6 = pd.Series(data=[10, 14, 14, 15, 15], index=['a', 'b', 'c', 'd', 'e'])\n",
    "ser6.drop_duplicates()"
   ],
   "id": "d39887e93838487",
   "outputs": [
    {
     "data": {
      "text/plain": [
       "a    10\n",
       "b    14\n",
       "d    15\n",
       "dtype: int64"
      ]
     },
     "execution_count": 45,
     "metadata": {},
     "output_type": "execute_result"
    }
   ],
   "execution_count": 45
  },
  {
   "metadata": {
    "ExecuteTime": {
     "end_time": "2025-02-28T11:32:08.784841Z",
     "start_time": "2025-02-28T11:32:08.770887Z"
    }
   },
   "cell_type": "code",
   "source": [
    "import numpy as np\n",
    "\n",
    "ser6 = pd.Series(['cat', 'dog', np.nan, 'rabbit'])\n",
    "ser6"
   ],
   "id": "8096226353b16206",
   "outputs": [
    {
     "data": {
      "text/plain": [
       "0       cat\n",
       "1       dog\n",
       "2       NaN\n",
       "3    rabbit\n",
       "dtype: object"
      ]
     },
     "execution_count": 47,
     "metadata": {},
     "output_type": "execute_result"
    }
   ],
   "execution_count": 47
  },
  {
   "metadata": {
    "ExecuteTime": {
     "end_time": "2025-03-01T05:32:51.438817Z",
     "start_time": "2025-03-01T05:32:51.427853Z"
    }
   },
   "cell_type": "code",
   "source": [
    "import pandas as pd\n",
    "\n",
    "#在这个例子中，我们将一个名为 \"数量\" 的 Series 添加到一个 DataFrame 中，Series 的名称自动成为 DataFrame 的列名。\n",
    "s = pd.Series([1, 2, 3], name='数量')\n",
    "df = pd.DataFrame(s)\n",
    "df"
   ],
   "id": "284606c4b11f856",
   "outputs": [
    {
     "data": {
      "text/plain": [
       "   数量\n",
       "0   1\n",
       "1   2\n",
       "2   3"
      ],
      "text/html": [
       "<div>\n",
       "<style scoped>\n",
       "    .dataframe tbody tr th:only-of-type {\n",
       "        vertical-align: middle;\n",
       "    }\n",
       "\n",
       "    .dataframe tbody tr th {\n",
       "        vertical-align: top;\n",
       "    }\n",
       "\n",
       "    .dataframe thead th {\n",
       "        text-align: right;\n",
       "    }\n",
       "</style>\n",
       "<table border=\"1\" class=\"dataframe\">\n",
       "  <thead>\n",
       "    <tr style=\"text-align: right;\">\n",
       "      <th></th>\n",
       "      <th>数量</th>\n",
       "    </tr>\n",
       "  </thead>\n",
       "  <tbody>\n",
       "    <tr>\n",
       "      <th>0</th>\n",
       "      <td>1</td>\n",
       "    </tr>\n",
       "    <tr>\n",
       "      <th>1</th>\n",
       "      <td>2</td>\n",
       "    </tr>\n",
       "    <tr>\n",
       "      <th>2</th>\n",
       "      <td>3</td>\n",
       "    </tr>\n",
       "  </tbody>\n",
       "</table>\n",
       "</div>"
      ]
     },
     "execution_count": 7,
     "metadata": {},
     "output_type": "execute_result"
    }
   ],
   "execution_count": 7
  },
  {
   "metadata": {
    "ExecuteTime": {
     "end_time": "2025-03-01T05:54:44.001514Z",
     "start_time": "2025-03-01T05:54:43.982578Z"
    }
   },
   "cell_type": "code",
   "source": [
    "#Series对象的apply()和map()方法非常重要，它们可以用于数据处理，把数据映射或转换成我们期望的样子，这个操作在数据分析的数据准备阶段非常重要。\n",
    "import numpy as np\n",
    "import pandas as pd\n",
    "\n",
    "ser6 = pd.Series(['cat', 'dog', np.nan, 'rabbit'], name='hello')\n",
    "ser6"
   ],
   "id": "8eccb66e289dedf5",
   "outputs": [
    {
     "data": {
      "text/plain": [
       "0       cat\n",
       "1       dog\n",
       "2       NaN\n",
       "3    rabbit\n",
       "Name: hello, dtype: object"
      ]
     },
     "execution_count": 33,
     "metadata": {},
     "output_type": "execute_result"
    }
   ],
   "execution_count": 33
  },
  {
   "metadata": {
    "ExecuteTime": {
     "end_time": "2025-03-01T05:55:44.602034Z",
     "start_time": "2025-03-01T05:55:44.598218Z"
    }
   },
   "cell_type": "code",
   "source": "ser6.map({'cat': 'kitten', 'dog': 'puppy'})",
   "id": "15be33fc2d92fba0",
   "outputs": [
    {
     "data": {
      "text/plain": [
       "0    kitten\n",
       "1     puppy\n",
       "2       NaN\n",
       "3       NaN\n",
       "Name: hello, dtype: object"
      ]
     },
     "execution_count": 38,
     "metadata": {},
     "output_type": "execute_result"
    }
   ],
   "execution_count": 38
  },
  {
   "metadata": {
    "ExecuteTime": {
     "end_time": "2025-03-01T05:55:53.654830Z",
     "start_time": "2025-03-01T05:55:53.648887Z"
    }
   },
   "cell_type": "code",
   "source": "ser6.map('I am a {}'.format, na_action='ignore')",
   "id": "21d6d320a6f017fd",
   "outputs": [
    {
     "data": {
      "text/plain": [
       "0       I am a cat\n",
       "1       I am a dog\n",
       "2              NaN\n",
       "3    I am a rabbit\n",
       "Name: hello, dtype: object"
      ]
     },
     "execution_count": 40,
     "metadata": {},
     "output_type": "execute_result"
    }
   ],
   "execution_count": 40
  },
  {
   "metadata": {
    "ExecuteTime": {
     "end_time": "2025-03-01T05:52:52.199806Z",
     "start_time": "2025-03-01T05:52:52.182862Z"
    }
   },
   "cell_type": "code",
   "source": [
    "ser7 = pd.Series([20, 21, 12], index=['London', 'New York', 'Helsinki'])\n",
    "ser7"
   ],
   "id": "6d2019c3473a9bf1",
   "outputs": [
    {
     "data": {
      "text/plain": [
       "London      20\n",
       "New York    21\n",
       "Helsinki    12\n",
       "dtype: int64"
      ]
     },
     "execution_count": 20,
     "metadata": {},
     "output_type": "execute_result"
    }
   ],
   "execution_count": 20
  },
  {
   "metadata": {
    "ExecuteTime": {
     "end_time": "2025-03-01T05:53:44.809210Z",
     "start_time": "2025-03-01T05:53:44.791270Z"
    }
   },
   "cell_type": "code",
   "source": "ser7.apply(lambda x: x ** 2)",
   "id": "6318ad7a27b18edc",
   "outputs": [
    {
     "data": {
      "text/plain": [
       "London      400\n",
       "New York    441\n",
       "Helsinki    144\n",
       "dtype: int64"
      ]
     },
     "execution_count": 25,
     "metadata": {},
     "output_type": "execute_result"
    }
   ],
   "execution_count": 25
  },
  {
   "metadata": {
    "ExecuteTime": {
     "end_time": "2025-03-01T06:02:20.766449Z",
     "start_time": "2025-03-01T06:02:20.749512Z"
    }
   },
   "cell_type": "code",
   "source": "ser7.apply(lambda x, value: x - value, args=(6,))",
   "id": "cefaddd7262005e1",
   "outputs": [
    {
     "data": {
      "text/plain": [
       "London      14\n",
       "New York    15\n",
       "Helsinki     6\n",
       "dtype: int64"
      ]
     },
     "execution_count": 42,
     "metadata": {},
     "output_type": "execute_result"
    }
   ],
   "execution_count": 42
  },
  {
   "metadata": {
    "ExecuteTime": {
     "end_time": "2025-03-01T06:09:00.821284Z",
     "start_time": "2025-03-01T06:09:00.817297Z"
    }
   },
   "cell_type": "code",
   "source": [
    "def add_custom_values(x, **kwargs):\n",
    "    for month in kwargs:\n",
    "        x += kwargs[month]\n",
    "    return x\n",
    "\n",
    "\n",
    "ser7.apply(add_custom_values, june=30, july=20, august=25)"
   ],
   "id": "2eb1ad8e0d45ab1d",
   "outputs": [
    {
     "data": {
      "text/plain": [
       "London      95\n",
       "New York    96\n",
       "Helsinki    87\n",
       "dtype: int64"
      ]
     },
     "execution_count": 45,
     "metadata": {},
     "output_type": "execute_result"
    }
   ],
   "execution_count": 45
  },
  {
   "metadata": {
    "ExecuteTime": {
     "end_time": "2025-03-01T06:24:08.876034Z",
     "start_time": "2025-03-01T06:24:08.868370Z"
    }
   },
   "cell_type": "code",
   "source": [
    "#排序和取头部值的方法\n",
    "#Series对象的sort_index()和sort_values()方法可以用于对索引和数据的排序，排序方法有一个名为ascending的布尔类型参数，该参数用于控制排序的结果是升序还是降序；而名为kind的参数则用来控制排序使用的算法，默认使用了quicksort，也可以选择mergesort或heapsort；如果存在空值，那么可以用na_position参数空值放在最前还是最后，默认是last，代码如下所示。\n",
    "ser8 = pd.Series(\n",
    "    data=[35, 96, 12, 57, 25, 89],\n",
    "    index=['grape', 'banana', 'pitaya', 'apple', 'peach', 'orange']\n",
    ")\n",
    "# 按值从小到大排序\n",
    "ser8.sort_values()  #ascending=False反向排序"
   ],
   "id": "16385099cfbcd8e0",
   "outputs": [
    {
     "data": {
      "text/plain": [
       "banana    96\n",
       "orange    89\n",
       "apple     57\n",
       "grape     35\n",
       "peach     25\n",
       "pitaya    12\n",
       "dtype: int64"
      ]
     },
     "execution_count": 49,
     "metadata": {},
     "output_type": "execute_result"
    }
   ],
   "execution_count": 49
  },
  {
   "metadata": {
    "ExecuteTime": {
     "end_time": "2025-03-01T06:25:05.776983Z",
     "start_time": "2025-03-01T06:25:05.765181Z"
    }
   },
   "cell_type": "code",
   "source": "ser8.sort_index(ascending=False)  #ascending=False反向排序",
   "id": "c5a5523bb02e0160",
   "outputs": [
    {
     "data": {
      "text/plain": [
       "pitaya    12\n",
       "peach     25\n",
       "orange    89\n",
       "grape     35\n",
       "banana    96\n",
       "apple     57\n",
       "dtype: int64"
      ]
     },
     "execution_count": 52,
     "metadata": {},
     "output_type": "execute_result"
    }
   ],
   "execution_count": 52
  },
  {
   "metadata": {
    "ExecuteTime": {
     "end_time": "2025-03-01T06:26:38.698693Z",
     "start_time": "2025-03-01T06:26:38.691963Z"
    }
   },
   "cell_type": "code",
   "source": "ser8.describe()",
   "id": "e54f56a5a6c60e09",
   "outputs": [
    {
     "data": {
      "text/plain": [
       "count     6.000000\n",
       "mean     52.333333\n",
       "std      34.488645\n",
       "min      12.000000\n",
       "25%      27.500000\n",
       "50%      46.000000\n",
       "75%      81.000000\n",
       "max      96.000000\n",
       "dtype: float64"
      ]
     },
     "execution_count": 57,
     "metadata": {},
     "output_type": "execute_result"
    }
   ],
   "execution_count": 57
  },
  {
   "metadata": {
    "ExecuteTime": {
     "end_time": "2025-03-01T08:34:27.290047Z",
     "start_time": "2025-03-01T08:34:27.272107Z"
    }
   },
   "cell_type": "code",
   "source": "ser8.nlargest(3)",
   "id": "8c14031a653015df",
   "outputs": [
    {
     "data": {
      "text/plain": [
       "banana    96\n",
       "orange    89\n",
       "apple     57\n",
       "dtype: int64"
      ]
     },
     "execution_count": 58,
     "metadata": {},
     "output_type": "execute_result"
    }
   ],
   "execution_count": 58
  },
  {
   "metadata": {
    "ExecuteTime": {
     "end_time": "2025-03-01T08:34:34.573638Z",
     "start_time": "2025-03-01T08:34:34.554701Z"
    }
   },
   "cell_type": "code",
   "source": "ser8.nsmallest(3)",
   "id": "b9f316b19610979c",
   "outputs": [
    {
     "data": {
      "text/plain": [
       "pitaya    12\n",
       "peach     25\n",
       "grape     35\n",
       "dtype: int64"
      ]
     },
     "execution_count": 59,
     "metadata": {},
     "output_type": "execute_result"
    }
   ],
   "execution_count": 59
  },
  {
   "metadata": {
    "ExecuteTime": {
     "end_time": "2025-03-01T09:14:43.911284Z",
     "start_time": "2025-03-01T09:14:43.859458Z"
    }
   },
   "cell_type": "code",
   "source": [
    "#绘制图表\n",
    "#Series对象有一个名为plot的方法可以用来生成图表，如果选择生成折线图、饼图、柱状图等，默认会使用Series对象的索引作为横坐标，使用Series对象的数据作为纵坐标。\n",
    "import matplotlib.pyplot as plt\n",
    "\n",
    "# 配置支持中文的非衬线字体（默认的字体无法显示中文）\n",
    "plt.rcParams['font.sans-serif'] = ['SimHei', ]\n",
    "# 使用指定的中文字体时需要下面的配置来避免负号无法显示\n",
    "plt.rcParams['axes.unicode_minus'] = False\n",
    "#创建Series对象并绘制对应的柱状图。\n",
    "ser9 = pd.Series({'一季度': 400, '二季度': 520, '三季度': 180, '四季度': 380})\n",
    "# 通过Series对象的plot方法绘图（kind='bar'表示绘制柱状图）\n",
    "ser9.plot(kind='bar', color=['r', 'g', 'b', 'y'])\n",
    "# x轴的坐标旋转到0度（中文水平显示）\n",
    "plt.xticks(rotation=0)\n",
    "# 在柱状图的柱子上绘制数字\n",
    "for i in range(4):\n",
    "    plt.text(i, ser9.iloc[i] + 5, ser9.iloc[i], ha='center')  #ha=horizontalalignment\n",
    "# 显示图像\n",
    "plt.show()"
   ],
   "id": "d624a421b0e1d22c",
   "outputs": [
    {
     "data": {
      "text/plain": [
       "<Figure size 640x480 with 1 Axes>"
      ],
      "image/png": "[encoded data removed]"
     },
     "metadata": {},
     "output_type": "display_data"
    }
   ],
   "execution_count": 77
  },
  {
   "metadata": {
    "ExecuteTime": {
     "end_time": "2025-03-01T09:19:04.560572Z",
     "start_time": "2025-03-01T09:19:04.510739Z"
    }
   },
   "cell_type": "code",
   "source": [
    "#绘制反映每个季度占比的饼图\n",
    "# autopct参数可以配置在饼图上显示每块饼的占比\n",
    "ser9.plot(kind='pie', autopct='%.1f%%')\n",
    "# 设置y轴的标签（显示在饼图左侧的文字）\n",
    "plt.ylabel('各季度占比')\n",
    "plt.show()"
   ],
   "id": "5e0c544dcc07bef5",
   "outputs": [
    {
     "data": {
      "text/plain": [
       "<Figure size 640x480 with 1 Axes>"
      ],
      "image/png": "[encoded data removed]"
     },
     "metadata": {},
     "output_type": "display_data"
    }
   ],
   "execution_count": 82
  },
  {
   "metadata": {
    "ExecuteTime": {
     "end_time": "2025-03-01T09:27:30.067720Z",
     "start_time": "2025-03-01T09:27:30.058751Z"
    }
   },
   "cell_type": "code",
   "source": [
    "#Pandas的应用-2\n",
    "#DataFrame的应用\n",
    "#通过二维数组创建DataFrame对象\n",
    "scores = np.random.randint(60, 101, (5, 3))\n",
    "courses = ['语文', '数学', '英语']\n",
    "ids = [1001, 1002, 1003, 1004, 1005]\n",
    "df1 = pd.DataFrame(scores, columns=courses, index=ids)\n",
    "df1"
   ],
   "id": "355ce5ab2b761422",
   "outputs": [
    {
     "data": {
      "text/plain": [
       "      语文  数学   英语\n",
       "1001  98  65   81\n",
       "1002  94  98   88\n",
       "1003  60  76   98\n",
       "1004  62  70  100\n",
       "1005  66  75   85"
      ],
      "text/html": [
       "<div>\n",
       "<style scoped>\n",
       "    .dataframe tbody tr th:only-of-type {\n",
       "        vertical-align: middle;\n",
       "    }\n",
       "\n",
       "    .dataframe tbody tr th {\n",
       "        vertical-align: top;\n",
       "    }\n",
       "\n",
       "    .dataframe thead th {\n",
       "        text-align: right;\n",
       "    }\n",
       "</style>\n",
       "<table border=\"1\" class=\"dataframe\">\n",
       "  <thead>\n",
       "    <tr style=\"text-align: right;\">\n",
       "      <th></th>\n",
       "      <th>语文</th>\n",
       "      <th>数学</th>\n",
       "      <th>英语</th>\n",
       "    </tr>\n",
       "  </thead>\n",
       "  <tbody>\n",
       "    <tr>\n",
       "      <th>1001</th>\n",
       "      <td>98</td>\n",
       "      <td>65</td>\n",
       "      <td>81</td>\n",
       "    </tr>\n",
       "    <tr>\n",
       "      <th>1002</th>\n",
       "      <td>94</td>\n",
       "      <td>98</td>\n",
       "      <td>88</td>\n",
       "    </tr>\n",
       "    <tr>\n",
       "      <th>1003</th>\n",
       "      <td>60</td>\n",
       "      <td>76</td>\n",
       "      <td>98</td>\n",
       "    </tr>\n",
       "    <tr>\n",
       "      <th>1004</th>\n",
       "      <td>62</td>\n",
       "      <td>70</td>\n",
       "      <td>100</td>\n",
       "    </tr>\n",
       "    <tr>\n",
       "      <th>1005</th>\n",
       "      <td>66</td>\n",
       "      <td>75</td>\n",
       "      <td>85</td>\n",
       "    </tr>\n",
       "  </tbody>\n",
       "</table>\n",
       "</div>"
      ]
     },
     "execution_count": 84,
     "metadata": {},
     "output_type": "execute_result"
    }
   ],
   "execution_count": 84
  },
  {
   "metadata": {
    "ExecuteTime": {
     "end_time": "2025-03-01T09:28:00.127577Z",
     "start_time": "2025-03-01T09:28:00.119603Z"
    }
   },
   "cell_type": "code",
   "source": [
    "#通过字典创建DataFrame对象\n",
    "scores = {\n",
    "    '语文': [62, 72, 93, 88, 93],\n",
    "    '数学': [95, 65, 86, 66, 87],\n",
    "    '英语': [66, 75, 82, 69, 82],\n",
    "}\n",
    "ids = [1001, 1002, 1003, 1004, 1005]\n",
    "df2 = pd.DataFrame(data=scores, index=ids)\n",
    "df2"
   ],
   "id": "b69ea83ff20b3f2a",
   "outputs": [
    {
     "data": {
      "text/plain": [
       "      语文  数学  英语\n",
       "1001  62  95  66\n",
       "1002  72  65  75\n",
       "1003  93  86  82\n",
       "1004  88  66  69\n",
       "1005  93  87  82"
      ],
      "text/html": [
       "<div>\n",
       "<style scoped>\n",
       "    .dataframe tbody tr th:only-of-type {\n",
       "        vertical-align: middle;\n",
       "    }\n",
       "\n",
       "    .dataframe tbody tr th {\n",
       "        vertical-align: top;\n",
       "    }\n",
       "\n",
       "    .dataframe thead th {\n",
       "        text-align: right;\n",
       "    }\n",
       "</style>\n",
       "<table border=\"1\" class=\"dataframe\">\n",
       "  <thead>\n",
       "    <tr style=\"text-align: right;\">\n",
       "      <th></th>\n",
       "      <th>语文</th>\n",
       "      <th>数学</th>\n",
       "      <th>英语</th>\n",
       "    </tr>\n",
       "  </thead>\n",
       "  <tbody>\n",
       "    <tr>\n",
       "      <th>1001</th>\n",
       "      <td>62</td>\n",
       "      <td>95</td>\n",
       "      <td>66</td>\n",
       "    </tr>\n",
       "    <tr>\n",
       "      <th>1002</th>\n",
       "      <td>72</td>\n",
       "      <td>65</td>\n",
       "      <td>75</td>\n",
       "    </tr>\n",
       "    <tr>\n",
       "      <th>1003</th>\n",
       "      <td>93</td>\n",
       "      <td>86</td>\n",
       "      <td>82</td>\n",
       "    </tr>\n",
       "    <tr>\n",
       "      <th>1004</th>\n",
       "      <td>88</td>\n",
       "      <td>66</td>\n",
       "      <td>69</td>\n",
       "    </tr>\n",
       "    <tr>\n",
       "      <th>1005</th>\n",
       "      <td>93</td>\n",
       "      <td>87</td>\n",
       "      <td>82</td>\n",
       "    </tr>\n",
       "  </tbody>\n",
       "</table>\n",
       "</div>"
      ]
     },
     "execution_count": 85,
     "metadata": {},
     "output_type": "execute_result"
    }
   ],
   "execution_count": 85
  },
  {
   "metadata": {},
   "cell_type": "code",
   "outputs": [],
   "execution_count": null,
   "source": [
    "#读取 CSV 文件创建DataFrame对象\n",
    "#可以通过pandas 模块的read_csv函数来读取 CSV 文件，read_csv函数的参数非常多，下面接受几个比较重要的参数。\n",
    "#sep / delimiter：分隔符，默认是,。\n",
    "#header：表头（列索引）的位置，默认值是infer，用第一行的内容作为表头（列索引）。\n",
    "#index_col：用作行索引（标签）的列。\n",
    "#usecols：需要加载的列，可以使用序号或者列名。\n",
    "#true_values / false_values：哪些值被视为布尔值True / False。\n",
    "#skiprows：通过行号、索引或函数指定需要跳过的行。\n",
    "#skipfooter：要跳过的末尾行数。\n",
    "#nrows：需要读取的行数。\n",
    "#na_values：哪些值被视为空值。\n"
   ],
   "id": "6f3c0e857999d426"
  },
  {
   "metadata": {},
   "cell_type": "code",
   "outputs": [],
   "execution_count": null,
   "source": [
    "#读取Excel文件创建DataFrame对象\n",
    "#可以通过pandas 模块的read_excel函数来读取 Exce l文件，该函数与上面的read_csv非常相近，多了一个sheet_name参数来指定数据表的名称，但是不同于 CSV 文件，没有sep或delimiter这样的参数。下面的代码中，read_excel函数的skiprows参数是一个 Lambda 函数，通过该 Lambda 函数指定只读取 Excel 文件的表头和其中10%的数据，跳过其他的数据。\n",
    "import random\n",
    "\n",
    "df4 = pd.read_excel(\n",
    "    io='小宝剑大药房2018年销售数据.xlsx',\n",
    "    usecols=['购药时间', '社保卡号', '商品名称', '销售数量', '应收金额', '实收金额'],\n",
    "    skiprows=lambda x: x > 0 and random.random() > 0.1\n",
    ")\n",
    "df4"
   ],
   "id": "f12afa32aacb85c9"
  },
  {
   "metadata": {
    "ExecuteTime": {
     "end_time": "2025-03-01T09:38:10.838539Z",
     "start_time": "2025-03-01T09:38:00.692479Z"
    }
   },
   "cell_type": "code",
   "source": [
    "#通过SQL从数据库读取数据创建DataFrame对象\n",
    "#pandas模块的read_sql函数可以通过 SQL 语句从数据库中读取数据创建DataFrame对象，该函数的第二个参数代表了需要连接的数据库。对于 MySQL 数据库，我们可以通过pymysql或mysqlclient来创建数据库连接，得到一个Connection 对象，而这个对象就是read_sql函数需要的第二个参数，代码如下所示。\n",
    "import pymysql\n",
    "\n",
    "# 创建一个MySQL数据库的连接对象\n",
    "conn = pymysql.connect(\n",
    "    host='47.104.31.138', port=3306,\n",
    "    user='guest', password='Guest.618',\n",
    "    database='hrs', charset='utf8mb4'\n",
    ")\n",
    "# 通过SQL从数据库读取数据创建DataFrame\n",
    "df5 = pd.read_sql('select * from tb_emp', conn, index_col='eno')\n",
    "df5"
   ],
   "id": "bb9709b9887815f",
   "outputs": [
    {
     "ename": "OperationalError",
     "evalue": "(2003, \"Can't connect to MySQL server on '47.104.31.138' (timed out)\")",
     "output_type": "error",
     "traceback": [
      "\u001B[1;31m---------------------------------------------------------------------------\u001B[0m",
      "\u001B[1;31mtimeout\u001B[0m                                   Traceback (most recent call last)",
      "File \u001B[1;32mD:\\study\\ANNACONDA\\envs\\nlp\\lib\\site-packages\\pymysql\\connections.py:649\u001B[0m, in \u001B[0;36mConnection.connect\u001B[1;34m(self, sock)\u001B[0m\n\u001B[0;32m    648\u001B[0m \u001B[38;5;28;01mtry\u001B[39;00m:\n\u001B[1;32m--> 649\u001B[0m     sock \u001B[38;5;241m=\u001B[39m socket\u001B[38;5;241m.\u001B[39mcreate_connection(\n\u001B[0;32m    650\u001B[0m         (\u001B[38;5;28mself\u001B[39m\u001B[38;5;241m.\u001B[39mhost, \u001B[38;5;28mself\u001B[39m\u001B[38;5;241m.\u001B[39mport), \u001B[38;5;28mself\u001B[39m\u001B[38;5;241m.\u001B[39mconnect_timeout, \u001B[38;5;241m*\u001B[39m\u001B[38;5;241m*\u001B[39mkwargs\n\u001B[0;32m    651\u001B[0m     )\n\u001B[0;32m    652\u001B[0m     \u001B[38;5;28;01mbreak\u001B[39;00m\n",
      "File \u001B[1;32mD:\\study\\ANNACONDA\\envs\\nlp\\lib\\socket.py:844\u001B[0m, in \u001B[0;36mcreate_connection\u001B[1;34m(address, timeout, source_address)\u001B[0m\n\u001B[0;32m    843\u001B[0m \u001B[38;5;28;01mtry\u001B[39;00m:\n\u001B[1;32m--> 844\u001B[0m     \u001B[38;5;28;01mraise\u001B[39;00m err\n\u001B[0;32m    845\u001B[0m \u001B[38;5;28;01mfinally\u001B[39;00m:\n\u001B[0;32m    846\u001B[0m     \u001B[38;5;66;03m# Break explicitly a reference cycle\u001B[39;00m\n",
      "File \u001B[1;32mD:\\study\\ANNACONDA\\envs\\nlp\\lib\\socket.py:832\u001B[0m, in \u001B[0;36mcreate_connection\u001B[1;34m(address, timeout, source_address)\u001B[0m\n\u001B[0;32m    831\u001B[0m     sock\u001B[38;5;241m.\u001B[39mbind(source_address)\n\u001B[1;32m--> 832\u001B[0m \u001B[43msock\u001B[49m\u001B[38;5;241;43m.\u001B[39;49m\u001B[43mconnect\u001B[49m\u001B[43m(\u001B[49m\u001B[43msa\u001B[49m\u001B[43m)\u001B[49m\n\u001B[0;32m    833\u001B[0m \u001B[38;5;66;03m# Break explicitly a reference cycle\u001B[39;00m\n",
      "\u001B[1;31mtimeout\u001B[0m: timed out",
      "\nDuring handling of the above exception, another exception occurred:\n",
      "\u001B[1;31mOperationalError\u001B[0m                          Traceback (most recent call last)",
      "Cell \u001B[1;32mIn[86], line 5\u001B[0m\n\u001B[0;32m      3\u001B[0m \u001B[38;5;28;01mimport\u001B[39;00m \u001B[38;5;21;01mpymysql\u001B[39;00m\n\u001B[0;32m      4\u001B[0m \u001B[38;5;66;03m# 创建一个MySQL数据库的连接对象\u001B[39;00m\n\u001B[1;32m----> 5\u001B[0m conn \u001B[38;5;241m=\u001B[39m \u001B[43mpymysql\u001B[49m\u001B[38;5;241;43m.\u001B[39;49m\u001B[43mconnect\u001B[49m\u001B[43m(\u001B[49m\n\u001B[0;32m      6\u001B[0m \u001B[43m    \u001B[49m\u001B[43mhost\u001B[49m\u001B[38;5;241;43m=\u001B[39;49m\u001B[38;5;124;43m'\u001B[39;49m\u001B[38;5;124;43m47.104.31.138\u001B[39;49m\u001B[38;5;124;43m'\u001B[39;49m\u001B[43m,\u001B[49m\u001B[43m \u001B[49m\u001B[43mport\u001B[49m\u001B[38;5;241;43m=\u001B[39;49m\u001B[38;5;241;43m3306\u001B[39;49m\u001B[43m,\u001B[49m\n\u001B[0;32m      7\u001B[0m \u001B[43m    \u001B[49m\u001B[43muser\u001B[49m\u001B[38;5;241;43m=\u001B[39;49m\u001B[38;5;124;43m'\u001B[39;49m\u001B[38;5;124;43mguest\u001B[39;49m\u001B[38;5;124;43m'\u001B[39;49m\u001B[43m,\u001B[49m\u001B[43m \u001B[49m\u001B[43mpassword\u001B[49m\u001B[38;5;241;43m=\u001B[39;49m\u001B[38;5;124;43m'\u001B[39;49m\u001B[38;5;124;43mGuest.618\u001B[39;49m\u001B[38;5;124;43m'\u001B[39;49m\u001B[43m,\u001B[49m\n\u001B[0;32m      8\u001B[0m \u001B[43m    \u001B[49m\u001B[43mdatabase\u001B[49m\u001B[38;5;241;43m=\u001B[39;49m\u001B[38;5;124;43m'\u001B[39;49m\u001B[38;5;124;43mhrs\u001B[39;49m\u001B[38;5;124;43m'\u001B[39;49m\u001B[43m,\u001B[49m\u001B[43m \u001B[49m\u001B[43mcharset\u001B[49m\u001B[38;5;241;43m=\u001B[39;49m\u001B[38;5;124;43m'\u001B[39;49m\u001B[38;5;124;43mutf8mb4\u001B[39;49m\u001B[38;5;124;43m'\u001B[39;49m\n\u001B[0;32m      9\u001B[0m \u001B[43m)\u001B[49m\n\u001B[0;32m     10\u001B[0m \u001B[38;5;66;03m# 通过SQL从数据库读取数据创建DataFrame\u001B[39;00m\n\u001B[0;32m     11\u001B[0m df5 \u001B[38;5;241m=\u001B[39m pd\u001B[38;5;241m.\u001B[39mread_sql(\u001B[38;5;124m'\u001B[39m\u001B[38;5;124mselect * from tb_emp\u001B[39m\u001B[38;5;124m'\u001B[39m, conn, index_col\u001B[38;5;241m=\u001B[39m\u001B[38;5;124m'\u001B[39m\u001B[38;5;124meno\u001B[39m\u001B[38;5;124m'\u001B[39m)\n",
      "File \u001B[1;32mD:\\study\\ANNACONDA\\envs\\nlp\\lib\\site-packages\\pymysql\\connections.py:361\u001B[0m, in \u001B[0;36mConnection.__init__\u001B[1;34m(self, user, password, host, database, unix_socket, port, charset, collation, sql_mode, read_default_file, conv, use_unicode, client_flag, cursorclass, init_command, connect_timeout, read_default_group, autocommit, local_infile, max_allowed_packet, defer_connect, auth_plugin_map, read_timeout, write_timeout, bind_address, binary_prefix, program_name, server_public_key, ssl, ssl_ca, ssl_cert, ssl_disabled, ssl_key, ssl_key_password, ssl_verify_cert, ssl_verify_identity, compress, named_pipe, passwd, db)\u001B[0m\n\u001B[0;32m    359\u001B[0m     \u001B[38;5;28mself\u001B[39m\u001B[38;5;241m.\u001B[39m_sock \u001B[38;5;241m=\u001B[39m \u001B[38;5;28;01mNone\u001B[39;00m\n\u001B[0;32m    360\u001B[0m \u001B[38;5;28;01melse\u001B[39;00m:\n\u001B[1;32m--> 361\u001B[0m     \u001B[38;5;28;43mself\u001B[39;49m\u001B[38;5;241;43m.\u001B[39;49m\u001B[43mconnect\u001B[49m\u001B[43m(\u001B[49m\u001B[43m)\u001B[49m\n",
      "File \u001B[1;32mD:\\study\\ANNACONDA\\envs\\nlp\\lib\\site-packages\\pymysql\\connections.py:716\u001B[0m, in \u001B[0;36mConnection.connect\u001B[1;34m(self, sock)\u001B[0m\n\u001B[0;32m    714\u001B[0m     \u001B[38;5;28;01mif\u001B[39;00m DEBUG:\n\u001B[0;32m    715\u001B[0m         \u001B[38;5;28mprint\u001B[39m(exc\u001B[38;5;241m.\u001B[39mtraceback)\n\u001B[1;32m--> 716\u001B[0m     \u001B[38;5;28;01mraise\u001B[39;00m exc\n\u001B[0;32m    718\u001B[0m \u001B[38;5;66;03m# If e is neither DatabaseError or IOError, It's a bug.\u001B[39;00m\n\u001B[0;32m    719\u001B[0m \u001B[38;5;66;03m# But raising AssertionError hides original error.\u001B[39;00m\n\u001B[0;32m    720\u001B[0m \u001B[38;5;66;03m# So just reraise it.\u001B[39;00m\n\u001B[0;32m    721\u001B[0m \u001B[38;5;28;01mraise\u001B[39;00m\n",
      "\u001B[1;31mOperationalError\u001B[0m: (2003, \"Can't connect to MySQL server on '47.104.31.138' (timed out)\")"
     ]
    }
   ],
   "execution_count": 86
  },
  {
   "metadata": {},
   "cell_type": "code",
   "outputs": [],
   "execution_count": null,
   "source": "#，首先需要了解的是info()方法，它可以帮助我们了解DataFrame的相关信息，如下所示。",
   "id": "879cc172bb19b0d7"
  },
  {
   "metadata": {},
   "cell_type": "code",
   "outputs": [],
   "execution_count": null,
   "source": [
    "import pymysql\n",
    "\n",
    "conn = pymysql.connect(\n",
    "    host='47.104.31.138', port=3306,\n",
    "    user='guest', password='Guest.618',\n",
    "    database='hrs', charset='utf8mb4'\n",
    ")\n",
    "dept_df = pd.read_sql('select * from tb_dept', conn, index_col='dno')\n",
    "emp_df = pd.read_sql('select * from tb_emp', conn, index_col='eno')\n",
    "emp2_df = pd.read_sql('select * from tb_emp2', conn, index_col='eno')"
   ],
   "id": "816d968ab70609d2"
  },
  {
   "metadata": {},
   "cell_type": "code",
   "outputs": [],
   "execution_count": null,
   "source": "emp_df.info()\n",
   "id": "485485177900910"
  },
  {
   "metadata": {
    "ExecuteTime": {
     "end_time": "2025-03-02T01:27:46.243219Z",
     "start_time": "2025-03-02T01:27:46.216220Z"
    }
   },
   "cell_type": "code",
   "source": [
    "#异常值\n",
    "#异常值在统计学上的全称是疑似异常值，也称作离群点（outlier），异常值的分析也称作离群点分析。异常值是指样本中出现的“极端值”，数据值看起来异常大或异常小，其分布明显偏离其余的观测值。实际工作中，有些异常值可能是由系统或人为原因造成的，但有些异常值却不是，它们能够重复且稳定的出现，属于正常的极端值，例如很多游戏产品中头部玩家的数据往往都是离群的极端值。所以，我们既不能忽视异常值的存在，也不能简单地把异常值从数据分析中剔除。重视异常值的出现，分析其产生的原因，常常成为发现问题进而改进决策的契机。\n",
    "\n",
    "#异常值的检测有Z-score 方法、IQR 方法、DBScan 聚类、孤立森林等，这里我们对前两种方法做一个简单的介绍。\n",
    "import numpy as np\n",
    "\n",
    "\n",
    "def detect_outliers_zscore(data, threshold=3):\n",
    "    avg_value = np.mean(data)\n",
    "    std_value = np.std(data)\n",
    "    z_score = np.abs((data - avg_value) / std_value)\n",
    "    return data[z_score > threshold]\n",
    "\n",
    "\n",
    "array02 = np.array([-7, 10, 15, 12, 18, 20, 5, 25, 100, 250,800])\n",
    "\n",
    "if __name__ == '__main__':\n",
    "    print(detect_outliers_zscore(array02))"
   ],
   "id": "c4358766ee8c9943",
   "outputs": [
    {
     "name": "stdout",
     "output_type": "stream",
     "text": [
      "[800]\n"
     ]
    }
   ],
   "execution_count": 7
  },
  {
   "metadata": {
    "ExecuteTime": {
     "end_time": "2025-03-01T11:11:10.278616Z",
     "start_time": "2025-03-01T11:11:10.270643Z"
    }
   },
   "cell_type": "code",
   "source": [
    "#IQR 方法的原理\n",
    "\n",
    "#IQR（Interquartile Range，四分位距）方法是一种常用的统计学方法，用于检测数据集中的异常值。它基于数据的四分位数，即 Q1（下四分位数）和 Q3（上四分位数）。计算 Q1 和 Q3：Q1 是数据集中第 25% 的值。Q3 是数据集中第 75% 的值。 IQR = Q3 - Q1\n",
    "#下界：Q1 - 1.5 * IQR 上界：Q3 + 1.5 * IQR任何小于下界或大于上界的数据点都被认为是异常值。\n",
    "#为什么是 1.5 倍 IQR？ 1.5 倍 IQR 是一个经验法则，通常用于识别“温和”的异常值。在箱线图中，1.5 倍 IQR 的边界也用于绘制“须”。如果需要检测更极端的异常值，可以使用 3 倍 IQR。\n",
    "import numpy as np\n",
    "\n",
    "\n",
    "def detect_outliers_iqr(data, whis=1.5):\n",
    "    q1, q3 = np.quantile(data, [0.25, 0.75])\n",
    "    iqr = q3 - q1\n",
    "    lower, upper = q1 - whis * iqr, q3 + whis * iqr\n",
    "    return data[(data < lower) | (data > upper)]\n",
    "\n",
    "\n",
    "array01 = np.array([10, 15, 12, 18, 20, 5, 25, 100])\n",
    "\n",
    "if __name__ == '__main__':\n",
    "    print(detect_outliers_iqr(array01))"
   ],
   "id": "8015a3f1f485d499",
   "outputs": [
    {
     "name": "stdout",
     "output_type": "stream",
     "text": [
      "[100]\n"
     ]
    }
   ],
   "execution_count": 106
  },
  {
   "metadata": {
    "ExecuteTime": {
     "end_time": "2025-03-01T11:10:35.337178Z",
     "start_time": "2025-03-01T11:10:35.325087Z"
    }
   },
   "cell_type": "code",
   "source": [
    "import numpy as np\n",
    "\n",
    "data = np.array([10, 15, 12, 18, 20, 5, 25, 100])\n",
    "\n",
    "Q1 = np.percentile(data, 25)\n",
    "Q3 = np.percentile(data, 75)\n",
    "IQR = Q3 - Q1\n",
    "\n",
    "lower_bound = Q1 - 1.5 * IQR\n",
    "upper_bound = Q3 + 1.5 * IQR\n",
    "\n",
    "outliers = data[(data < lower_bound) | (data > upper_bound)]\n",
    "\n",
    "print(\"异常值:\", outliers)"
   ],
   "id": "9ba37d894364633",
   "outputs": [
    {
     "name": "stdout",
     "output_type": "stream",
     "text": [
      "异常值: [100]\n"
     ]
    }
   ],
   "execution_count": 100
  },
  {
   "metadata": {},
   "cell_type": "code",
   "outputs": [],
   "execution_count": null,
   "source": [
    "#如果要删除异常值，可以使用DataFrame对象的drop方法，该方法可以根据行索引或列索引删除指定的行或列。例如我们认为月薪低于2000或高于8000的是员工表中的异常值，可以用下面的代码删除对应的记录。\n",
    "emp_df.drop(emp_df[(emp_df.sal > 8000) | (emp_df.sal < 2000)].index)"
   ],
   "id": "342d500dcb700a42"
  },
  {
   "metadata": {},
   "cell_type": "code",
   "outputs": [],
   "execution_count": null,
   "source": [
    "#如果要替换掉异常值，可以通过给单元格赋值的方式来实现，也可以使用replace方法将指定的值替换掉。例如我们要将月薪为1800和9000的替换为月薪的平均值，补贴为800的替换为1000，代码如下所示。\n",
    "avg_sal = np.mean(emp_df.sal).astype(int)\n",
    "emp_df.replace({'sal': [1800, 9000], 'comm': 800}, {'sal': avg_sal, 'comm': 1000})"
   ],
   "id": "193f8ca1289dc9d7"
  },
  {
   "metadata": {},
   "cell_type": "code",
   "outputs": [],
   "execution_count": null,
   "source": [
    "#DataFrame的应用\n",
    "#数据清洗\n",
    "#通常，我们从 Excel、CSV 或数据库中获取到的数据并不是非常完美的，里面可能因为系统或人为的原因混入了重复值或异常值，也可能在某些字段上存在缺失值；再者，DataFrame中的数据也可能存在格式不统一、量纲不统一等各种问题。因此，在开始数据分析之前，对数据进行清洗就显得特别重要。\n",
    "#可以使用DataFrame对象的isnull或isna方法来找出数据表中的缺失值，如下所示。\n",
    "emp_df.isnull()\n",
    "emp_df.isna()\n",
    "#输出\n",
    "eno     ename   job\t    mgr     sal     comm    dno\n",
    "1359\tFalse\tFalse\tFalse\tFalse\tFalse\tFalse\n",
    "2056\tFalse\tFalse\tFalse\tFalse\tFalse\tFalse\n",
    "3088\tFalse\tFalse\tFalse\tFalse\tFalse\tFalse\n",
    "3211\tFalse\tFalse\tFalse\tFalse\tTrue\tFalse\n",
    "3233\tFalse\tFalse\tFalse\tFalse\tTrue\tFalse\n",
    "3244\tFalse\tFalse\tFalse\tFalse\tTrue\tFalse\n",
    "3251\tFalse\tFalse\tFalse\tFalse\tTrue\tFalse\n",
    "3344\tFalse\tFalse\tFalse\tFalse\tFalse\tFalse\n",
    "3577\tFalse\tFalse\tFalse\tFalse\tTrue\tFalse\n",
    "3588\tFalse\tFalse\tFalse\tFalse\tTrue\tFalse\n",
    "4466\tFalse\tFalse\tFalse\tFalse\tTrue\tFalse\n",
    "5234\tFalse\tFalse\tFalse\tFalse\tTrue\tFalse\n",
    "5566\tFalse\tFalse\tFalse\tFalse\tFalse\tFalse\n",
    "7800\tFalse\tFalse\tTrue\tFalse\tFalse\tFalse"
   ],
   "id": "3106b30d2a286857"
  },
  {
   "metadata": {},
   "cell_type": "code",
   "outputs": [],
   "execution_count": null,
   "source": [
    "#相对应的，notnull和notna方法可以将非空的值标记为True。如果想删除这些缺失值，可以使用DataFrame对象的dropna方法，该方法的axis参数可以指定沿着0轴还是1轴删除，也就是说当遇到空值时，是删除整行还是删除整列，默认是沿0轴进行删除的，代码如下所示。\n",
    "emp_df.dropna()\n",
    "#输出：\n",
    "eno     ename   job      mgr\t sal    comm     dno\n",
    "1359\t胡一刀  销售员\t3344.0\t1800   200.0\t30\n",
    "2056\t乔峰    架构师\t 7800.0\t 5000\t1500.0\t 20\n",
    "3088\t李莫愁  设计师\t2056.0\t3500   800.0\t20\n",
    "3344\t黄蓉    销售主管\t7800.0\t3000   800.0\t30\n",
    "5566\t宋远桥  会计师\t7800.0\t4000   1000.0\t10"
   ],
   "id": "91eaae380b8ecc17"
  },
  {
   "metadata": {},
   "cell_type": "code",
   "outputs": [],
   "execution_count": null,
   "source": [
    "#在某些特定的场景下，我们可以对空值进行填充，对应的方法是fillna，填充空值时可以使用指定的值（通过value参数进行指定），也可以用表格中前一个单元格（通过设置参数method=ffill）或后一个单元格（通过设置参数method=bfill）的值进行填充，当代码如下所示。\n",
    "emp_df.fillna(value=0)\n",
    "#输出：\n",
    "        ename    job        mgr      sal     comm    dno\n",
    "eno\n",
    "1359\t胡一刀    销售员\t   3344.0\t1800\t200.0\t30\n",
    "2056\t乔峰\t    分析师\t    7800.0\t 5000\t 1500.0\t 20\n",
    "3088\t李莫愁\t   设计师\t   2056.0\t3500\t800.0\t20\n",
    "3211\t张无忌\t   程序员\t   2056.0\t3200\t0.0     20\n",
    "3233\t丘处机\t   程序员\t   2056.0\t3400\t0.0\t    20\n",
    "3244\t欧阳锋\t   程序员\t   3088.0\t3200\t0.0     20\n",
    "3251\t张翠山\t   程序员\t   2056.0\t4000\t0.0\t    20\n",
    "3344\t黄蓉\t    销售主管   7800.0\t3000\t800.0\t30\n",
    "3577\t杨过\t    会计\t     5566.0\t  2200\t  0.0\t  10\n",
    "3588\t朱九真\t   会计\t    5566.0\t 2500\t 0.0\t 10\n",
    "4466\t苗人凤\t   销售员\t   3344.0\t2500\t0.0\t    30\n",
    "5234\t郭靖\t    出纳\t     5566.0\t  2000\t  0.0\t  10\n",
    "5566\t宋远桥\t   会计师\t   7800.0\t4000\t1000.0\t10\n",
    "7800\t张三丰\t   总裁\t    0.0      9000\t 1200.0\t 20"
   ],
   "id": "ad53c017b678a547"
  },
  {
   "metadata": {},
   "cell_type": "code",
   "outputs": [],
   "execution_count": null,
   "source": [
    "#重复值\n",
    "#接下来，我们先给之前的部门表添加两行数据，让部门表中名为“研发部”和“销售部”的部门各有两个。\n",
    "dept_df.loc[50] = {'dname': '研发部', 'dloc': '上海'}\n",
    "dept_df.loc[60] = {'dname': '销售部', 'dloc': '长沙'}\n",
    "dept_df\n",
    "#输出：\n",
    "    dname  dloc\n",
    "dno\n",
    "10\t会计部\t北京\n",
    "20\t研发部\t成都\n",
    "30\t销售部\t重庆\n",
    "40\t运维部\t天津\n",
    "50\t研发部\t上海\n",
    "60\t销售部\t长沙"
   ],
   "id": "b3237470634968b6"
  },
  {
   "metadata": {},
   "cell_type": "code",
   "outputs": [],
   "execution_count": null,
   "source": [
    "#现在，我们的数据表中有重复数据了，我们可以通过DataFrame对象的duplicated方法判断是否存在重复值，该方法在不指定参数时默认判断行索引是否重复，我们也可以指定根据部门名称dname判断部门是否重复，代码如下所示。\n",
    "dept_df.duplicated('dname')\n",
    "dno\n",
    "10    False\n",
    "20    False\n",
    "30    False\n",
    "40    False\n",
    "50     True\n",
    "60     True\n",
    "dtype: bool"
   ],
   "id": "2621ecdc44786cb2"
  },
  {
   "metadata": {},
   "cell_type": "code",
   "outputs": [],
   "execution_count": null,
   "source": [
    "#从上面的输出可以看到，50和60两个部门从部门名称上来看是重复的，如果要删除重复值，可以使用drop_duplicates方法，该方法的keep参数可以控制在遇到重复值时，保留第一项还是保留最后一项，或者多个重复项一个都不用保留，全部删除掉。\n",
    "dept_df.drop_duplicates('dname')\n",
    "#输出：\n",
    "\tdname\tdloc\n",
    "dno\n",
    "10\t会计部\t北京\n",
    "20\t研发部\t成都\n",
    "30\t销售部\t重庆\n",
    "40\t运维部\t天津\n",
    "#将keep参数的值修改为last。\n",
    "dept_df.drop_duplicates('dname', keep='last')\n",
    "#输出：\n",
    "\tdname\tdloc\n",
    "dno\n",
    "10\t会计部\t北京\n",
    "40\t运维部\t天津\n",
    "50\t研发部\t上海\n",
    "60\t销售部\t长沙"
   ],
   "id": "aedb236ffbc296bb"
  },
  {
   "metadata": {},
   "cell_type": "code",
   "outputs": [],
   "execution_count": null,
   "source": [
    "#上面的数据表一共有3140条数据，但并非所有的职位都是“数据分析”的岗位，如果要筛选出数据分析的岗位，可以通过检查positionName字段是否包含“数据分析”这个关键词，这里需要模糊匹配，应该如何实现呢？我们可以先获取positionName列，因为这个Series对象的dtype是字符串，所以可以通过str属性获取对应的字符串向量，然后就可以利用我们熟悉的字符串的方法来对其进行操作，代码如下所示。\n",
    "#需要提醒大家的是，抽取出来的两列数据都是字符串类型的值，我们需要将其转换成int类型，才能计算平均值，对应的方法是DataFrame对象的applymap方法，该方法的参数是一个函数，而该函数会作用于DataFrame中的每个元素。完成这一步之后，我们就可以使用apply方法将上面的DataFrame处理成中间值，apply方法的参数也是一个函数，可以通过指定axis参数使其作用于DataFrame 对象的行或列，代码如下所示。\n",
    "jobs_df = jobs_df[jobs_df.positionName.str.contains('数据分析')]\n",
    "jobs_df.shape\n",
    "temp_df = jobs_df.salary.str.extract(r'(\\d+)[kK]?-(\\d+)[kK]?').applymap(int)\n",
    "#接下来，我们可以用上面的结果替换掉原来的salary列或者增加一个新的列来表示职位对应的工资，完整的代码如下所示。\n",
    "jobs_df['salary'] = temp_df.apply(np.mean, axis=1)\n",
    "jobs_df.head()\n",
    "#输出：\n",
    "    city    companyFullName              positionName    salary\n",
    "0   北京\t  达疆网络科技（上海）有限公司    数据分析岗       22.5\n",
    "1   北京\t  北京音娱时光科技有限公司        数据分析        14.0\n",
    "2   北京\t  北京千喜鹤餐饮管理有限公司\t     数据分析        25.0\n",
    "3   北京\t  吉林省海生电子商务有限公司\t     数据分析        41.5\n",
    "4   北京\t  韦博网讯科技（北京）有限公司\t数据分析        12.5\n",
    "\n"
   ],
   "id": "fe3edd85ac4c27f5"
  },
  {
   "metadata": {
    "ExecuteTime": {
     "end_time": "2025-03-02T07:40:54.302037Z",
     "start_time": "2025-03-02T07:40:54.290569Z"
    }
   },
   "cell_type": "code",
   "source": [
    "df1 = pd.DataFrame(data=[[1,5],[2,6]],index=['小李','小张'])\n",
    "df1"
   ],
   "id": "7d9a5a7421739e69",
   "outputs": [
    {
     "data": {
      "text/plain": [
       "    0  1\n",
       "小李  1  5\n",
       "小张  2  6"
      ],
      "text/html": [
       "<div>\n",
       "<style scoped>\n",
       "    .dataframe tbody tr th:only-of-type {\n",
       "        vertical-align: middle;\n",
       "    }\n",
       "\n",
       "    .dataframe tbody tr th {\n",
       "        vertical-align: top;\n",
       "    }\n",
       "\n",
       "    .dataframe thead th {\n",
       "        text-align: right;\n",
       "    }\n",
       "</style>\n",
       "<table border=\"1\" class=\"dataframe\">\n",
       "  <thead>\n",
       "    <tr style=\"text-align: right;\">\n",
       "      <th></th>\n",
       "      <th>0</th>\n",
       "      <th>1</th>\n",
       "    </tr>\n",
       "  </thead>\n",
       "  <tbody>\n",
       "    <tr>\n",
       "      <th>小李</th>\n",
       "      <td>1</td>\n",
       "      <td>5</td>\n",
       "    </tr>\n",
       "    <tr>\n",
       "      <th>小张</th>\n",
       "      <td>2</td>\n",
       "      <td>6</td>\n",
       "    </tr>\n",
       "  </tbody>\n",
       "</table>\n",
       "</div>"
      ]
     },
     "execution_count": 29,
     "metadata": {},
     "output_type": "execute_result"
    }
   ],
   "execution_count": 29
  },
  {
   "metadata": {
    "ExecuteTime": {
     "end_time": "2025-03-02T07:41:38.552329Z",
     "start_time": "2025-03-02T07:41:38.544646Z"
    }
   },
   "cell_type": "code",
   "source": "df1.apply(lambda x: [1,2], axis=1)",
   "id": "a56ff0bc3920e66f",
   "outputs": [
    {
     "data": {
      "text/plain": [
       "小李    [1, 2]\n",
       "小张    [1, 2]\n",
       "dtype: object"
      ]
     },
     "execution_count": 45,
     "metadata": {},
     "output_type": "execute_result"
    }
   ],
   "execution_count": 45
  },
  {
   "metadata": {
    "ExecuteTime": {
     "end_time": "2025-03-02T07:53:58.405958Z",
     "start_time": "2025-03-02T07:53:58.393598Z"
    }
   },
   "cell_type": "code",
   "source": [
    "#如果要对数据进行深度的分析和挖掘，字符串、日期时间这样的非数值类型都需要处理成数值，因为非数值类型没有办法计算相关性，也没有办法进行$\\chi^2$检验等操作。对于字符串类型，通常可以其分为以下三类，再进行对应的处理。\n",
    "\n",
    "#有序变量（Ordinal Variable）：字符串表示的数据有顺序关系，那么可以对字符串进行序号化处理。\n",
    "#分类变量（Categorical Variable）/ 名义变量（Nominal Variable）：字符串表示的数据没有大小关系和等级之分，那么就可以使用独热编码的方式处理成哑变量（虚拟变量）矩阵。\n",
    "#定距变量（Scale Variable）：字符串本质上对应到一个有大小高低之分的数据，而且可以进行加减运算，那么只需要将字符串处理成对应的数值即可。\n",
    "#对于第1类和第3类，我们可以用上面提到的apply或transform方法来处理，也可以利用scikit-learn中的OrdinalEncoder处理第1类字符串，这个我们在后续的课程中会讲到。对于第2类字符串，可以使用pandas的get_dummies()函数来生成哑变量（虚拟变量）矩阵，代码如下所示。\n",
    "import pandas as pd\n",
    "persons_df = pd.DataFrame(\n",
    "    data={\n",
    "        '姓名': ['关羽', '张飞', '赵云', '马超', '黄忠'],\n",
    "        '职业': ['医生', '医生', '程序员', '画家', '教师'],\n",
    "        '学历': ['研究生', '大专', '研究生', '高中', '本科']\n",
    "    }\n",
    ")\n",
    "persons_df"
   ],
   "id": "2d47e1807a7cb45d",
   "outputs": [
    {
     "data": {
      "text/plain": [
       "   姓名   职业   学历\n",
       "0  关羽   医生  研究生\n",
       "1  张飞   医生   大专\n",
       "2  赵云  程序员  研究生\n",
       "3  马超   画家   高中\n",
       "4  黄忠   教师   本科"
      ],
      "text/html": [
       "<div>\n",
       "<style scoped>\n",
       "    .dataframe tbody tr th:only-of-type {\n",
       "        vertical-align: middle;\n",
       "    }\n",
       "\n",
       "    .dataframe tbody tr th {\n",
       "        vertical-align: top;\n",
       "    }\n",
       "\n",
       "    .dataframe thead th {\n",
       "        text-align: right;\n",
       "    }\n",
       "</style>\n",
       "<table border=\"1\" class=\"dataframe\">\n",
       "  <thead>\n",
       "    <tr style=\"text-align: right;\">\n",
       "      <th></th>\n",
       "      <th>姓名</th>\n",
       "      <th>职业</th>\n",
       "      <th>学历</th>\n",
       "    </tr>\n",
       "  </thead>\n",
       "  <tbody>\n",
       "    <tr>\n",
       "      <th>0</th>\n",
       "      <td>关羽</td>\n",
       "      <td>医生</td>\n",
       "      <td>研究生</td>\n",
       "    </tr>\n",
       "    <tr>\n",
       "      <th>1</th>\n",
       "      <td>张飞</td>\n",
       "      <td>医生</td>\n",
       "      <td>大专</td>\n",
       "    </tr>\n",
       "    <tr>\n",
       "      <th>2</th>\n",
       "      <td>赵云</td>\n",
       "      <td>程序员</td>\n",
       "      <td>研究生</td>\n",
       "    </tr>\n",
       "    <tr>\n",
       "      <th>3</th>\n",
       "      <td>马超</td>\n",
       "      <td>画家</td>\n",
       "      <td>高中</td>\n",
       "    </tr>\n",
       "    <tr>\n",
       "      <th>4</th>\n",
       "      <td>黄忠</td>\n",
       "      <td>教师</td>\n",
       "      <td>本科</td>\n",
       "    </tr>\n",
       "  </tbody>\n",
       "</table>\n",
       "</div>"
      ]
     },
     "execution_count": 11,
     "metadata": {},
     "output_type": "execute_result"
    }
   ],
   "execution_count": 11
  },
  {
   "metadata": {
    "ExecuteTime": {
     "end_time": "2025-03-02T07:45:18.652558Z",
     "start_time": "2025-03-02T07:45:18.632625Z"
    }
   },
   "cell_type": "code",
   "source": [
    "#将职业处理成哑变量矩阵。\n",
    "pd.get_dummies(persons_df['职业'])"
   ],
   "id": "b72f10580f7026b4",
   "outputs": [
    {
     "data": {
      "text/plain": [
       "      医生     教师     画家    程序员\n",
       "0   True  False  False  False\n",
       "1   True  False  False  False\n",
       "2  False  False  False   True\n",
       "3  False  False   True  False\n",
       "4  False   True  False  False"
      ],
      "text/html": [
       "<div>\n",
       "<style scoped>\n",
       "    .dataframe tbody tr th:only-of-type {\n",
       "        vertical-align: middle;\n",
       "    }\n",
       "\n",
       "    .dataframe tbody tr th {\n",
       "        vertical-align: top;\n",
       "    }\n",
       "\n",
       "    .dataframe thead th {\n",
       "        text-align: right;\n",
       "    }\n",
       "</style>\n",
       "<table border=\"1\" class=\"dataframe\">\n",
       "  <thead>\n",
       "    <tr style=\"text-align: right;\">\n",
       "      <th></th>\n",
       "      <th>医生</th>\n",
       "      <th>教师</th>\n",
       "      <th>画家</th>\n",
       "      <th>程序员</th>\n",
       "    </tr>\n",
       "  </thead>\n",
       "  <tbody>\n",
       "    <tr>\n",
       "      <th>0</th>\n",
       "      <td>True</td>\n",
       "      <td>False</td>\n",
       "      <td>False</td>\n",
       "      <td>False</td>\n",
       "    </tr>\n",
       "    <tr>\n",
       "      <th>1</th>\n",
       "      <td>True</td>\n",
       "      <td>False</td>\n",
       "      <td>False</td>\n",
       "      <td>False</td>\n",
       "    </tr>\n",
       "    <tr>\n",
       "      <th>2</th>\n",
       "      <td>False</td>\n",
       "      <td>False</td>\n",
       "      <td>False</td>\n",
       "      <td>True</td>\n",
       "    </tr>\n",
       "    <tr>\n",
       "      <th>3</th>\n",
       "      <td>False</td>\n",
       "      <td>False</td>\n",
       "      <td>True</td>\n",
       "      <td>False</td>\n",
       "    </tr>\n",
       "    <tr>\n",
       "      <th>4</th>\n",
       "      <td>False</td>\n",
       "      <td>True</td>\n",
       "      <td>False</td>\n",
       "      <td>False</td>\n",
       "    </tr>\n",
       "  </tbody>\n",
       "</table>\n",
       "</div>"
      ]
     },
     "execution_count": 47,
     "metadata": {},
     "output_type": "execute_result"
    }
   ],
   "execution_count": 47
  },
  {
   "metadata": {
    "ExecuteTime": {
     "end_time": "2025-03-02T07:54:00.322783Z",
     "start_time": "2025-03-02T07:54:00.316607Z"
    }
   },
   "cell_type": "code",
   "source": [
    "#将学历处理成大小不同的值。\n",
    "def handle_education(x):\n",
    "    edu_dict = {'高中':1, '本科':3, '大专':5 ,'研究生':10}\n",
    "    return edu_dict.get(x)\n",
    "\n",
    "persons_df['学历'].apply(handle_education)\n"
   ],
   "id": "b3344a9d290978a9",
   "outputs": [
    {
     "data": {
      "text/plain": [
       "0    10\n",
       "1     5\n",
       "2    10\n",
       "3     1\n",
       "4     3\n",
       "Name: 学历, dtype: int64"
      ]
     },
     "execution_count": 12,
     "metadata": {},
     "output_type": "execute_result"
    }
   ],
   "execution_count": 12
  },
  {
   "metadata": {},
   "cell_type": "code",
   "outputs": [],
   "execution_count": null,
   "source": [
    "#我们再来说说数据离散化。离散化也叫分箱，如果变量的取值是连续值，那么它的取值有无数种可能，在进行数据分组的时候就会非常的不方便，这个时候将连续变量离散化就显得非常重要。之所以把离散化叫做分箱，是因为我们可以预先设置一些箱子，每个箱子代表了数据取值的范围，这样就可以将连续的值分配到不同的箱子中，从而实现离散化。下面的例子读取了2018年北京积分落户数据，我们可以根据落户积分对数据进行分组，具体的做法如下所示。\n",
    "luohu_df = pd.read_csv('data/2018年北京积分落户数据.csv', index_col='id')\n",
    "luohu_df.score.describe()\n",
    "#输出\n",
    "count    6019.000000\n",
    "mean       95.654552\n",
    "std         4.354445\n",
    "min        90.750000\n",
    "25%        92.330000\n",
    "50%        94.460000\n",
    "75%        97.750000\n",
    "max       122.590000\n",
    "Name: score, dtype: float64\n",
    "#可以看出，落户积分的最大值是122.59，最小值是90.75，那么我们可以构造一个从90分到125分，每5分一组的7个箱子，pandas的cut函数可以帮助我们首先数据分箱，代码如下所示。‘\n",
    "bins = np.arange(90, 126, 5)\n",
    "pd.cut(luohu_df.score, bins, right=False)\n",
    "#说明：cut函数的right参数默认值为True，表示箱子左开右闭；修改为False可以让箱子的右边界为开区间，左边界为闭区间，大家看看下面的输出就明白了。\n",
    "#输出：\n",
    "id\n",
    "1       [120, 125)\n",
    "2       [120, 125)\n",
    "3       [115, 120)\n",
    "4       [115, 120)\n",
    "5       [115, 120)\n",
    "           ...\n",
    "6015      [90, 95)\n",
    "6016      [90, 95)\n",
    "6017      [90, 95)\n",
    "6018      [90, 95)\n",
    "6019      [90, 95)\n",
    "Name: score, Length: 6019, dtype: category\n",
    "Categories (7, interval[int64, left]): [[90, 95) < [95, 100) < [100, 105) < [105, 110) < [110, 115) < [115, 120) < [120, 125)]\n",
    "#我们可以根据分箱的结果对数据进行分组，然后使用聚合函数对每个组进行统计，这是数据分析中经常用到的操作，下一个章节会为大家介绍。除此之外，pandas还提供了一个名为qcut的函数，可以指定分位数对数据进行分箱，有兴趣的读者可以自行研究。"
   ],
   "id": "38c3ee1e4c2e66d2"
  },
  {
   "metadata": {
    "ExecuteTime": {
     "end_time": "2025-03-02T07:59:45.998366Z",
     "start_time": "2025-03-02T07:59:45.978432Z"
    }
   },
   "cell_type": "code",
   "source": [
    "#经过前面的学习，我们已经将数据准备就绪而且变成了我们想要的样子，接下来就是最为重要的数据分析阶段了。当我们拿到一大堆数据的时候，如何从数据中迅速的解读出有价值的信息，这就是数据分析要解决的问题。首先，我们可以获取数据的描述性统计信息，通过描述性统计信息，我们可以了解数据的集中趋势和离散趋势。\n",
    "import numpy as np\n",
    "import pandas as pd\n",
    "\n",
    "scores = np.random.randint(50, 101, (5, 3))\n",
    "names = ('关羽', '张飞', '赵云', '马超', '黄忠')\n",
    "courses = ('语文', '数学', '英语')\n",
    "df = pd.DataFrame(data=scores, columns=courses, index=names)\n",
    "df"
   ],
   "id": "8da12343ec9695a5",
   "outputs": [
    {
     "data": {
      "text/plain": [
       "    语文   数学  英语\n",
       "关羽  87   90  52\n",
       "张飞  97   66  77\n",
       "赵云  97   53  98\n",
       "马超  98  100  89\n",
       "黄忠  83   77  76"
      ],
      "text/html": [
       "<div>\n",
       "<style scoped>\n",
       "    .dataframe tbody tr th:only-of-type {\n",
       "        vertical-align: middle;\n",
       "    }\n",
       "\n",
       "    .dataframe tbody tr th {\n",
       "        vertical-align: top;\n",
       "    }\n",
       "\n",
       "    .dataframe thead th {\n",
       "        text-align: right;\n",
       "    }\n",
       "</style>\n",
       "<table border=\"1\" class=\"dataframe\">\n",
       "  <thead>\n",
       "    <tr style=\"text-align: right;\">\n",
       "      <th></th>\n",
       "      <th>语文</th>\n",
       "      <th>数学</th>\n",
       "      <th>英语</th>\n",
       "    </tr>\n",
       "  </thead>\n",
       "  <tbody>\n",
       "    <tr>\n",
       "      <th>关羽</th>\n",
       "      <td>87</td>\n",
       "      <td>90</td>\n",
       "      <td>52</td>\n",
       "    </tr>\n",
       "    <tr>\n",
       "      <th>张飞</th>\n",
       "      <td>97</td>\n",
       "      <td>66</td>\n",
       "      <td>77</td>\n",
       "    </tr>\n",
       "    <tr>\n",
       "      <th>赵云</th>\n",
       "      <td>97</td>\n",
       "      <td>53</td>\n",
       "      <td>98</td>\n",
       "    </tr>\n",
       "    <tr>\n",
       "      <th>马超</th>\n",
       "      <td>98</td>\n",
       "      <td>100</td>\n",
       "      <td>89</td>\n",
       "    </tr>\n",
       "    <tr>\n",
       "      <th>黄忠</th>\n",
       "      <td>83</td>\n",
       "      <td>77</td>\n",
       "      <td>76</td>\n",
       "    </tr>\n",
       "  </tbody>\n",
       "</table>\n",
       "</div>"
      ]
     },
     "execution_count": 13,
     "metadata": {},
     "output_type": "execute_result"
    }
   ],
   "execution_count": 13
  },
  {
   "metadata": {
    "ExecuteTime": {
     "end_time": "2025-03-02T08:00:35.966437Z",
     "start_time": "2025-03-02T08:00:35.961861Z"
    }
   },
   "cell_type": "code",
   "source": [
    "#计算每门课程成绩的平均分。\n",
    "df.mean()"
   ],
   "id": "d5580ddd7b9094a7",
   "outputs": [
    {
     "data": {
      "text/plain": [
       "语文    92.4\n",
       "数学    77.2\n",
       "英语    78.4\n",
       "dtype: float64"
      ]
     },
     "execution_count": 14,
     "metadata": {},
     "output_type": "execute_result"
    }
   ],
   "execution_count": 14
  },
  {
   "metadata": {
    "ExecuteTime": {
     "end_time": "2025-03-02T08:01:44.348057Z",
     "start_time": "2025-03-02T08:01:44.330118Z"
    }
   },
   "cell_type": "code",
   "source": [
    "#计算每个学生成绩的平均分。\n",
    "df.mean(axis=1)"
   ],
   "id": "cf07568d6e9d42cc",
   "outputs": [
    {
     "data": {
      "text/plain": [
       "关羽    76.333333\n",
       "张飞    80.000000\n",
       "赵云    82.666667\n",
       "马超    95.666667\n",
       "黄忠    78.666667\n",
       "dtype: float64"
      ]
     },
     "execution_count": 16,
     "metadata": {},
     "output_type": "execute_result"
    }
   ],
   "execution_count": 16
  },
  {
   "metadata": {
    "ExecuteTime": {
     "end_time": "2025-03-02T08:02:21.109689Z",
     "start_time": "2025-03-02T08:02:21.094739Z"
    }
   },
   "cell_type": "code",
   "source": [
    "#计算每门课程成绩的方差。\n",
    "df.var()\n",
    "#说明：通过方差可以看出，数学成绩波动最大，最不稳定。"
   ],
   "id": "cc63448875a0bf48",
   "outputs": [
    {
     "data": {
      "text/plain": [
       "语文     47.8\n",
       "数学    348.7\n",
       "英语    300.3\n",
       "dtype: float64"
      ]
     },
     "execution_count": 18,
     "metadata": {},
     "output_type": "execute_result"
    }
   ],
   "execution_count": 18
  },
  {
   "metadata": {
    "ExecuteTime": {
     "end_time": "2025-03-02T08:03:05.882294Z",
     "start_time": "2025-03-02T08:03:05.863768Z"
    }
   },
   "cell_type": "code",
   "source": [
    "#获取每门课程的描述性统计信息。\n",
    "df.describe()"
   ],
   "id": "160b4ae4c9ae4f86",
   "outputs": [
    {
     "data": {
      "text/plain": [
       "              语文          数学         英语\n",
       "count   5.000000    5.000000   5.000000\n",
       "mean   92.400000   77.200000  78.400000\n",
       "std     6.913754   18.673511  17.329166\n",
       "min    83.000000   53.000000  52.000000\n",
       "25%    87.000000   66.000000  76.000000\n",
       "50%    97.000000   77.000000  77.000000\n",
       "75%    97.000000   90.000000  89.000000\n",
       "max    98.000000  100.000000  98.000000"
      ],
      "text/html": [
       "<div>\n",
       "<style scoped>\n",
       "    .dataframe tbody tr th:only-of-type {\n",
       "        vertical-align: middle;\n",
       "    }\n",
       "\n",
       "    .dataframe tbody tr th {\n",
       "        vertical-align: top;\n",
       "    }\n",
       "\n",
       "    .dataframe thead th {\n",
       "        text-align: right;\n",
       "    }\n",
       "</style>\n",
       "<table border=\"1\" class=\"dataframe\">\n",
       "  <thead>\n",
       "    <tr style=\"text-align: right;\">\n",
       "      <th></th>\n",
       "      <th>语文</th>\n",
       "      <th>数学</th>\n",
       "      <th>英语</th>\n",
       "    </tr>\n",
       "  </thead>\n",
       "  <tbody>\n",
       "    <tr>\n",
       "      <th>count</th>\n",
       "      <td>5.000000</td>\n",
       "      <td>5.000000</td>\n",
       "      <td>5.000000</td>\n",
       "    </tr>\n",
       "    <tr>\n",
       "      <th>mean</th>\n",
       "      <td>92.400000</td>\n",
       "      <td>77.200000</td>\n",
       "      <td>78.400000</td>\n",
       "    </tr>\n",
       "    <tr>\n",
       "      <th>std</th>\n",
       "      <td>6.913754</td>\n",
       "      <td>18.673511</td>\n",
       "      <td>17.329166</td>\n",
       "    </tr>\n",
       "    <tr>\n",
       "      <th>min</th>\n",
       "      <td>83.000000</td>\n",
       "      <td>53.000000</td>\n",
       "      <td>52.000000</td>\n",
       "    </tr>\n",
       "    <tr>\n",
       "      <th>25%</th>\n",
       "      <td>87.000000</td>\n",
       "      <td>66.000000</td>\n",
       "      <td>76.000000</td>\n",
       "    </tr>\n",
       "    <tr>\n",
       "      <th>50%</th>\n",
       "      <td>97.000000</td>\n",
       "      <td>77.000000</td>\n",
       "      <td>77.000000</td>\n",
       "    </tr>\n",
       "    <tr>\n",
       "      <th>75%</th>\n",
       "      <td>97.000000</td>\n",
       "      <td>90.000000</td>\n",
       "      <td>89.000000</td>\n",
       "    </tr>\n",
       "    <tr>\n",
       "      <th>max</th>\n",
       "      <td>98.000000</td>\n",
       "      <td>100.000000</td>\n",
       "      <td>98.000000</td>\n",
       "    </tr>\n",
       "  </tbody>\n",
       "</table>\n",
       "</div>"
      ]
     },
     "execution_count": 20,
     "metadata": {},
     "output_type": "execute_result"
    }
   ],
   "execution_count": 20
  },
  {
   "metadata": {
    "ExecuteTime": {
     "end_time": "2025-03-02T08:04:12.573307Z",
     "start_time": "2025-03-02T08:04:12.568516Z"
    }
   },
   "cell_type": "code",
   "source": [
    "#排序和Top-N\n",
    "#如果需要对数据进行排序，可以使用DataFrame对象的sort_values方法，该方法的by参数可以指定根据哪个列或哪些列进行排序，而ascending参数可以指定升序或是降序。例如，下面的代码展示了如何将学生表按语文成绩排降序。\n",
    "df.sort_values(by='语文', ascending=False)"
   ],
   "id": "d9eb90a1eecd936f",
   "outputs": [
    {
     "data": {
      "text/plain": [
       "    语文   数学  英语\n",
       "马超  98  100  89\n",
       "张飞  97   66  77\n",
       "赵云  97   53  98\n",
       "关羽  87   90  52\n",
       "黄忠  83   77  76"
      ],
      "text/html": [
       "<div>\n",
       "<style scoped>\n",
       "    .dataframe tbody tr th:only-of-type {\n",
       "        vertical-align: middle;\n",
       "    }\n",
       "\n",
       "    .dataframe tbody tr th {\n",
       "        vertical-align: top;\n",
       "    }\n",
       "\n",
       "    .dataframe thead th {\n",
       "        text-align: right;\n",
       "    }\n",
       "</style>\n",
       "<table border=\"1\" class=\"dataframe\">\n",
       "  <thead>\n",
       "    <tr style=\"text-align: right;\">\n",
       "      <th></th>\n",
       "      <th>语文</th>\n",
       "      <th>数学</th>\n",
       "      <th>英语</th>\n",
       "    </tr>\n",
       "  </thead>\n",
       "  <tbody>\n",
       "    <tr>\n",
       "      <th>马超</th>\n",
       "      <td>98</td>\n",
       "      <td>100</td>\n",
       "      <td>89</td>\n",
       "    </tr>\n",
       "    <tr>\n",
       "      <th>张飞</th>\n",
       "      <td>97</td>\n",
       "      <td>66</td>\n",
       "      <td>77</td>\n",
       "    </tr>\n",
       "    <tr>\n",
       "      <th>赵云</th>\n",
       "      <td>97</td>\n",
       "      <td>53</td>\n",
       "      <td>98</td>\n",
       "    </tr>\n",
       "    <tr>\n",
       "      <th>关羽</th>\n",
       "      <td>87</td>\n",
       "      <td>90</td>\n",
       "      <td>52</td>\n",
       "    </tr>\n",
       "    <tr>\n",
       "      <th>黄忠</th>\n",
       "      <td>83</td>\n",
       "      <td>77</td>\n",
       "      <td>76</td>\n",
       "    </tr>\n",
       "  </tbody>\n",
       "</table>\n",
       "</div>"
      ]
     },
     "execution_count": 21,
     "metadata": {},
     "output_type": "execute_result"
    }
   ],
   "execution_count": 21
  },
  {
   "metadata": {
    "ExecuteTime": {
     "end_time": "2025-03-02T08:05:27.855283Z",
     "start_time": "2025-03-02T08:05:27.847310Z"
    }
   },
   "cell_type": "code",
   "source": [
    "#算出总成绩并且将dataframe用总成绩降序排列\n",
    "df['总成绩']=df.sum(axis=1)\n",
    "df.sort_values(by='总成绩', ascending=False)"
   ],
   "id": "9287a21c93f22941",
   "outputs": [
    {
     "data": {
      "text/plain": [
       "    语文   数学  英语  总成绩\n",
       "马超  98  100  89  287\n",
       "赵云  97   53  98  248\n",
       "张飞  97   66  77  240\n",
       "黄忠  83   77  76  236\n",
       "关羽  87   90  52  229"
      ],
      "text/html": [
       "<div>\n",
       "<style scoped>\n",
       "    .dataframe tbody tr th:only-of-type {\n",
       "        vertical-align: middle;\n",
       "    }\n",
       "\n",
       "    .dataframe tbody tr th {\n",
       "        vertical-align: top;\n",
       "    }\n",
       "\n",
       "    .dataframe thead th {\n",
       "        text-align: right;\n",
       "    }\n",
       "</style>\n",
       "<table border=\"1\" class=\"dataframe\">\n",
       "  <thead>\n",
       "    <tr style=\"text-align: right;\">\n",
       "      <th></th>\n",
       "      <th>语文</th>\n",
       "      <th>数学</th>\n",
       "      <th>英语</th>\n",
       "      <th>总成绩</th>\n",
       "    </tr>\n",
       "  </thead>\n",
       "  <tbody>\n",
       "    <tr>\n",
       "      <th>马超</th>\n",
       "      <td>98</td>\n",
       "      <td>100</td>\n",
       "      <td>89</td>\n",
       "      <td>287</td>\n",
       "    </tr>\n",
       "    <tr>\n",
       "      <th>赵云</th>\n",
       "      <td>97</td>\n",
       "      <td>53</td>\n",
       "      <td>98</td>\n",
       "      <td>248</td>\n",
       "    </tr>\n",
       "    <tr>\n",
       "      <th>张飞</th>\n",
       "      <td>97</td>\n",
       "      <td>66</td>\n",
       "      <td>77</td>\n",
       "      <td>240</td>\n",
       "    </tr>\n",
       "    <tr>\n",
       "      <th>黄忠</th>\n",
       "      <td>83</td>\n",
       "      <td>77</td>\n",
       "      <td>76</td>\n",
       "      <td>236</td>\n",
       "    </tr>\n",
       "    <tr>\n",
       "      <th>关羽</th>\n",
       "      <td>87</td>\n",
       "      <td>90</td>\n",
       "      <td>52</td>\n",
       "      <td>229</td>\n",
       "    </tr>\n",
       "  </tbody>\n",
       "</table>\n",
       "</div>"
      ]
     },
     "execution_count": 22,
     "metadata": {},
     "output_type": "execute_result"
    }
   ],
   "execution_count": 22
  },
  {
   "metadata": {
    "ExecuteTime": {
     "end_time": "2025-03-02T08:07:09.537821Z",
     "start_time": "2025-03-02T08:07:09.528851Z"
    }
   },
   "cell_type": "code",
   "source": [
    "#找出语文成绩前3名的学生信息。\n",
    "df.nlargest(3, '语文')"
   ],
   "id": "26259bff202aca8a",
   "outputs": [
    {
     "data": {
      "text/plain": [
       "    语文   数学  英语  总成绩\n",
       "马超  98  100  89  287\n",
       "张飞  97   66  77  240\n",
       "赵云  97   53  98  248"
      ],
      "text/html": [
       "<div>\n",
       "<style scoped>\n",
       "    .dataframe tbody tr th:only-of-type {\n",
       "        vertical-align: middle;\n",
       "    }\n",
       "\n",
       "    .dataframe tbody tr th {\n",
       "        vertical-align: top;\n",
       "    }\n",
       "\n",
       "    .dataframe thead th {\n",
       "        text-align: right;\n",
       "    }\n",
       "</style>\n",
       "<table border=\"1\" class=\"dataframe\">\n",
       "  <thead>\n",
       "    <tr style=\"text-align: right;\">\n",
       "      <th></th>\n",
       "      <th>语文</th>\n",
       "      <th>数学</th>\n",
       "      <th>英语</th>\n",
       "      <th>总成绩</th>\n",
       "    </tr>\n",
       "  </thead>\n",
       "  <tbody>\n",
       "    <tr>\n",
       "      <th>马超</th>\n",
       "      <td>98</td>\n",
       "      <td>100</td>\n",
       "      <td>89</td>\n",
       "      <td>287</td>\n",
       "    </tr>\n",
       "    <tr>\n",
       "      <th>张飞</th>\n",
       "      <td>97</td>\n",
       "      <td>66</td>\n",
       "      <td>77</td>\n",
       "      <td>240</td>\n",
       "    </tr>\n",
       "    <tr>\n",
       "      <th>赵云</th>\n",
       "      <td>97</td>\n",
       "      <td>53</td>\n",
       "      <td>98</td>\n",
       "      <td>248</td>\n",
       "    </tr>\n",
       "  </tbody>\n",
       "</table>\n",
       "</div>"
      ]
     },
     "execution_count": 23,
     "metadata": {},
     "output_type": "execute_result"
    }
   ],
   "execution_count": 23
  },
  {
   "metadata": {
    "ExecuteTime": {
     "end_time": "2025-03-02T08:07:47.167526Z",
     "start_time": "2025-03-02T08:07:47.152576Z"
    }
   },
   "cell_type": "code",
   "source": [
    "#找出数学成绩最低的3名学生的信息。\n",
    "df.nsmallest(3,'数学')"
   ],
   "id": "f2ee95f91cc944ac",
   "outputs": [
    {
     "data": {
      "text/plain": [
       "    语文  数学  英语  总成绩\n",
       "赵云  97  53  98  248\n",
       "张飞  97  66  77  240\n",
       "黄忠  83  77  76  236"
      ],
      "text/html": [
       "<div>\n",
       "<style scoped>\n",
       "    .dataframe tbody tr th:only-of-type {\n",
       "        vertical-align: middle;\n",
       "    }\n",
       "\n",
       "    .dataframe tbody tr th {\n",
       "        vertical-align: top;\n",
       "    }\n",
       "\n",
       "    .dataframe thead th {\n",
       "        text-align: right;\n",
       "    }\n",
       "</style>\n",
       "<table border=\"1\" class=\"dataframe\">\n",
       "  <thead>\n",
       "    <tr style=\"text-align: right;\">\n",
       "      <th></th>\n",
       "      <th>语文</th>\n",
       "      <th>数学</th>\n",
       "      <th>英语</th>\n",
       "      <th>总成绩</th>\n",
       "    </tr>\n",
       "  </thead>\n",
       "  <tbody>\n",
       "    <tr>\n",
       "      <th>赵云</th>\n",
       "      <td>97</td>\n",
       "      <td>53</td>\n",
       "      <td>98</td>\n",
       "      <td>248</td>\n",
       "    </tr>\n",
       "    <tr>\n",
       "      <th>张飞</th>\n",
       "      <td>97</td>\n",
       "      <td>66</td>\n",
       "      <td>77</td>\n",
       "      <td>240</td>\n",
       "    </tr>\n",
       "    <tr>\n",
       "      <th>黄忠</th>\n",
       "      <td>83</td>\n",
       "      <td>77</td>\n",
       "      <td>76</td>\n",
       "      <td>236</td>\n",
       "    </tr>\n",
       "  </tbody>\n",
       "</table>\n",
       "</div>"
      ]
     },
     "execution_count": 24,
     "metadata": {},
     "output_type": "execute_result"
    }
   ],
   "execution_count": 24
  },
  {
   "metadata": {},
   "cell_type": "code",
   "outputs": [],
   "execution_count": null,
   "source": [
    "#分组聚合操作\n",
    "#我们先从 Excel 文件中读取一组销售数据，然后再为大家演示如何进行分组聚合操作。\n",
    "df = pd.read_excel('2020年销售数据.xlsx')\n",
    "df.head()\n",
    "#输出：\n",
    "    销售日期\t 销售区域   销售渠道  销售订单     品牌    售价  销售数量\n",
    "0   2020-01-01  上海       拼多多    182894-455  八匹马  99    83\n",
    "1   2020-01-01  上海       抖音      205635-402  八匹马  219   29\n",
    "2   2020-01-01  上海       天猫      205654-021  八匹马  169   85\n",
    "3   2020-01-01  上海       天猫      205654-519  八匹马  169   14\n",
    "4   2020-01-01  上海       天猫      377781-010  皮皮虾  249   61\n",
    "\n",
    "#如果我们要统计每个销售区域的销售总额，可以先通过“售价”和“销售数量”计算出销售额，为DataFrame添加一个列，代码如下所示。\n",
    "df['销售额'] = df['售价']*df['销售数量']\n",
    "df.head()\n",
    "#输出：\n",
    "    销售日期\t 销售区域   销售渠道  销售订单     品牌    售价  销售数量  销售额\n",
    "0   2020-01-01  上海       拼多多    182894-455  八匹马  99    83        8217\n",
    "1   2020-01-01  上海       抖音      205635-402  八匹马  219   29        6351\n",
    "2   2020-01-01  上海       天猫      205654-021  八匹马  169   85        14365\n",
    "3   2020-01-01  上海       天猫      205654-519  八匹马  169   14        2366\n",
    "4   2020-01-01  上海       天猫      377781-010  皮皮虾  249   61        15189\n",
    "\n",
    "#然后再根据“销售区域”列对数据进行分组，这里我们使用的是DataFrame对象的groupby方法。分组之后，我们取“销售额”这个列在分组内进行求和处理，代码和结果如下所示。\n",
    "df.groupby('销售区域').销售额.sum()\n",
    "#输出\n",
    "销售区域\n",
    "上海    11610489\n",
    "北京    12477717\n",
    "南京     1767301\n",
    "安徽      895463\n",
    "广东     1617949\n",
    "江苏      537079\n",
    "浙江      687862\n",
    "福建    10178227\n",
    "Name: 销售额, dtype: int64\n",
    "\n",
    "#如果我们要统计每个月的销售总额，我们可以将“销售日期”作为groupby`方法的参数，当然这里需要先将“销售日期”处理成月，代码和结果如下所示。\n",
    "df.groupby(df['销售日期'].dt.month).销售额.sum()\n",
    "#输出：\n",
    "销售日期\n",
    "1     5409855\n",
    "2     4608455\n",
    "3     4164972\n",
    "4     3996770\n",
    "5     3239005\n",
    "6     2817936\n",
    "7     3501304\n",
    "8     2948189\n",
    "9     2632960\n",
    "10    2375385\n",
    "11    2385283\n",
    "12    1691973\n",
    "Name: 销售额, dtype: int64\n",
    "\n",
    "#接下来我们将难度升级，统计每个销售区域每个月的销售总额，这又该如何处理呢？事实上，groupby方法的第一个参数可以是一个列表，列表中可以指定多个分组的依据，大家看看下面的代码和输出结果就明白了。\n",
    "df.groupby(['销售区域', df['销售日期'].dt.month]).销售额.sum()\n",
    "#输出\n",
    "销售区域  销售日期\n",
    "上海      1       1679125\n",
    "          2       1689527\n",
    "          3       1061193\n",
    "          4       1082187\n",
    "          5        841199\n",
    "          6        785404\n",
    "          7        863906\n",
    "          8        734937\n",
    "          9       1107693\n",
    "         10       412108\n",
    "         11       825169\n",
    "         12       528041\n",
    "北京     1       1878234\n",
    "         2       1807787\n",
    "         3       1360666\n",
    "         4       1205989\n",
    "         5        807300\n",
    "         6       1216432\n",
    "         7       1219083\n",
    "         8        645727\n",
    "         9        390077\n",
    "        10       671608\n",
    "        11       678668\n",
    "        12       596146\n",
    "南京     7        841032\n",
    "        10       710962\n",
    "        12       215307\n",
    "安徽     4        341308\n",
    "         5        554155\n",
    "广东     3        388180\n",
    "         8        469390\n",
    "         9        365191\n",
    "        11       395188\n",
    "江苏     4        537079\n",
    "浙江     3        248354\n",
    "         8        439508\n",
    "福建     1       1852496\n",
    "         2       1111141\n",
    "         3       1106579\n",
    "         4        830207\n",
    "         5       1036351\n",
    "         6        816100\n",
    "         7        577283\n",
    "         8        658627\n",
    "         9        769999\n",
    "        10       580707\n",
    "        11       486258\n",
    "        12       352479\n",
    "Name: 销售额, dtype: int64\n",
    "\n",
    "#如果希望统计出每个区域的销售总额以及每个区域单笔金额的最高和最低，我们可以在DataFrame或Series对象上使用agg方法并指定多个聚合函数，代码和结果如下所示。\n",
    "df.groupby('销售区域').销售额.agg(['sum', 'max', 'min'])\n",
    "#输出\n",
    "          sum        max        min\n",
    "销售区域\n",
    "上海      11610489   116303     948\n",
    "北京      12477717   133411     690\n",
    "南京      1767301    87527      1089\n",
    "安徽      895463     68502      1683\n",
    "广东      1617949    120807     990\n",
    "江苏      537079     114312     3383\n",
    "浙江      687862     90909      3927\n",
    "福建      10178227   87527      897\n",
    "#如果希望自定义聚合后的列的名字，可以使用如下所示的方法。\n",
    "df.groupby('销售区域').销售额.agg(销售总额='sum', 单笔最高='max', 单笔最低='min')\n",
    "#输出\n",
    "          销售总额   单笔最高    单笔最低\n",
    "销售区域\n",
    "上海      11610489   116303     948\n",
    "北京      12477717   133411     690\n",
    "南京      1767301    87527      1089\n",
    "安徽      895463     68502      1683\n",
    "广东      1617949    120807     990\n",
    "江苏      537079     114312     3383\n",
    "浙江      687862     90909      3927\n",
    "福建      10178227   87527      897\n",
    "\n",
    "#如果需要对多个列使用不同的聚合函数，例如“统计每个销售区域销售额的平均值以及销售数量的最低值和最高值”，我们可以按照下面的方式来操作。\n",
    "\n",
    "df.groupby('销售区域')[['销售额', '销售数量']].agg({\n",
    "    '销售额': 'mean', '销售数量': ['max', 'min']\n",
    "})"
   ],
   "id": "300b16a8c4582015"
  },
  {
   "metadata": {},
   "cell_type": "code",
   "outputs": [],
   "execution_count": null,
   "source": [
    "#透视表和交叉表\n",
    "#上面的例子中，“统计每个销售区域每个月的销售总额”会产生一个看起来很长的结果，在实际工作中我们通常把那些行很多列很少的表成为“窄表”，如果我们不想得到这样的一个“窄表”，可以使用DataFrame的pivot_table方法或者是pivot_table函数来生成透视表。透视表的本质就是对数据进行分组聚合操作，根据 A 列对 B 列进行统计，如果大家有使用 Excel 的经验，相信对透视表这个概念一定不会陌生。例如，我们要“统计每个销售区域的销售总额”，那么“销售区域”就是我们的 A 列，而“销售额”就是我们的 B 列，在pivot_table函数中分别对应index和values参数，这两个参数都可以是单个列或者多个列。\n",
    "pd.pivot_table(df, index='销售区域', values='销售额', aggfunc='sum')\n",
    "\n",
    "#注意：上面的结果操作跟之前用groupby的方式得到的结果有一些区别，groupby操作后，如果对单个列进行聚合，得到的结果是一个Series对象，而上面的结果是一个DataFrame 对象。\n",
    "\n",
    "pd.pivot_table(df, index=['销售区域', df['销售日期'].dt.month], values='销售额', aggfunc='sum')\n",
    "\n",
    "#上面的操作结果是一个DataFrame，但也是一个长长的“窄表”，如果希望做成一个行比较少列比较多的“宽表”，可以将index参数中的列放到columns参数中，代码如下所示。\n",
    "pd.pivot_table(\n",
    "    df, index='销售区域', columns=df['销售日期'].dt.month,\n",
    "    values='销售额', aggfunc='sum', fill_value=0\n",
    ")\n",
    "#说明：pivot_table函数的fill_value=0会将空值处理为0。"
   ],
   "id": "410503357be228ae"
  }
 ],
 "metadata": {
  "kernelspec": {
   "display_name": "Python 3",
   "language": "python",
   "name": "python3"
  },
  "language_info": {
   "codemirror_mode": {
    "name": "ipython",
    "version": 2
   },
   "file_extension": ".py",
   "mimetype": "text/x-python",
   "name": "python",
   "nbconvert_exporter": "python",
   "pygments_lexer": "ipython2",
   "version": "2.7.6"
  }
 },
 "nbformat": 4,
 "nbformat_minor": 5
}
